{
 "cells": [
  {
   "cell_type": "raw",
   "id": "6e738f92-e1fc-4079-a448-d70f1d033bf2",
   "metadata": {},
   "source": [
    "---\n",
    "title: \"Correción Examen I Bimestre MN \"\n",
    "author: \"Pasquel Johann\"\n",
    "lang: es\n",
    "format:\n",
    "  pdf:\n",
    "    toc: true\n",
    "    toc-title: \"Tabla de Contenidos\"\n",
    "execute:\n",
    "  echo: true\n",
    "  error: false\n",
    "  warning: false\n",
    "  jupyter: python3.11\n",
    "---"
   ]
  },
  {
   "cell_type": "markdown",
   "id": "0997497f-1cdc-4b13-bbf7-b5f32510215d",
   "metadata": {},
   "source": [
    "# GITHUB"
   ]
  },
  {
   "cell_type": "markdown",
   "id": "51e130ff-af73-4761-a17f-1a98c6ccf8c3",
   "metadata": {},
   "source": [
    "https://github.com/Vladimirjon/MetodosNumericos_PasquelJohann"
   ]
  },
  {
   "cell_type": "markdown",
   "id": "4f4c03ad-f7d5-439b-8687-9deb0936d33e",
   "metadata": {},
   "source": [
    "# CONJUNTO DE EJERCICIOS "
   ]
  },
  {
   "cell_type": "markdown",
   "id": "39e4691f-ab02-4703-8b38-9ffbdaeac808",
   "metadata": {},
   "source": [
    "## PREGUNTA 1"
   ]
  },
  {
   "cell_type": "markdown",
   "id": "024558fc-c13d-4e91-b4ad-7bb43585e115",
   "metadata": {},
   "source": [
    "### Error y redondeo"
   ]
  },
  {
   "cell_type": "markdown",
   "id": "d8337722-f61e-4bce-b01b-129af935b7c5",
   "metadata": {},
   "source": [
    "Dados los puntos $(x_0,y_0)$ y $(x_1,y_1)$ , existen dos fórmulas para encontrar la intersección $x$ de la línea:"
   ]
  },
  {
   "cell_type": "markdown",
   "id": "c666e714-3ebd-4e18-9467-3e138651104d",
   "metadata": {},
   "source": [
    "Método A\n",
    "$$x = \\frac{x_0 \\cdot y_1 - x_1 \\cdot y_0}{y_1 - y_0}$$"
   ]
  },
  {
   "cell_type": "markdown",
   "id": "68f1d384-0196-476e-9dce-0dcf46feffa2",
   "metadata": {},
   "source": [
    "Método B\n",
    "\n",
    "$$x = x = x_0 - \\frac{(x_1 - x_0) \\cdot y_0}{y_1 - y_0}$$"
   ]
  },
  {
   "cell_type": "markdown",
   "id": "f111b768-b2e5-48dc-b4b5-8ac541f3f6be",
   "metadata": {},
   "source": [
    "Usando los datos $(x_0,y_0) = (1.31,3.24)$ y $(x_1,y_1) = (1.93,4.76)$"
   ]
  },
  {
   "cell_type": "markdown",
   "id": "66129f20-22f7-4a16-8cea-2170f84b1579",
   "metadata": {},
   "source": [
    "El valor real de la  intersección $x$ (asumiendo redondeo a 6 cifras significativas):"
   ]
  },
  {
   "cell_type": "markdown",
   "id": "709d90f6-9bc5-426f-bb68-4da958db5c95",
   "metadata": {},
   "source": [
    "Utilizando el Método A"
   ]
  },
  {
   "cell_type": "markdown",
   "id": "a10ffa85-8224-4ea2-a0ea-3fd81680dba5",
   "metadata": {},
   "source": [
    "Reemplazamos\n",
    "\n",
    "$x = \\frac{1.31 \\cdot 4.76 - 1.93 \\cdot 3.24}{4.76 - 3.24}$\n",
    "\n",
    "$x = \\frac{6.2356 - 6.2532}{1.52}$\n",
    "\n",
    "$x = \\frac{-0.0176}{1.52}$\n",
    "\n",
    "$x = -0.01157894737$"
   ]
  },
  {
   "cell_type": "markdown",
   "id": "1fb21cfb-4abc-452c-bed5-708a3ae07a00",
   "metadata": {},
   "source": [
    "$$x = -0.011579$$"
   ]
  },
  {
   "cell_type": "markdown",
   "id": "654f53a1-c1c8-4b7c-b6ac-61a114c1267d",
   "metadata": {},
   "source": [
    "Usando aritmética de computador con redondeo a 3 cifras significativas resuelva para ambos métodos."
   ]
  },
  {
   "cell_type": "markdown",
   "id": "f4d9bb4c-41a9-4e97-8caa-b77506099a1b",
   "metadata": {},
   "source": [
    "#### Usando el método A:"
   ]
  },
  {
   "cell_type": "markdown",
   "id": "91015981-b464-44c0-b71c-dfbeb281b2a0",
   "metadata": {},
   "source": [
    "$x = -0.019$"
   ]
  },
  {
   "cell_type": "markdown",
   "id": "44e74d5f-866e-418e-8f6d-e91110afd737",
   "metadata": {},
   "source": [
    "El error relativo (redondeado a 3 cifras significativas) del método B es:\n",
    "\n",
    "$ϵ = 0.701$"
   ]
  },
  {
   "cell_type": "markdown",
   "id": "b9825cc9-e9c1-4c9c-8e9c-8040c96b6c79",
   "metadata": {},
   "source": [
    "#### Usando el método B:"
   ]
  },
  {
   "cell_type": "markdown",
   "id": "bc520d26-1d63-4cc5-a8a3-9c4d98105239",
   "metadata": {},
   "source": [
    "$x = -0.010$"
   ]
  },
  {
   "cell_type": "markdown",
   "id": "48486623-4fa8-48b2-bac4-07250028828a",
   "metadata": {},
   "source": [
    "El error relativo (redondeado a 3 cifras significativas) del método B es:\n",
    "\n",
    "$ϵ = 0.136$"
   ]
  },
  {
   "cell_type": "markdown",
   "id": "bb1b4596-497d-49bc-96c5-0dac46cada77",
   "metadata": {},
   "source": [
    "De esta manera se puede concluir que el **método B** es mejor que el método A"
   ]
  },
  {
   "cell_type": "markdown",
   "id": "bf2d6983-10c1-478e-8375-cc16c85de6c3",
   "metadata": {},
   "source": [
    "## PREGUNTA 2"
   ]
  },
  {
   "cell_type": "markdown",
   "id": "4cd61976-794d-4926-a9d7-b4d9d9ebfe0b",
   "metadata": {},
   "source": [
    "### Serie de Maclaurin para la función arcotangente"
   ]
  },
  {
   "cell_type": "markdown",
   "id": "51d7da01-126c-4cdf-bdfb-aa2505aa30c8",
   "metadata": {},
   "source": [
    "$$x - \\frac{1}{3}x^3 + \\frac{1}{5}x^5$$"
   ]
  },
  {
   "cell_type": "markdown",
   "id": "3113e228-6581-478d-9096-1321ce2a7df7",
   "metadata": {},
   "source": [
    "Asumiendo que $\\pi = 3.141569$ se calcula el errpr relativo para las siguientes aproximaciones de $\\pi$ mediante el polinomio"
   ]
  },
  {
   "cell_type": "markdown",
   "id": "dc1472f0-29be-4702-8c3a-4210065b7f01",
   "metadata": {},
   "source": [
    "#### $4(arctan(\\frac{1}{2})+arctan(\\frac{1}{3}))$"
   ]
  },
  {
   "cell_type": "markdown",
   "id": "304c55a8-c4cd-4862-bb5c-827d7e0c64ee",
   "metadata": {},
   "source": [
    "$4 ((\\frac{1}{2} - \\frac{(\\frac{1}{2})^3}{3}+ \\frac{(\\frac{1}{2})^5}{5}) + (\\frac{1}{3} - \\frac{(\\frac{1}{3})^3}{3}+ \\frac{(\\frac{1}{3})^5}{5}))$"
   ]
  },
  {
   "cell_type": "markdown",
   "id": "e351c2a7-fa66-4a97-a780-d3a552b41f52",
   "metadata": {},
   "source": [
    "$4(arctan(\\frac{1}{2})+arctan(\\frac{1}{3}))= 3.145$"
   ]
  },
  {
   "cell_type": "markdown",
   "id": "ab78c23d-87a3-4db4-bd6a-a41d557c3539",
   "metadata": {},
   "source": [
    "$ϵ = 0.0012$"
   ]
  },
  {
   "cell_type": "markdown",
   "id": "808bb0bb-6839-499b-aa0f-ccc6bf8a1ec6",
   "metadata": {},
   "source": [
    "$ϵ < 10 ^ n$ , de esta manera $n = -2$"
   ]
  },
  {
   "cell_type": "markdown",
   "id": "acf823cd-9ab1-43a6-bc15-2500efbd3187",
   "metadata": {},
   "source": [
    "#### $16arctan(\\frac{1}{5})-4arctan(\\frac{1}{239})$"
   ]
  },
  {
   "cell_type": "markdown",
   "id": "62ab912a-c27f-48a5-821e-c753df395a67",
   "metadata": {},
   "source": [
    "$16 (\\frac{1}{5} - \\frac{(\\frac{1}{5})^3}{3}+ \\frac{(\\frac{1}{5})^5}{5}) - 4 (\\frac{1}{239} - \\frac{(\\frac{1}{239})^3}{3}+ \\frac{(\\frac{1}{239})^5}{5})$"
   ]
  },
  {
   "cell_type": "markdown",
   "id": "34a41f35-cd77-481a-91d1-738d908bb082",
   "metadata": {},
   "source": [
    "$16arctan(\\frac{1}{5})-4arctan(\\frac{1}{239}) = 3.141$"
   ]
  },
  {
   "cell_type": "markdown",
   "id": "4385a186-e3bc-40df-8bee-817d38cff657",
   "metadata": {},
   "source": [
    "$ϵ = 0.000009877$"
   ]
  },
  {
   "cell_type": "markdown",
   "id": "d335d69a-d39f-4e9c-9388-e410164f6355",
   "metadata": {},
   "source": [
    "$ϵ < 10 ^ n$ , de esta manera $n = -5$"
   ]
  },
  {
   "cell_type": "markdown",
   "id": "a3764f63-2bcd-4205-9fca-df99ca2fa4e6",
   "metadata": {},
   "source": [
    "## PREGUNTA 3"
   ]
  },
  {
   "cell_type": "markdown",
   "id": "80a9fbe0-3f01-4b26-916b-da01a18255f8",
   "metadata": {},
   "source": [
    "### Método de Newton para encontrar raíces se basa en la siguiente ecuación:"
   ]
  },
  {
   "cell_type": "markdown",
   "id": "2b6bb973-4839-43cf-9613-20f283268186",
   "metadata": {},
   "source": [
    "$$x_{n+1} = x_n - \\frac{f(x_n)}{f'(x_n)}$$"
   ]
  },
  {
   "cell_type": "markdown",
   "id": "7fad9fc6-d965-4fb3-b982-817ca8bd8e3e",
   "metadata": {},
   "source": [
    "Para la ecuación:"
   ]
  },
  {
   "cell_type": "markdown",
   "id": "a2c66ec1-4e8e-4ca1-a5c7-827612a121e5",
   "metadata": {},
   "source": [
    "$$x^3 +x = 1+3x^2$$"
   ]
  },
  {
   "cell_type": "code",
   "execution_count": 9,
   "id": "8e3302fb-4ccb-4646-88d8-32af20636b11",
   "metadata": {},
   "outputs": [],
   "source": [
    "x_sol = 2.769"
   ]
  },
  {
   "cell_type": "code",
   "execution_count": 17,
   "id": "9a93b7c0-a323-4a32-afb0-8e7050444881",
   "metadata": {},
   "outputs": [],
   "source": [
    "import numpy as np\n",
    "\n",
    "def newton_method(func, func_prime, x0, tol=1e-6, max_iter=100):\n",
    "    x_n = x0\n",
    "    for i in range(max_iter):\n",
    "        f_xn = func(x_n)\n",
    "        f_prime_xn = func_prime(x_n)\n",
    "        \n",
    "        if abs(f_prime_xn) < 1e-12:  \n",
    "            return \"Error [división para 0]\"\n",
    "        \n",
    "        x_n1 = x_n - f_xn / f_prime_xn\n",
    "        \n",
    "        if abs(x_n1 - x_n) < tol:  \n",
    "            return f\"x_sol = {x_n1:.6f}\"\n",
    "        \n",
    "        x_n = x_n1\n",
    "    \n",
    "    return \"Error [diverge u oscila]\"\n",
    "\n",
    "\n",
    "def f(x):\n",
    "    return x**3 + x - (1 + 3*x**2)\n",
    "\n",
    "def f_prime(x):\n",
    "    return 3*x**2 + 1 - 6*x"
   ]
  },
  {
   "cell_type": "markdown",
   "id": "d19abe3a-ad37-4f50-bfff-296addf73559",
   "metadata": {},
   "source": [
    "En los puntos:"
   ]
  },
  {
   "cell_type": "markdown",
   "id": "d7389887-7ae5-43c6-adb7-51abf358c9af",
   "metadata": {},
   "source": [
    "$x_0 = 3$"
   ]
  },
  {
   "cell_type": "code",
   "execution_count": 19,
   "id": "c3bc53ed-f678-4615-b1eb-aa5f120d6946",
   "metadata": {},
   "outputs": [
    {
     "name": "stdout",
     "output_type": "stream",
     "text": [
      "x0 = 3 -> Resultado: x_sol = 2.769292\n"
     ]
    }
   ],
   "source": [
    "x0 = 3\n",
    "\n",
    "resultado = newton_method(f, f_prime, x0)\n",
    "print(f\"x0 = {x0} -> Resultado: {resultado}\")"
   ]
  },
  {
   "cell_type": "markdown",
   "id": "135588d5-4013-4570-afe5-b2979e2af47d",
   "metadata": {},
   "source": [
    "$x_0 = 1$"
   ]
  },
  {
   "cell_type": "code",
   "execution_count": 20,
   "id": "0d1ff504-5bd3-4946-aed9-7141b1ec2a30",
   "metadata": {},
   "outputs": [
    {
     "name": "stdout",
     "output_type": "stream",
     "text": [
      "x0 = 1 -> Resultado: Error [diverge u oscila]\n"
     ]
    }
   ],
   "source": [
    "x0 = 1\n",
    "\n",
    "resultado = newton_method(f, f_prime, x0)\n",
    "print(f\"x0 = {x0} -> Resultado: {resultado}\")"
   ]
  },
  {
   "cell_type": "markdown",
   "id": "b62f7173-6951-4190-9c9e-a6b7620306ee",
   "metadata": {},
   "source": [
    "$x_0 = 0$"
   ]
  },
  {
   "cell_type": "code",
   "execution_count": 21,
   "id": "606694c3-c8c1-47da-9594-d7ce0b313125",
   "metadata": {},
   "outputs": [
    {
     "name": "stdout",
     "output_type": "stream",
     "text": [
      "x0 = 0 -> Resultado: Error [diverge u oscila]\n"
     ]
    }
   ],
   "source": [
    "x0 = 0\n",
    "\n",
    "resultado = newton_method(f, f_prime, x0)\n",
    "print(f\"x0 = {x0} -> Resultado: {resultado}\")"
   ]
  },
  {
   "cell_type": "markdown",
   "id": "0af9512d-2bf5-40b0-b986-f364286b3e5a",
   "metadata": {},
   "source": [
    "$x_0 = 1 + \\frac{\\sqrt{6}}{3}$"
   ]
  },
  {
   "cell_type": "code",
   "execution_count": 24,
   "id": "b76d10c0-6a57-4926-b7b2-f4603f845655",
   "metadata": {},
   "outputs": [
    {
     "name": "stdout",
     "output_type": "stream",
     "text": [
      "x0 = 1.8164965809277258 -> Resultado: Error [división para 0]\n"
     ]
    }
   ],
   "source": [
    "import math \n",
    "\n",
    "x0 = 1 + math.sqrt(6)/3\n",
    "\n",
    "resultado = newton_method(f, f_prime, x0)\n",
    "print(f\"x0 = {x0} -> Resultado: {resultado}\")"
   ]
  },
  {
   "cell_type": "markdown",
   "id": "02085d58-1921-4b6d-ab83-789507fa259e",
   "metadata": {},
   "source": [
    "## PREGUNTA 4"
   ]
  },
  {
   "cell_type": "markdown",
   "id": "2272dcc6-1a8e-4389-8da0-9f9bb695d120",
   "metadata": {},
   "source": [
    "### Método de la Secante "
   ]
  },
  {
   "cell_type": "markdown",
   "id": "4c4b439b-b3cf-4dd0-ace3-a23fd5397ac0",
   "metadata": {},
   "source": [
    "En el método de la Secante se basa en la siguiente fórmula:\n",
    "$$x_n = x_{n-1} - \\frac{y_{n-1} (x_{n-1} - x_{n-2})}{y_{n-1} -y_{n-2}} $$"
   ]
  },
  {
   "cell_type": "markdown",
   "id": "1730bd75-d405-456c-8d45-f498e8591023",
   "metadata": {},
   "source": [
    "En base a esta fórmula, se ha generado el siguiente código. "
   ]
  },
  {
   "cell_type": "code",
   "execution_count": 2,
   "id": "d3dffebf-41b8-4c04-8b6a-119af09bd364",
   "metadata": {},
   "outputs": [],
   "source": [
    "def secant_method(f, x0, x1, tol=1e-6, max_iter=100):    \n",
    "    x_prev = x0\n",
    "    x_curr = x1\n",
    "    iter_count = 0\n",
    "\n",
    "    while abs(f(x_curr)) > tol and iter_count < max_iter:\n",
    "        # Calculate the next approximation using the secant method formula\n",
    "        x_next = x_curr - f(x_curr) * (x_curr - x_prev) / (f(x_curr) - f(x_prev))\n",
    "\n",
    "        # Update variables for the next iteration\n",
    "        x_prev = x_curr\n",
    "        x_curr = x_next\n",
    "        iter_count += 1\n",
    "\n",
    "    return x_curr, iter_count"
   ]
  },
  {
   "cell_type": "markdown",
   "id": "40aa2dd4-dccd-494e-a24d-335baa907675",
   "metadata": {},
   "source": [
    "Código corregido y optimizado:"
   ]
  },
  {
   "cell_type": "code",
   "execution_count": 4,
   "id": "44acfdf3-2ebd-477a-a874-763c7b25cf49",
   "metadata": {},
   "outputs": [],
   "source": [
    "def optmizado_secante (f, x0: float, x1: float, tol: float = 1e-6, max_iter: int = 100) -> tuple[float, int]:\n",
    "    # Inicializamos las variables\n",
    "    x_anterior = x0\n",
    "    x_actual = x1\n",
    "    f_anterior = f(x_anterior)  # Calculamos una vez f(x0)\n",
    "    f_actual = f(x_actual)  # Calculamos una vez f(x1)\n",
    "    iter_count = 0\n",
    "\n",
    "    while abs(f_actual) > tol and iter_count < max_iter:\n",
    "\n",
    "        # Calculamos la siguiente aproximación utilizando los valores almacenados\n",
    "        x_siguiente = x_actual - f_actual * (x_actual - x_anterior) / (f_actual - f_anterior)\n",
    "\n",
    "        # Actualizamos las variables\n",
    "        x_anterior, f_anterior = x_actual, f_actual\n",
    "        x_actual = x_siguiente\n",
    "        f_actual = f(x_actual)  # Calculamos f(x_siguiente) para la siguiente iteración\n",
    "        iter_count += 1\n",
    "\n",
    "    return x_actual, iter_count"
   ]
  },
  {
   "cell_type": "code",
   "execution_count": 5,
   "id": "9220fb99-96e3-42b0-81d8-c4b8e65d4e2c",
   "metadata": {},
   "outputs": [
    {
     "name": "stdout",
     "output_type": "stream",
     "text": [
      "Llamada i=1\t x=2.00000\t y=-3.00\n",
      "Llamada i=2\t x=3.00000\t y=2.00\n",
      "Llamada i=3\t x=2.60000\t y=-1.10\n",
      "Llamada i=4\t x=2.74227\t y=-0.20\n",
      "Llamada i=5\t x=2.77296\t y=0.03\n",
      "Llamada i=6\t x=2.76922\t y=-0.00\n",
      "Llamada i=7\t x=2.76929\t y=-0.00\n",
      "Llamada i=8\t x=2.76929\t y=0.00\n"
     ]
    },
    {
     "data": {
      "text/plain": [
       "(2.7692923542484045, 6)"
      ]
     },
     "execution_count": 5,
     "metadata": {},
     "output_type": "execute_result"
    }
   ],
   "source": [
    "i = 0\n",
    "\n",
    "\n",
    "def func(x):\n",
    "    global i\n",
    "    i += 1\n",
    "    y = x**3 - 3 * x**2 + x - 1\n",
    "    print(f\"Llamada i={i}\\t x={x:.5f}\\t y={y:.2f}\")\n",
    "    return y\n",
    "\n",
    "\n",
    "optmizado_secante(func, x0=2, x1=3)"
   ]
  },
  {
   "cell_type": "code",
   "execution_count": 6,
   "id": "02f8b011-2b52-4d3c-b2c7-8c10ff391fbc",
   "metadata": {},
   "outputs": [
    {
     "name": "stdout",
     "output_type": "stream",
     "text": [
      "Llamada i=1\t x=2.00000\t y=1.41\n",
      "Llamada i=2\t x=3.00000\t y=0.64\n",
      "Llamada i=3\t x=3.83460\t y=-0.14\n",
      "Llamada i=4\t x=3.68602\t y=-0.02\n",
      "Llamada i=5\t x=3.66399\t y=0.00\n",
      "Llamada i=6\t x=3.66520\t y=-0.00\n",
      "Llamada i=7\t x=3.66519\t y=-0.00\n"
     ]
    },
    {
     "data": {
      "text/plain": [
       "(3.66519143172732, 5)"
      ]
     },
     "execution_count": 6,
     "metadata": {},
     "output_type": "execute_result"
    }
   ],
   "source": [
    "i = 0\n",
    "import math\n",
    "\n",
    "\n",
    "def func(x):\n",
    "    global i\n",
    "    i += 1\n",
    "    y = math.sin(x) + 0.5\n",
    "    print(f\"Llamada i={i}\\t x={x:.5f}\\t y={y:.2f}\")\n",
    "    return y\n",
    "\n",
    "\n",
    "optmizado_secante(func, x0=2, x1=3)"
   ]
  },
  {
   "cell_type": "markdown",
   "id": "b05ed1e9-7f0e-4a56-8d8a-ec7a697da5fb",
   "metadata": {},
   "source": [
    "## PREGUNTA 5"
   ]
  },
  {
   "cell_type": "markdown",
   "id": "0da1e43a-b380-481e-997c-9f42900c4688",
   "metadata": {},
   "source": [
    "### ¿A cuál solución converge el método de la Bisección en los siguientes intervalos?"
   ]
  },
  {
   "cell_type": "markdown",
   "id": "89b23ed1-6239-4891-80f0-4fc3a1eda6f7",
   "metadata": {},
   "source": [
    "La función $sin(x)$ tienen infinitas soluciones {$...,-2 \\pi,-\\pi,0,\\pi,2\\pi,...$}"
   ]
  },
  {
   "cell_type": "markdown",
   "id": "4194d887-dc0f-4725-bc61-fec57ccf08fe",
   "metadata": {},
   "source": [
    "![Función sin(x)](./img/Pregunta5.jpeg)"
   ]
  },
  {
   "cell_type": "code",
   "execution_count": 66,
   "id": "59c9f9bf-ebb4-4d29-b93b-c8d411e03b65",
   "metadata": {},
   "outputs": [],
   "source": [
    "import numpy as np\n",
    "\n",
    "def biseccion(func, a, b, tol=1e-6, max_iter=100):\n",
    "    try:\n",
    "\n",
    "        if func(a) * func(b) >= 0:\n",
    "            raise ValueError(\"f(a) y f(b) no tienen signos opuestos.\")\n",
    "        \n",
    "        iteraciones = 0\n",
    "        while (b - a) / 2 > tol and iteraciones < max_iter:\n",
    "            c = (a + b) / 2\n",
    "            if func(c) == 0:  \n",
    "                return c\n",
    "            elif func(a) * func(c) < 0:\n",
    "                b = c\n",
    "            else:\n",
    "                a = c\n",
    "            iteraciones += 1\n",
    "\n",
    "        return (a + b) / 2  \n",
    "\n",
    "    except ValueError as e:\n",
    "        return f\"No se puede aplicar el método de bisección: {e}\"\n",
    "\n",
    "def sinx(x):\n",
    "    return np.sin(x)"
   ]
  },
  {
   "cell_type": "code",
   "execution_count": 61,
   "id": "d71e5ad6-c6e1-476c-b80e-2a79d47aa1d9",
   "metadata": {},
   "outputs": [],
   "source": [
    "def resultado_biseccion(func, a, b, tol=1e-6, max_iter=100):\n",
    "\n",
    "    resultado = biseccion(func, a, b, tol, max_iter)\n",
    "    if isinstance(resultado, str):\n",
    "        print(resultado)  \n",
    "    else:\n",
    "        print(f\"La raíz aproximada en el intervalo [{a}, {b}] es: {resultado:.6f}\")\n"
   ]
  },
  {
   "cell_type": "markdown",
   "id": "3159c7ea-4ce4-40e0-8daf-ef209d8641f1",
   "metadata": {},
   "source": [
    "$a = 3,b = 5$"
   ]
  },
  {
   "cell_type": "code",
   "execution_count": 60,
   "id": "8309b1b0-779f-4fc6-9a13-b2ba83fb0625",
   "metadata": {},
   "outputs": [
    {
     "name": "stdout",
     "output_type": "stream",
     "text": [
      "La raíz aproximada en el intervalo [3, 5] es: 3.141593\n"
     ]
    }
   ],
   "source": [
    "a = 3\n",
    "b = 5\n",
    "\n",
    "resultado_biseccion(sinx,a,b)"
   ]
  },
  {
   "cell_type": "markdown",
   "id": "3e734ef5-a547-4139-8175-0ddcf79d4ee0",
   "metadata": {},
   "source": [
    "**Converge en $\\pi$**"
   ]
  },
  {
   "cell_type": "markdown",
   "id": "549c9a2d-a411-4cb2-8e26-a5d4ec21e72f",
   "metadata": {},
   "source": [
    "$a = -4,b = 5$"
   ]
  },
  {
   "cell_type": "code",
   "execution_count": 59,
   "id": "98d8bcb4-191d-4e64-9167-7b837b63b1f5",
   "metadata": {},
   "outputs": [
    {
     "name": "stdout",
     "output_type": "stream",
     "text": [
      "La raíz aproximada en el intervalo [-4, 5] es: 3.141592\n"
     ]
    }
   ],
   "source": [
    "a = -4\n",
    "b = 5\n",
    "\n",
    "resultado_biseccion(sinx,a,b)"
   ]
  },
  {
   "cell_type": "markdown",
   "id": "036c0dc8-ca9c-4318-91e7-7206d1fd7f83",
   "metadata": {},
   "source": [
    "**Converge en $\\pi$**"
   ]
  },
  {
   "cell_type": "markdown",
   "id": "500dea60-7ffb-431b-b012-3d7bb1a17444",
   "metadata": {},
   "source": [
    "$a = -5,b = 4$"
   ]
  },
  {
   "cell_type": "code",
   "execution_count": 58,
   "id": "150dd919-8620-471b-aa0c-4f91171c43aa",
   "metadata": {},
   "outputs": [
    {
     "name": "stdout",
     "output_type": "stream",
     "text": [
      "La raíz aproximada en el intervalo [-5, 4] es: -3.141592\n"
     ]
    }
   ],
   "source": [
    "a = -5\n",
    "b = 4\n",
    "\n",
    "resultado_biseccion(sinx,a,b)"
   ]
  },
  {
   "cell_type": "markdown",
   "id": "f8571d82-21a6-4dc1-89f9-45d75093c405",
   "metadata": {},
   "source": [
    "**Converge en $-\\pi$**"
   ]
  },
  {
   "cell_type": "markdown",
   "id": "84d273c6-1289-4fb0-a978-a17c33a0e06a",
   "metadata": {},
   "source": [
    "$a = -1,b = 2$"
   ]
  },
  {
   "cell_type": "code",
   "execution_count": 57,
   "id": "8ef5ccf3-46ed-402f-89da-7be1c7c7f223",
   "metadata": {},
   "outputs": [
    {
     "name": "stdout",
     "output_type": "stream",
     "text": [
      "La raíz aproximada en el intervalo [-1, 2] es: -0.000000\n"
     ]
    }
   ],
   "source": [
    "a = -1\n",
    "b = 2\n",
    "\n",
    "resultado_biseccion(sinx,a,b)"
   ]
  },
  {
   "cell_type": "markdown",
   "id": "d2f5aa09-7383-431b-a76b-1a59f96551d9",
   "metadata": {},
   "source": [
    "**Converge en 0**"
   ]
  },
  {
   "cell_type": "markdown",
   "id": "39503fbc-7115-464b-b3a1-cfa936974dde",
   "metadata": {},
   "source": [
    "$a = -3.5, b = 3$"
   ]
  },
  {
   "cell_type": "code",
   "execution_count": 55,
   "id": "79e88961-bd8e-4770-9108-b8549b9a4798",
   "metadata": {},
   "outputs": [
    {
     "name": "stdout",
     "output_type": "stream",
     "text": [
      "No se puede aplicar el método de bisección: f(a) y f(b) no tienen signos opuestos.\n"
     ]
    }
   ],
   "source": [
    "a = -3.5\n",
    "b = 3\n",
    "\n",
    "resultado_biseccion(sinx,a,b)"
   ]
  },
  {
   "cell_type": "markdown",
   "id": "fe3f4bf9-17a7-4364-a5da-9ba5ef8fc703",
   "metadata": {},
   "source": [
    "**No converge porque no cambia de signo**"
   ]
  },
  {
   "cell_type": "markdown",
   "id": "851d7b08-6693-4add-951e-2f56b3565ca9",
   "metadata": {},
   "source": [
    "$a = -2.5, b = -1$"
   ]
  },
  {
   "cell_type": "code",
   "execution_count": 56,
   "id": "0f9ab48d-5879-45cc-bc30-ffbc110efffc",
   "metadata": {},
   "outputs": [
    {
     "name": "stdout",
     "output_type": "stream",
     "text": [
      "No se puede aplicar el método de bisección: f(a) y f(b) no tienen signos opuestos.\n"
     ]
    }
   ],
   "source": [
    "a = -2.5\n",
    "b = -1\n",
    "\n",
    "resultado_biseccion(sinx,a,b)"
   ]
  },
  {
   "cell_type": "markdown",
   "id": "dac9b399-989a-4858-b2e7-c7b8e63a65bb",
   "metadata": {},
   "source": [
    "**No converge porque no cambia de signo**"
   ]
  },
  {
   "cell_type": "markdown",
   "id": "229bcb51-765b-4c45-983a-67454dc2fefc",
   "metadata": {},
   "source": [
    "## PREGUNTA 6"
   ]
  },
  {
   "cell_type": "markdown",
   "id": "3eb7e0df-affe-4ef9-b85a-3adb22f3373d",
   "metadata": {},
   "source": [
    "### Calcular el polinomio de Lagrange dados los puntos $(0,0)$, $(1,1)$, $(2,2)$, $(3,3)$ "
   ]
  },
  {
   "cell_type": "code",
   "execution_count": 2,
   "id": "c6a98579-29f9-4cf8-9369-f2508f39fedc",
   "metadata": {},
   "outputs": [],
   "source": [
    "import numpy as np\n",
    "import matplotlib.pyplot as plt\n",
    "\n",
    "\n",
    "x_s = np.array([0,1,2,3])\n",
    "y_s = np.array([0,1,2,3])"
   ]
  },
  {
   "cell_type": "code",
   "execution_count": 13,
   "id": "21fc857f-2f60-4e55-93af-47e431fb9c7d",
   "metadata": {},
   "outputs": [
    {
     "data": {
      "image/png": "[encoded data removed]",
      "text/plain": [
       "<Figure size 640x480 with 1 Axes>"
      ]
     },
     "metadata": {},
     "output_type": "display_data"
    }
   ],
   "source": [
    "import matplotlib.pyplot as plt\n",
    "\n",
    "plt.scatter(x_s,y_s)\n",
    "plt.xlabel(\"x_s\")\n",
    "plt.ylabel(\"y_s\")\n",
    "plt.title(\"- Puntos a usar -\")\n",
    "plt.show()"
   ]
  },
  {
   "cell_type": "markdown",
   "id": "0fd0a1cf-7447-4f22-8404-d2ad6313a5fd",
   "metadata": {},
   "source": [
    "La interpolación de un conjunto de puntos usando polinomios de Lagrange $P(x)$ está dada por la fórmula: \n",
    "\n",
    "$$\n",
    "P(x) = \\sum_{k=0}^n f(x_k) L_k(x)\n",
    "$$\n",
    "\n",
    "Donde:\n",
    "\n",
    "$$\n",
    "L_k(x) = \\prod_{\\substack{i=0 \\\\ i \\neq k}}^n \\frac{x - x_i}{x_k - x_i}\n",
    "$$"
   ]
  },
  {
   "cell_type": "code",
   "execution_count": 5,
   "id": "0239a45b-24d4-4238-a1d6-2fd0d3c4622a",
   "metadata": {},
   "outputs": [],
   "source": [
    "def lagrange_polynomial(x: float, x_points: np.ndarray, y_points: np.ndarray) -> float:\n",
    "    n = len(x_points)\n",
    "    result = 0\n",
    "    for k in range(n):\n",
    "        L_k = 1\n",
    "        for i in range(n):\n",
    "            if i != k:\n",
    "                L_k *= (x - x_points[i]) / (x_points[k] - x_points[i])\n",
    "        result += y_points[k] * L_k\n",
    "    return result"
   ]
  },
  {
   "cell_type": "code",
   "execution_count": 6,
   "id": "09e84e67-b210-4e6f-9724-982da18c291a",
   "metadata": {},
   "outputs": [],
   "source": [
    "x_values = np.linspace(min(x_s), max(x_s), 500)\n",
    "y_values = [lagrange_polynomial(x, x_s, y_s) for x in x_values]"
   ]
  },
  {
   "cell_type": "code",
   "execution_count": 9,
   "id": "04dbe7e8-4e2c-4dbe-9965-7f6987c2bfc9",
   "metadata": {},
   "outputs": [
    {
     "data": {
      "image/png": "[encoded data removed]",
      "text/plain": [
       "<Figure size 640x480 with 1 Axes>"
      ]
     },
     "metadata": {},
     "output_type": "display_data"
    }
   ],
   "source": [
    "plt.plot(x_values, y_values)\n",
    "plt.scatter(x_s, y_s, color=\"red\", label=\"Puntos dados\")\n",
    "plt.xlabel(\"x\")\n",
    "plt.ylabel(\"f(x)\")\n",
    "plt.title(\"Lagrange\")\n",
    "plt.legend()\n",
    "plt.grid()\n",
    "plt.show()"
   ]
  },
  {
   "cell_type": "markdown",
   "id": "19a469ef-8040-499c-8a60-c43ac21675c4",
   "metadata": {},
   "source": [
    "**El Polinomio de Lagrange resultante es: $P(x) = x$**"
   ]
  },
  {
   "cell_type": "markdown",
   "id": "de326766-f7fd-412b-b036-85e5c74569d9",
   "metadata": {},
   "source": [
    "Por lo tanto el polinomio $P(x) = x$ en los puntos:"
   ]
  },
  {
   "cell_type": "markdown",
   "id": "eb879a23-b836-42a1-9bb7-12464b8ea2ba",
   "metadata": {},
   "source": [
    "$P(x = 3.78) = 3.78$\n",
    "\n",
    "$P(x = 19.102) = 19.102$"
   ]
  },
  {
   "cell_type": "markdown",
   "id": "6523f1e5-4c34-4fc5-a1df-baa4ac0b0805",
   "metadata": {},
   "source": [
    "## PREGUNTA 7"
   ]
  },
  {
   "cell_type": "markdown",
   "id": "b50ebfdc-6297-4b31-b4cb-b3b39154e7ae",
   "metadata": {},
   "source": [
    "### Dados los puntos $(-1,1)$, $(1,3)$. Determine el spline cúbico ### \n",
    "Teniendo en cuenta que $f'(x_0) = 1, f'(x_n) = 2$"
   ]
  },
  {
   "cell_type": "markdown",
   "id": "8eb11292-bd53-49dd-b4a6-62334d4c2602",
   "metadata": {},
   "source": [
    "Se procede a obtener las ecuaciones:"
   ]
  },
  {
   "cell_type": "markdown",
   "id": "bd2ce208-bbcd-41ce-9789-eb4af703af05",
   "metadata": {},
   "source": [
    "$S_0(x_0) = y_0$\n",
    "\n",
    "$S_0(x_1) = y_1$\n",
    "\n",
    "$S_0'(x_0) = 1$\n",
    "\n",
    "$S_1'(x_1) = 2$\n",
    "\n"
   ]
  },
  {
   "cell_type": "code",
   "execution_count": 8,
   "id": "b01f76dd-3041-4398-87b1-a1b0d6cb08e5",
   "metadata": {},
   "outputs": [
    {
     "data": {
      "image/png": "[encoded data removed]",
      "text/plain": [
       "<Figure size 640x480 with 1 Axes>"
      ]
     },
     "metadata": {},
     "output_type": "display_data"
    }
   ],
   "source": [
    "def Spline(x: float, x0: float, pars: dict[str, float]) -> float:\n",
    "    a = pars[\"a\"]\n",
    "    b = pars[\"b\"]\n",
    "    c = pars[\"c\"]\n",
    "    d = pars[\"d\"]\n",
    "    return a + b * (x - x0) + c * (x - x0) ** 2 + d * (x - x0) ** 3\n",
    "\n",
    "import matplotlib.pyplot as plt\n",
    "import numpy as np\n",
    "\n",
    "xs = [-1, 1]\n",
    "ys = [1, 3]\n",
    "s = [\n",
    "    {\"a\": 1, \"b\": 1, \"c\": -1/2, \"d\": 1/4}\n",
    "]\n",
    "for i, x_i in enumerate(xs[:-1]):\n",
    "    _x = np.linspace(x_i, xs[i + 1], 20)\n",
    "    _y = Spline(_x, x_i, s[i])\n",
    "    plt.plot(_x, _y, color=\"red\")\n",
    "\n",
    "plt.scatter(xs, ys)\n",
    "plt.xlabel(\"x\")\n",
    "plt.ylabel(\"y\")\n",
    "plt.title(\"Interpolación con splines cúbicos\")\n",
    "plt.show()"
   ]
  },
  {
   "cell_type": "markdown",
   "id": "5d0b5374-002f-445e-aa92-91331d2b4b0c",
   "metadata": {},
   "source": [
    "Los coeficientes del $S_0$ son:\n",
    "\n",
    "$a_0 = 1$\n",
    "\n",
    "$b_0 = 1$\n",
    "\n",
    "$c_0 = -\\frac{1}{2}$\n",
    "\n",
    "$d_0 = \\frac{1}{4}$"
   ]
  },
  {
   "cell_type": "markdown",
   "id": "3d816fa5-d994-403e-b45a-19e98d72d594",
   "metadata": {},
   "source": [
    "**La expresión del spline $S_0$ es:**\n",
    "$$S_0 = 1 + (x + 1) - \\frac{1}{2} (x+1)^2 + \\frac{1}{4} (x+1)^3$$"
   ]
  },
  {
   "cell_type": "markdown",
   "id": "c6d8c6df-497e-4afe-988f-e0666275ec39",
   "metadata": {},
   "source": [
    "## PREGUNTA 8"
   ]
  },
  {
   "cell_type": "markdown",
   "id": "ce17d372-beea-462a-a5d1-a93df812c98e",
   "metadata": {},
   "source": [
    "### Dados los puntos (-1,1), (0,5), (1,3), se ha obtenido los splines cúbicos correspondientes. \n",
    "\n",
    "Sin embargo, al observar la figura, usted no se siente satisfecho con la pendiente resultante en el punto $(x_1, y_1)$. Y decide intentar una modificación a las ecuaciones, tal que los splines sean tangentes a una pendiente deseada $m$ en el punto $(x_1,y_1)$"
   ]
  },
  {
   "cell_type": "code",
   "execution_count": 1,
   "id": "8be6b392-35ea-46a0-bf16-0d5f52132bcd",
   "metadata": {},
   "outputs": [],
   "source": [
    "def Spline(x: float, x0: float, pars: dict[str, float]) -> float:\n",
    "    a = pars[\"a\"]\n",
    "    b = pars[\"b\"]\n",
    "    c = pars[\"c\"]\n",
    "    d = pars[\"d\"]\n",
    "    return a + b * (x - x0) + c * (x - x0) ** 2 + d * (x - x0) ** 3"
   ]
  },
  {
   "cell_type": "code",
   "execution_count": 2,
   "id": "10185485-8c64-4635-b008-11ef638d60dc",
   "metadata": {},
   "outputs": [
    {
     "data": {
      "image/png": "[encoded data removed]",
      "text/plain": [
       "<Figure size 640x480 with 1 Axes>"
      ]
     },
     "metadata": {},
     "output_type": "display_data"
    }
   ],
   "source": [
    "import matplotlib.pyplot as plt\n",
    "import numpy as np\n",
    "\n",
    "xs = [-1, 0, 1]\n",
    "ys = [1, 5, 3]\n",
    "s = [\n",
    "    {\"a\": 1, \"b\": 5.5, \"c\": 0, \"d\": -1.5},\n",
    "    {\"a\": 5, \"b\": 1, \"c\": -4.5, \"d\": 1.5},\n",
    "]\n",
    "for i, x_i in enumerate(xs[:-1]):\n",
    "    _x = np.linspace(x_i, xs[i + 1], 20)\n",
    "    _y = Spline(_x, x_i, s[i])\n",
    "    plt.plot(_x, _y, color=\"red\")\n",
    "\n",
    "plt.scatter(xs, ys)\n",
    "plt.xlabel(\"x\")\n",
    "plt.ylabel(\"y\")\n",
    "plt.title(\"Interpolación con splines cúbicos\")\n",
    "plt.show()"
   ]
  },
  {
   "cell_type": "markdown",
   "id": "2eff6bf8-3e17-48fc-aea0-6089dac0a54d",
   "metadata": {},
   "source": [
    "**La ecuación que se debe modificar para poder cumplir con el requisito de $m$ es:**\n",
    "\n",
    "$$S_0''(x_1) = S_1''(x_1)$$"
   ]
  },
  {
   "cell_type": "markdown",
   "id": "ed86ddc7-f761-48fc-9160-fa6442d35fb1",
   "metadata": {},
   "source": [
    "Dadas las ecuaciones de los splines $S_0$ y $S_1$"
   ]
  },
  {
   "cell_type": "markdown",
   "id": "984ca6f0-2fb3-43fd-9d34-0b97a4fcab56",
   "metadata": {},
   "source": [
    "$$S_0 = a_0 + b_0(x-x_0) + c_0(x-x_0)^2 + d_0(x-x_0)^3$$\n",
    "$$S_1 = a_1 + b_1(x-x_1) + c_1(x-x_1)^2 + d_1(x-x_1)^3$$"
   ]
  },
  {
   "cell_type": "markdown",
   "id": "a28dcdf5-128e-4ba2-9b66-82e738ea884f",
   "metadata": {},
   "source": [
    "Se procede a obtener las ecuaciones:"
   ]
  },
  {
   "cell_type": "markdown",
   "id": "3f43a545-e9af-4335-bd3a-bd8301943e92",
   "metadata": {},
   "source": [
    "$S_0(x_0) = y_0$\n",
    "\n",
    "$S_0(x_1) = y_1$\n",
    "\n",
    "$S_1(x_1) = y_1$\n",
    "\n",
    "$S_1(x_2) = y_2$\n",
    "\n",
    "$S_0'(x_1) = S_1'(x_1)$\n",
    "\n",
    "$S_0''(x_0) = 0$\n",
    "\n",
    "$S_1''(x_2) = 0$\n",
    "\n",
    "$S_0''(x_1) = S_1''(x_1) = -2$"
   ]
  },
  {
   "cell_type": "markdown",
   "id": "d3fc7334-6664-4926-9c53-aba4a7ce1923",
   "metadata": {},
   "source": [
    "Se obtienen los coeficientes para los splines:"
   ]
  },
  {
   "cell_type": "markdown",
   "id": "4a2b501e-7211-414e-a50f-15ce8b474388",
   "metadata": {},
   "source": [
    "$a_0 = 1$\n",
    "\n",
    "$b_0 = 7$\n",
    "\n",
    "$c_0 = 0$\n",
    "\n",
    "$d_0 = -3$\n",
    "\n",
    "$a_1 = 5$\n",
    "\n",
    "$b_1 = -2$\n",
    "\n",
    "$c_1 = 0$\n",
    "\n",
    "$d_1 = 0$"
   ]
  },
  {
   "cell_type": "code",
   "execution_count": 10,
   "id": "0c9aca24-98ac-4553-854c-1c7831eed5e5",
   "metadata": {},
   "outputs": [
    {
     "data": {
      "image/png": "[encoded data removed]",
      "text/plain": [
       "<Figure size 640x480 with 1 Axes>"
      ]
     },
     "metadata": {},
     "output_type": "display_data"
    }
   ],
   "source": [
    "def Spline(x: float, x0: float, pars: dict[str, float]) -> float:\n",
    "    a = pars[\"a\"]\n",
    "    b = pars[\"b\"]\n",
    "    c = pars[\"c\"]\n",
    "    d = pars[\"d\"]\n",
    "    return a + b * (x - x0) + c * (x - x0) ** 2 + d * (x - x0) ** 3\n",
    "\n",
    "import matplotlib.pyplot as plt\n",
    "import numpy as np\n",
    "\n",
    "xs = [-1, 0, 1]\n",
    "ys = [1, 5, 3]\n",
    "s = [\n",
    "    {\"a\": 1, \"b\": 7, \"c\": 0, \"d\": -3},\n",
    "    {\"a\": 5, \"b\": -2, \"c\": 0, \"d\": 0},\n",
    "]\n",
    "for i, x_i in enumerate(xs[:-1]):\n",
    "    _x = np.linspace(x_i, xs[i + 1], 20)\n",
    "    _y = Spline(_x, x_i, s[i])\n",
    "    plt.plot(_x, _y, color=\"red\")\n",
    "\n",
    "plt.scatter(xs, ys)\n",
    "plt.xlabel(\"x\")\n",
    "plt.ylabel(\"y\")\n",
    "plt.title(\"Frontera condicional\")\n",
    "plt.show()"
   ]
  },
  {
   "cell_type": "markdown",
   "id": "c120b29e-42ad-4db2-9457-c837cefe5512",
   "metadata": {},
   "source": [
    "**La expresión del spline $S_0$ y $sS_1$ es:**\n",
    "$$S_0 = 1 + 7 (x + 1) -3 (x + 1)^3$$\n",
    "$$S_1 = 5 - 2 (x + 5)$$"
   ]
  }
 ],
 "metadata": {
  "kernelspec": {
   "display_name": "Python 3.11",
   "language": "python",
   "name": "python3.11"
  },
  "language_info": {
   "codemirror_mode": {
    "name": "ipython",
    "version": 3
   },
   "file_extension": ".py",
   "mimetype": "text/x-python",
   "name": "python",
   "nbconvert_exporter": "python",
   "pygments_lexer": "ipython3",
   "version": "3.11.9"
  }
 },
 "nbformat": 4,
 "nbformat_minor": 5
}
