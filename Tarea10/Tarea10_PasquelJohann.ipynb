{
 "cells": [
  {
   "cell_type": "raw",
   "id": "98d46aeb-1f16-4f2b-8243-3d4bbf354bd7",
   "metadata": {},
   "source": [
    "---\n",
    "title: \"Tarea 10: DESCOMPOSICIÓN LU\"\n",
    "author: \"Pasquel Johann\"\n",
    "lang: es\n",
    "format:\n",
    "  pdf:\n",
    "    toc: true\n",
    "    toc-title: \"Tabla de Contenidos\"\n",
    "execute:\n",
    "  echo: true\n",
    "  error: false\n",
    "  warning: false\n",
    "  jupyter: python3.11\n",
    "---"
   ]
  },
  {
   "cell_type": "markdown",
   "id": "0997497f-1cdc-4b13-bbf7-b5f32510215d",
   "metadata": {},
   "source": [
    "# GITHUB"
   ]
  },
  {
   "cell_type": "markdown",
   "id": "51e130ff-af73-4761-a17f-1a98c6ccf8c3",
   "metadata": {},
   "source": [
    "https://github.com/Vladimirjon/MetodosNumericos_PasquelJohann/tree/main/Tarea10"
   ]
  },
  {
   "cell_type": "markdown",
   "id": "4f4c03ad-f7d5-439b-8687-9deb0936d33e",
   "metadata": {},
   "source": [
    "# CONJUNTO DE EJERCICIOS "
   ]
  },
  {
   "cell_type": "markdown",
   "id": "e3de9726-1843-4651-b7b1-5e4524fbde4d",
   "metadata": {},
   "source": [
    "## 1. Realice las siguientes multiplicaciones matriz-matriz:"
   ]
  },
  {
   "cell_type": "code",
   "execution_count": 2,
   "id": "3a13213f-2485-43a6-84eb-e97a71104183",
   "metadata": {},
   "outputs": [],
   "source": [
    "def multiply_matrices(matrix1, matrix2):\n",
    "    # Get the number of rows and columns for both matrices\n",
    "    rows_matrix1 = len(matrix1)\n",
    "    cols_matrix1 = len(matrix1[0])\n",
    "    rows_matrix2 = len(matrix2)\n",
    "    cols_matrix2 = len(matrix2[0])\n",
    "\n",
    "    # Check if the matrices can be multiplied\n",
    "    if cols_matrix1 != rows_matrix2:\n",
    "        raise ValueError(\"Ingrese matrices que se puedan multiplicar\")\n",
    "\n",
    "    # Initialize the result matrix with zeros\n",
    "    result = [[0 for _ in range(cols_matrix2)] for _ in range(rows_matrix1)]\n",
    "\n",
    "    # Perform matrix multiplication\n",
    "    for i in range(rows_matrix1):\n",
    "        for j in range(cols_matrix2):\n",
    "            for k in range(cols_matrix1):\n",
    "                result[i][j] += matrix1[i][k] * matrix2[k][j]\n",
    "\n",
    "    return result"
   ]
  },
  {
   "cell_type": "markdown",
   "id": "9b7a58b4-b312-4b0a-8d79-d8602b79fb9a",
   "metadata": {},
   "source": [
    "**a.** $$\\begin{bmatrix}\n",
    "2 & -3 \\\\\n",
    "3 & -1\n",
    "\\end{bmatrix}\n",
    "\\cdot\n",
    "\\begin{bmatrix}\n",
    "1 & 5 \\\\\n",
    "2 & 0\n",
    "\\end{bmatrix}$$"
   ]
  },
  {
   "cell_type": "code",
   "execution_count": 4,
   "id": "b0aa5e45-ba7f-4bdd-a8d9-a339fcd10155",
   "metadata": {},
   "outputs": [
    {
     "name": "stdout",
     "output_type": "stream",
     "text": [
      "[-4, 10]\n",
      "[1, 15]\n"
     ]
    }
   ],
   "source": [
    "matriz1 = [\n",
    "    [2, -3],\n",
    "    [3, -1]\n",
    "]\n",
    "matriz2 = [\n",
    "    [1, 5],\n",
    "    [2, 0]\n",
    "]\n",
    "resultado = multiply_matrices(matriz1, matriz2)\n",
    "for row in resultado:\n",
    "    print(row)"
   ]
  },
  {
   "attachments": {},
   "cell_type": "markdown",
   "id": "52db4307-3220-438a-8a5f-d79fea8e8344",
   "metadata": {},
   "source": [
    "**b.** $$\n",
    "\\begin{bmatrix}\n",
    "2 & -3 \\\\\n",
    "3 & -1\n",
    "\\end{bmatrix}\n",
    "\\cdot\n",
    "\\begin{bmatrix}\n",
    "1 & 5 & -4 \\\\\n",
    "-3 & 2 & 0\n",
    "\\end{bmatrix}\n",
    "$$"
   ]
  },
  {
   "cell_type": "code",
   "execution_count": 5,
   "id": "3afb7188-9e30-4b6d-86da-9142c0e948fc",
   "metadata": {},
   "outputs": [
    {
     "name": "stdout",
     "output_type": "stream",
     "text": [
      "[11, 4, -8]\n",
      "[6, 13, -12]\n"
     ]
    }
   ],
   "source": [
    "matriz1 = [\n",
    "    [2, -3],\n",
    "    [3, -1]\n",
    "]\n",
    "matriz2 = [\n",
    "    [1, 5, -4],\n",
    "    [-3, 2, 0]\n",
    "]\n",
    "resultado = multiply_matrices(matriz1, matriz2)\n",
    "for row in resultado:\n",
    "    print(row)"
   ]
  },
  {
   "cell_type": "markdown",
   "id": "9231985b-74f5-4b74-80ef-42fb53a8fa97",
   "metadata": {},
   "source": [
    "**c.** $$\n",
    "\\begin{bmatrix}\n",
    "2 & -3 & 1 \\\\\n",
    "4 & 3 & 0 \\\\\n",
    "5 & 2 & -4\n",
    "\\end{bmatrix}\n",
    "\\cdot\n",
    "\\begin{bmatrix}\n",
    "0 & 1 & -2 \\\\\n",
    "1 & 0 & -1 \\\\\n",
    "2 & 3 & -2\n",
    "\\end{bmatrix}\n",
    "$$"
   ]
  },
  {
   "cell_type": "code",
   "execution_count": 6,
   "id": "df8b9f29-3db2-4c17-b1f3-1e6d1c3e0caa",
   "metadata": {},
   "outputs": [
    {
     "name": "stdout",
     "output_type": "stream",
     "text": [
      "[-1, 5, -3]\n",
      "[3, 4, -11]\n",
      "[-6, -7, -4]\n"
     ]
    }
   ],
   "source": [
    "matriz1 = [\n",
    "    [2, -3, 1],\n",
    "    [4, 3, 0],\n",
    "    [5, 2, -4]\n",
    "]\n",
    "matriz2 = [\n",
    "    [0, 1, -2],\n",
    "    [1, 0, -1],\n",
    "    [2, 3, -2]\n",
    "]\n",
    "resultado = multiply_matrices(matriz1, matriz2)\n",
    "for row in resultado:\n",
    "    print(row)"
   ]
  },
  {
   "cell_type": "markdown",
   "id": "c39056e2-b5d5-4da9-a005-f61fa2118e75",
   "metadata": {},
   "source": [
    "**d.** $$\n",
    "\\begin{bmatrix}\n",
    "2 & 1 & 2 \\\\\n",
    "-2 & 3 & 0 \\\\\n",
    "2 & -1 & 3\n",
    "\\end{bmatrix}\n",
    "\\cdot\n",
    "\\begin{bmatrix}\n",
    "1 & -2 \\\\\n",
    "-4 & 1 \\\\\n",
    "0 & 2\n",
    "\\end{bmatrix}\n",
    "$$"
   ]
  },
  {
   "cell_type": "code",
   "execution_count": 7,
   "id": "5aa62495-918f-4844-b170-22acbe012e7c",
   "metadata": {},
   "outputs": [
    {
     "name": "stdout",
     "output_type": "stream",
     "text": [
      "[-2, 1]\n",
      "[-14, 7]\n",
      "[6, 1]\n"
     ]
    }
   ],
   "source": [
    "matriz1 = [\n",
    "    [2, 1, 2],\n",
    "    [-2, 3, 0],\n",
    "    [2, -1, 3]\n",
    "]\n",
    "matriz2 = [\n",
    "    [1, -2],\n",
    "    [-4, 1],\n",
    "    [0, 2]\n",
    "]\n",
    "resultado = multiply_matrices(matriz1, matriz2)\n",
    "for row in resultado:\n",
    "    print(row)"
   ]
  },
  {
   "cell_type": "markdown",
   "id": "49d9dc1c-6d77-4ecb-af7d-5a4fe2a70266",
   "metadata": {},
   "source": [
    "## 2. Determine cuáles de las siguientes matrices son no singulares y calcule la inversa de esas matrices:"
   ]
  },
  {
   "cell_type": "code",
   "execution_count": 15,
   "id": "de3d6978-0dcc-4a4e-8bd8-648de9941aa3",
   "metadata": {},
   "outputs": [],
   "source": [
    "import numpy\n",
    "\n",
    "def calcular_determinante_inversa(matriz):\n",
    "    determinante = np.linalg.det(matriz)\n",
    "    \n",
    "    if np.isclose(determinante, 0):\n",
    "        return determinante, None  \n",
    "    else:\n",
    "        inversa = np.linalg.inv(matriz)\n",
    "        return determinante, inversa\n",
    "\n",
    "def resultado(matriz):\n",
    "    determinante, inversa = calcular_determinante_inversa(matriz)\n",
    "    print(f\"Determinante: {determinante}\")  \n",
    "    if inversa is not None:\n",
    "        print(\"Inversa:\")\n",
    "        print(inversa)\n",
    "    else:\n",
    "        print(\"La matriz no tiene inversa porque su determinante es 0.\")"
   ]
  },
  {
   "cell_type": "markdown",
   "id": "b049c1f9-ce71-496e-a27e-99bb2174d8f9",
   "metadata": {},
   "source": [
    "**a.** $$\\begin{bmatrix}\n",
    "4 & 2 & 6 \\\\\n",
    "3 & 0 & 7 \\\\\n",
    "-2 & -1 & -3\n",
    "\\end{bmatrix}$$"
   ]
  },
  {
   "cell_type": "code",
   "execution_count": 16,
   "id": "7427676d-8404-4779-ab51-59983eded030",
   "metadata": {},
   "outputs": [
    {
     "name": "stdout",
     "output_type": "stream",
     "text": [
      "Determinante: 0.0\n",
      "La matriz no tiene inversa porque su determinante es 0.\n"
     ]
    }
   ],
   "source": [
    "matriz = np.array([\n",
    "    [4, 2, 6],\n",
    "    [3, 0, 7],\n",
    "    [-2, -1, -3]\n",
    "])\n",
    "resultado(matriz)"
   ]
  },
  {
   "cell_type": "markdown",
   "id": "9e9b3a8a-feb3-4f2d-b050-acd3d56290ca",
   "metadata": {},
   "source": [
    "**Matriz singular**"
   ]
  },
  {
   "cell_type": "markdown",
   "id": "af41146b-197f-4473-af51-87a6d2043ca0",
   "metadata": {},
   "source": [
    "**b.** $$\\begin{bmatrix}\n",
    "1 & 2 & 0 \\\\\n",
    "2 & 1 & -1 \\\\\n",
    "3 & 1 & 1\n",
    "\\end{bmatrix}$$"
   ]
  },
  {
   "cell_type": "code",
   "execution_count": 17,
   "id": "1bd7fbe8-5d46-4d41-910c-09c1cfaa54b3",
   "metadata": {},
   "outputs": [
    {
     "name": "stdout",
     "output_type": "stream",
     "text": [
      "Determinante: -8.000000000000002\n",
      "Inversa:\n",
      "[[-0.25   0.25   0.25 ]\n",
      " [ 0.625 -0.125 -0.125]\n",
      " [ 0.125 -0.625  0.375]]\n"
     ]
    }
   ],
   "source": [
    "matriz = np.array([\n",
    "    [1, 2, 0],\n",
    "    [2, 1, -1],\n",
    "    [3, 1, 1]\n",
    "])\n",
    "resultado(matriz)"
   ]
  },
  {
   "cell_type": "markdown",
   "id": "751d5d46-ae40-4430-a925-b4d686c08c9b",
   "metadata": {},
   "source": [
    "**Matriz no singular**"
   ]
  },
  {
   "cell_type": "markdown",
   "id": "fa60351b-cf94-4aea-98c8-6ba7362e7298",
   "metadata": {},
   "source": [
    "**c.** $$\\begin{bmatrix}\n",
    "1 & 1 & -1 & 1 \\\\\n",
    "1 & 2 & -4 & -2 \\\\\n",
    "2 & 1 & 1 & 5 \\\\\n",
    "-1 & 0 & -2 & -4\n",
    "\\end{bmatrix}$$"
   ]
  },
  {
   "cell_type": "code",
   "execution_count": 18,
   "id": "b6643726-8fce-439b-bb88-19e83789a622",
   "metadata": {},
   "outputs": [
    {
     "name": "stdout",
     "output_type": "stream",
     "text": [
      "Determinante: 0.0\n",
      "La matriz no tiene inversa porque su determinante es 0.\n"
     ]
    }
   ],
   "source": [
    "matriz = np.array([\n",
    "    [1, 1, -1, 1],\n",
    "    [1, 2, -4, -2],\n",
    "    [2, 1, 1, 5],\n",
    "    [-1, 0, -2, -4]\n",
    "])\n",
    "resultado(matriz)"
   ]
  },
  {
   "cell_type": "markdown",
   "id": "15f54460-9ba8-4481-8e9d-c7889ba9501a",
   "metadata": {},
   "source": [
    "**Matriz singular**"
   ]
  },
  {
   "cell_type": "markdown",
   "id": "96fa30fc-ecf5-45fd-b95a-7b5914c60769",
   "metadata": {},
   "source": [
    "**d.** $$\\begin{bmatrix}\n",
    "4 & 0 & 0 & 0 \\\\\n",
    "6 & 7 & 0 & 0 \\\\\n",
    "9 & 11 & 1 & 0 \\\\\n",
    "5 & 4 & 1 & 1\n",
    "\\end{bmatrix}$$"
   ]
  },
  {
   "cell_type": "code",
   "execution_count": 19,
   "id": "41affe60-c9a1-4b67-8a5a-60e3e9c09e2c",
   "metadata": {},
   "outputs": [
    {
     "name": "stdout",
     "output_type": "stream",
     "text": [
      "Determinante: 28.00000000000001\n",
      "Inversa:\n",
      "[[ 0.25        0.          0.          0.        ]\n",
      " [-0.21428571  0.14285714 -0.         -0.        ]\n",
      " [ 0.10714286 -1.57142857  1.         -0.        ]\n",
      " [-0.5         1.         -1.          1.        ]]\n"
     ]
    }
   ],
   "source": [
    "matriz = np.array([\n",
    "    [4, 0, 0, 0],\n",
    "    [6, 7, 0, 0],\n",
    "    [9, 11, 1, 0],\n",
    "    [5, 4, 1, 1]\n",
    "])\n",
    "resultado(matriz)"
   ]
  },
  {
   "cell_type": "markdown",
   "id": "dea28ae1-011e-47b6-bee2-28b9fa08cab2",
   "metadata": {},
   "source": [
    "**Matriz no singular**"
   ]
  },
  {
   "cell_type": "markdown",
   "id": "0d7c4314-d5df-4e65-a058-67955eebe2f6",
   "metadata": {},
   "source": [
    "## 3. Resuelva los sistemas lineales 4 x 4 que tienen la misma matriz de coeficientes:"
   ]
  },
  {
   "cell_type": "markdown",
   "id": "6a0e7b6d-c3ea-4b5d-a9a5-89b038beadfc",
   "metadata": {},
   "source": [
    "$$\n",
    "\\begin{array}{c c}\n",
    "\\begin{aligned}\n",
    "x_1 - x_2 + 2x_3 - x_4 &= 6, \\\\\n",
    "x_1 \\quad - x_3 + x_4 &= 4, \\\\\n",
    "2x_1 + x_2 + 3x_3 - 4x_4 &= -2, \\\\\n",
    "- x_2 + x_3 - x_4 &= 5;\n",
    "\\end{aligned}\n",
    "&\n",
    "\\begin{aligned}\n",
    "x_1 - x_2 + 2x_3 - x_4 &= 1, \\\\\n",
    "x_1 \\quad - x_3 + x_4 &= 1, \\\\\n",
    "2x_1 + x_2 + 3x_3 - 4x_4 &= 2, \\\\\n",
    "- x_2 + x_3 - x_4 &= -1;\n",
    "\\end{aligned}\n",
    "\\end{array}\n",
    "$$"
   ]
  },
  {
   "cell_type": "code",
   "execution_count": 22,
   "id": "ead7fe42-78c4-4c14-adfd-1f77c40a1eae",
   "metadata": {},
   "outputs": [],
   "source": [
    "import numpy as np\n",
    "import scipy.linalg\n",
    "\n",
    "A = np.array([\n",
    "    [1, -1, 2, -1],\n",
    "    [1, 0, -1, 1],\n",
    "    [2, 1, 3, -4],\n",
    "    [0, -1, 1, -1]\n",
    "], dtype=float)\n",
    "\n",
    "\n",
    "b1 = np.array([6, 4, -2, 5], dtype=float)  # Primer sistema\n",
    "b2 = np.array([1, 1, 2, -1], dtype=float)  # Segundo sistema\n",
    "\n",
    "# LU \n",
    "P, L, U = scipy.linalg.lu(A) \n",
    "\n",
    "# Resolver Ly = Pb (sustitución progresiva)\n",
    "y1 = scipy.linalg.solve(L, np.dot(P, b1))\n",
    "y2 = scipy.linalg.solve(L, np.dot(P, b2))\n",
    "\n",
    "# Resolver Ux = y (sustitución regresiva)\n",
    "x1 = scipy.linalg.solve(U, y1)\n",
    "x2 = scipy.linalg.solve(U, y2)"
   ]
  },
  {
   "cell_type": "markdown",
   "id": "33af6839-958a-46ae-9344-27a96e2c3abb",
   "metadata": {},
   "source": [
    "**Soluciones:**"
   ]
  },
  {
   "cell_type": "code",
   "execution_count": 24,
   "id": "7a6704d4-ac24-434a-8d93-7ea0bedb3e74",
   "metadata": {},
   "outputs": [
    {
     "name": "stdout",
     "output_type": "stream",
     "text": [
      "Solución para el primer sistema:\n",
      "x_1 = 4.00\n",
      "x_2 = -7.00\n",
      "x_3 = -11.00\n",
      "x_4 = -9.00\n",
      "\n",
      "Solución para el segundo sistema:\n",
      "x_1 = 1.00\n",
      "x_2 = 1.00\n",
      "x_3 = 2.00\n",
      "x_4 = 2.00\n"
     ]
    }
   ],
   "source": [
    "print(\"Solución para el primer sistema:\")\n",
    "for i, x in enumerate(x1, start=1):\n",
    "    print(f\"x_{i} = {x:.2f}\")\n",
    "\n",
    "print(\"\\nSolución para el segundo sistema:\")\n",
    "for i, x in enumerate(x2, start=1):\n",
    "    print(f\"x_{i} = {x:.2f}\")"
   ]
  },
  {
   "cell_type": "markdown",
   "id": "c94d579b-5e39-483e-b6e4-2659ccc62f58",
   "metadata": {},
   "source": [
    "## 4. Encuentre los valores de A que hacen que la siguiente matriz sea singular."
   ]
  },
  {
   "cell_type": "markdown",
   "id": "3ef8b402-1209-46ae-85f1-3e040fc9a805",
   "metadata": {},
   "source": [
    "$$A = \\begin{bmatrix}\n",
    "1 & -1 & \\alpha \\\\\n",
    "2 & 2 & 1 \\\\\n",
    "0 & \\alpha & -\\frac{3}{2}\n",
    "\\end{bmatrix}$$"
   ]
  },
  {
   "cell_type": "markdown",
   "id": "9125ab83-3755-49b8-ae37-25969332e9ec",
   "metadata": {},
   "source": [
    "$$\n",
    "\\det(A) =\n",
    "1\n",
    "\\begin{vmatrix}\n",
    "2 & 1 \\\\\n",
    "\\alpha & -\\frac{3}{2}\n",
    "\\end{vmatrix}\n",
    "-\n",
    "(-1)\n",
    "\\begin{vmatrix}\n",
    "2 & 1 \\\\\n",
    "0 & -\\frac{3}{2}\n",
    "\\end{vmatrix}\n",
    "+\n",
    "\\alpha\n",
    "\\begin{vmatrix}\n",
    "2 & 2 \\\\\n",
    "0 & \\alpha\n",
    "\\end{vmatrix}\n",
    "$$"
   ]
  },
  {
   "cell_type": "markdown",
   "id": "1a789bc9-e596-45b6-b4ca-7f539f6606c8",
   "metadata": {},
   "source": [
    "$$\n",
    "\\begin{vmatrix}\n",
    "2 & 1 \\\\\n",
    "\\alpha & -\\frac{3}{2}\n",
    "\\end{vmatrix}\n",
    "= (2)(-\\frac{3}{2}) - (1)(\\alpha) = -3 - \\alpha\n",
    "$$"
   ]
  },
  {
   "cell_type": "markdown",
   "id": "6d0e10c6-f529-4c4b-af6c-f6fc9650d718",
   "metadata": {},
   "source": [
    "$$\n",
    "\\begin{vmatrix}\n",
    "2 & 1 \\\\\n",
    "0 & -\\frac{3}{2}\n",
    "\\end{vmatrix}\n",
    "= (2)(-\\frac{3}{2}) - (1)(0) = -3 \n",
    "$$"
   ]
  },
  {
   "cell_type": "markdown",
   "id": "388c36aa-c570-4ef7-b576-22f823b9fb57",
   "metadata": {},
   "source": [
    "$$\n",
    "\\begin{vmatrix}\n",
    "2 & 2 \\\\\n",
    "0 & \\alpha\n",
    "\\end{vmatrix}\n",
    "= (2)(\\alpha) - (2)(0) = 2\\alpha\n",
    "$$"
   ]
  },
  {
   "cell_type": "markdown",
   "id": "74cc06bf-52da-44c0-b253-f34e161687cc",
   "metadata": {},
   "source": [
    "$$\\det(A) = -3-\\alpha -3 + 2\\alpha^{2}$$"
   ]
  },
  {
   "cell_type": "markdown",
   "id": "f60e96b7-d681-4650-bc64-e5ba2f8f9709",
   "metadata": {},
   "source": [
    "$$\\det(A) = 2\\alpha^{2} - \\alpha - 6$$"
   ]
  },
  {
   "cell_type": "markdown",
   "id": "9a29da45-83dd-4d48-b618-a04a8bd5c0f2",
   "metadata": {},
   "source": [
    "**Matriz singular si determinante es igual a cero, por lo tanto:**"
   ]
  },
  {
   "cell_type": "markdown",
   "id": "d2a76460-5a89-4b14-a802-a9547f69551e",
   "metadata": {},
   "source": [
    "$$\\det(A) = 0$$"
   ]
  },
  {
   "cell_type": "markdown",
   "id": "636af551-151c-4702-828e-1bf18fb6b850",
   "metadata": {},
   "source": [
    "$2\\alpha^{2} - \\alpha - 6 = 0$"
   ]
  },
  {
   "cell_type": "markdown",
   "id": "ddb45250-cf96-4b73-91f4-6fd833049c38",
   "metadata": {},
   "source": [
    "$(2\\alpha+3)(\\alpha-2) = 0$"
   ]
  },
  {
   "cell_type": "markdown",
   "id": "b08250dc-aa21-4abf-a918-c5b8251d26d0",
   "metadata": {},
   "source": [
    "$2\\alpha + 3 = 0$\n",
    "  \n",
    "$\\alpha = -\\frac{3}{2}$"
   ]
  },
  {
   "cell_type": "markdown",
   "id": "d35a367b-a50f-407b-90c5-ce6510b45929",
   "metadata": {},
   "source": [
    "- $\\alpha -2 = 0$\n",
    "  \n",
    "  $\\alpha = 2$"
   ]
  },
  {
   "cell_type": "markdown",
   "id": "b761508e-32cc-4eab-92f1-6a6ffe5bf9d6",
   "metadata": {},
   "source": [
    "## 5. Resuelva los siguientes sistemas lineales:"
   ]
  },
  {
   "cell_type": "code",
   "execution_count": 25,
   "id": "8ef67975-3743-4f44-8352-9b10702168d6",
   "metadata": {},
   "outputs": [],
   "source": [
    "import numpy as np\n",
    "import scipy.linalg\n",
    "\n",
    "def resolver_sistema_LU(L, U, b):\n",
    "    \"\"\"\n",
    "    Resuelve un sistema de ecuaciones LUx = b en dos pasos:\n",
    "    1. Ly = b (sustitución progresiva)\n",
    "    2. Ux = y (sustitución regresiva)\n",
    "    \n",
    "    Parámetros:\n",
    "    L: Matriz triangular inferior\n",
    "    U: Matriz triangular superior\n",
    "    b: Vector de términos independientes\n",
    "    \n",
    "    Retorna:\n",
    "    x: Vector solución del sistema\n",
    "    \"\"\"\n",
    "    # Paso 1: Resolver Ly = b (sustitución progresiva)\n",
    "    y = scipy.linalg.solve_triangular(L, b, lower=True)\n",
    "\n",
    "    # Paso 2: Resolver Ux = y (sustitución regresiva)\n",
    "    x = scipy.linalg.solve_triangular(U, y, lower=False)\n",
    "\n",
    "    return x"
   ]
  },
  {
   "cell_type": "markdown",
   "id": "0198a8ad-5323-48f8-9f9a-6b132c6a2ad6",
   "metadata": {},
   "source": [
    "$$\n",
    "\\mathbf{a.} \\quad\n",
    "\\begin{bmatrix}\n",
    "1 & 0 & 0 \\\\\n",
    "2 & 1 & 0 \\\\\n",
    "-1 & 0 & 1\n",
    "\\end{bmatrix}\n",
    "\\begin{bmatrix}\n",
    "2 & 3 & -1 \\\\\n",
    "0 & -2 & 1 \\\\\n",
    "0 & 0 & 3\n",
    "\\end{bmatrix}\n",
    "\\begin{bmatrix}\n",
    "x_1 \\\\\n",
    "x_2 \\\\\n",
    "x_3\n",
    "\\end{bmatrix}\n",
    "=\n",
    "\\begin{bmatrix}\n",
    "2 \\\\\n",
    "-1 \\\\\n",
    "1\n",
    "\\end{bmatrix}\n",
    "$$"
   ]
  },
  {
   "cell_type": "code",
   "execution_count": 27,
   "id": "b74f0493-123d-47e8-aa1a-58bf039ae5a3",
   "metadata": {},
   "outputs": [
    {
     "name": "stdout",
     "output_type": "stream",
     "text": [
      "Solución para el sistema es:\n",
      "[-3.  3.  1.]\n"
     ]
    }
   ],
   "source": [
    "L1 = np.array([\n",
    "    [1, 0, 0],\n",
    "    [2, 1, 0],\n",
    "    [-1, 0, 1]\n",
    "], dtype=float)\n",
    "\n",
    "U1 = np.array([\n",
    "    [2, 3, -1],\n",
    "    [0, -2, 1],\n",
    "    [0, 0, 3]\n",
    "], dtype=float)\n",
    "\n",
    "b1 = np.array([2, -1, 1], dtype=float)\n",
    "\n",
    "solucion1 = resolver_sistema_LU(L1, U1, b1)\n",
    "print(\"Solución para el sistema es:\")\n",
    "print(solucion1)"
   ]
  },
  {
   "cell_type": "markdown",
   "id": "58d338df-c805-42d5-81b6-3ae2b169ce15",
   "metadata": {},
   "source": [
    "$$\n",
    "\\mathbf{b.} \\quad\n",
    "\\begin{bmatrix}\n",
    "2 & 0 & 0 \\\\\n",
    "-1 & 1 & 0 \\\\\n",
    "3 & 2 & -1\n",
    "\\end{bmatrix}\n",
    "\\begin{bmatrix}\n",
    "1 & 1 & 1 \\\\\n",
    "0 & 1 & 2 \\\\\n",
    "0 & 0 & 1\n",
    "\\end{bmatrix}\n",
    "\\begin{bmatrix}\n",
    "x_1 \\\\\n",
    "x_2 \\\\\n",
    "x_3\n",
    "\\end{bmatrix}\n",
    "=\n",
    "\\begin{bmatrix}\n",
    "-1 \\\\\n",
    "3 \\\\\n",
    "0\n",
    "\\end{bmatrix}\n",
    "$$"
   ]
  },
  {
   "cell_type": "code",
   "execution_count": 29,
   "id": "798e5855-1c1f-4cda-b565-3438d1cece28",
   "metadata": {},
   "outputs": [
    {
     "name": "stdout",
     "output_type": "stream",
     "text": [
      "\n",
      "Solución para el sistema es:\n",
      "[ 0.5 -4.5  3.5]\n"
     ]
    }
   ],
   "source": [
    "L2 = np.array([\n",
    "    [2, 0, 0],\n",
    "    [-1, 1, 0],\n",
    "    [3, 2, -1]\n",
    "], dtype=float)\n",
    "\n",
    "U2 = np.array([\n",
    "    [1, 1, 1],\n",
    "    [0, 1, 2],\n",
    "    [0, 0, 1]\n",
    "], dtype=float)\n",
    "\n",
    "b2 = np.array([-1, 3, 0], dtype=float)\n",
    "\n",
    "solucion2 = resolver_sistema_LU(L2, U2, b2)\n",
    "print(\"\\nSolución para el sistema es:\")\n",
    "print(solucion2)"
   ]
  },
  {
   "cell_type": "markdown",
   "id": "5fd42f26-a930-4fd4-99cb-e95b0a672d08",
   "metadata": {},
   "source": [
    "## 6. Factorice las siguientes matrices en la descomposición LU  mediante el algoritmo de factorización LU con $l_{ii} = 1$ para todas las $i$."
   ]
  },
  {
   "cell_type": "code",
   "execution_count": 30,
   "id": "ef423bd2-6355-4519-9f03-d9e41d81ad68",
   "metadata": {},
   "outputs": [],
   "source": [
    "import numpy as np\n",
    "\n",
    "def factorizacion_LU(A):\n",
    "    \"\"\"\n",
    "    Implementa la descomposición LU con la condición de que L tenga unos en la diagonal\n",
    "    según el algoritmo de factorización LU proporcionado.\n",
    "    \n",
    "    Parámetro:\n",
    "    A : np.array (matriz cuadrada de tamaño n x n)\n",
    "\n",
    "    Retorna:\n",
    "    L : np.array (matriz triangular inferior con unos en la diagonal)\n",
    "    U : np.array (matriz triangular superior)\n",
    "    \"\"\"\n",
    "    n = A.shape[0]  # Dimensión de la matriz\n",
    "    L = np.eye(n)   # Inicializamos L como la identidad (diagonal con 1)\n",
    "    U = np.zeros((n, n))  # Inicializamos U como una matriz de ceros\n",
    "\n",
    "    for i in range(n):\n",
    "        # Paso 4: Calcular elementos de la diagonal\n",
    "        suma_LU = sum(L[i, k] * U[k, i] for k in range(i))\n",
    "        U[i, i] = A[i, i] - suma_LU\n",
    "        \n",
    "        if U[i, i] == 0:\n",
    "            raise ValueError(\"Factorización imposible: la matriz es singular.\")\n",
    "        \n",
    "        # Paso 5: Calcular los elementos de la fila i en U y la columna i en L\n",
    "        for j in range(i + 1, n):  # Calcular elementos de U\n",
    "            suma_U = sum(L[i, k] * U[k, j] for k in range(i))\n",
    "            U[i, j] = (A[i, j] - suma_U) / L[i, i]\n",
    "\n",
    "        for j in range(i + 1, n):  # Calcular elementos de L\n",
    "            suma_L = sum(L[j, k] * U[k, i] for k in range(i))\n",
    "            L[j, i] = (A[j, i] - suma_L) / U[i, i]\n",
    "\n",
    "    return L, U"
   ]
  },
  {
   "cell_type": "markdown",
   "id": "08e57a06-f5ea-4c81-be27-aa6b9d70c3c4",
   "metadata": {},
   "source": [
    "**a.**  $$\n",
    "\\begin{bmatrix}\n",
    "2 & -1 & 1 \\\\\n",
    "3 & 3 & 9 \\\\\n",
    "3 & 3 & 5\n",
    "\\end{bmatrix}\n",
    "$$"
   ]
  },
  {
   "cell_type": "code",
   "execution_count": 31,
   "id": "a6ea860c-a5f1-4502-8249-383533dea109",
   "metadata": {},
   "outputs": [
    {
     "name": "stdout",
     "output_type": "stream",
     "text": [
      "Matriz L:\n",
      "[[1.  0.  0. ]\n",
      " [1.5 1.  0. ]\n",
      " [1.5 1.  1. ]]\n",
      "\n",
      "Matriz U:\n",
      "[[ 2.  -1.   1. ]\n",
      " [ 0.   4.5  7.5]\n",
      " [ 0.   0.  -4. ]]\n"
     ]
    }
   ],
   "source": [
    "A = np.array([\n",
    "    [2, -1, 1],\n",
    "    [3, 3, 9],\n",
    "    [3, 3, 5]\n",
    "], dtype=float)\n",
    "\n",
    "L, U = factorizacion_LU(A)\n",
    "\n",
    "print(\"Matriz L:\")\n",
    "print(L)\n",
    "print(\"\\nMatriz U:\")\n",
    "print(U)"
   ]
  },
  {
   "cell_type": "markdown",
   "id": "cb4d038b-a0ec-48df-8ba4-4d3cf21770e0",
   "metadata": {},
   "source": [
    "**b.** $$\n",
    "\\begin{bmatrix}\n",
    "1.012 & -2.132 & 3.104 \\\\\n",
    "-2.132 & 4.096 & -7.013 \\\\\n",
    "3.104 & -7.013 & 0.014\n",
    "\\end{bmatrix}\n",
    "$$"
   ]
  },
  {
   "cell_type": "code",
   "execution_count": 32,
   "id": "788aa765-fd90-4742-93d1-7813e1b6f8e9",
   "metadata": {},
   "outputs": [
    {
     "name": "stdout",
     "output_type": "stream",
     "text": [
      "Matriz L:\n",
      "[[ 1.          0.          0.        ]\n",
      " [-2.10671937  1.          0.        ]\n",
      " [ 3.06719368  1.19775553  1.        ]]\n",
      "\n",
      "Matriz U:\n",
      "[[ 1.012      -2.132       3.104     ]\n",
      " [ 0.         -0.39552569 -0.47374308]\n",
      " [ 0.          0.         -8.93914077]]\n"
     ]
    }
   ],
   "source": [
    "A = np.array([\n",
    "    [1.012, -2.132, 3.104],\n",
    "    [-2.132, 4.096, -7.013],\n",
    "    [3.104, -7.013, 0.014]\n",
    "], dtype=float)\n",
    "\n",
    "L, U = factorizacion_LU(A)\n",
    "\n",
    "print(\"Matriz L:\")\n",
    "print(L)\n",
    "print(\"\\nMatriz U:\")\n",
    "print(U)"
   ]
  },
  {
   "cell_type": "markdown",
   "id": "9cc94044-557f-4d28-90f9-9dcc68f3aeb9",
   "metadata": {},
   "source": [
    "**c.** $$\n",
    "\\begin{bmatrix}\n",
    "2 & 0 & 0 & 0 \\\\\n",
    "1 & 1.5 & 0 & 0 \\\\\n",
    "0 & -3 & 0.5 & 0 \\\\\n",
    "2 & -2 & 1 & 1\n",
    "\\end{bmatrix}\n",
    "$$"
   ]
  },
  {
   "cell_type": "code",
   "execution_count": 33,
   "id": "683d93d4-41cb-4999-aaaa-f7fa874b6b29",
   "metadata": {},
   "outputs": [
    {
     "name": "stdout",
     "output_type": "stream",
     "text": [
      "Matriz L:\n",
      "[[ 1.          0.          0.          0.        ]\n",
      " [ 0.5         1.          0.          0.        ]\n",
      " [ 0.         -2.          1.          0.        ]\n",
      " [ 1.         -1.33333333  2.          1.        ]]\n",
      "\n",
      "Matriz U:\n",
      "[[2.  0.  0.  0. ]\n",
      " [0.  1.5 0.  0. ]\n",
      " [0.  0.  0.5 0. ]\n",
      " [0.  0.  0.  1. ]]\n"
     ]
    }
   ],
   "source": [
    "A = np.array([\n",
    "    [2, 0, 0, 0],\n",
    "    [1, 1.5, 0, 0],\n",
    "    [0, -3, 0.5, 0],\n",
    "    [2, -2, 1, 1]\n",
    "], dtype=float)\n",
    "\n",
    "L, U = factorizacion_LU(A)\n",
    "\n",
    "print(\"Matriz L:\")\n",
    "print(L)\n",
    "print(\"\\nMatriz U:\")\n",
    "print(U)"
   ]
  },
  {
   "cell_type": "markdown",
   "id": "c95c419f-2af5-41b3-88a0-dc8b7f591903",
   "metadata": {},
   "source": [
    "**d.** $$\n",
    "\\begin{bmatrix}\n",
    "2.1756 & 4.0231 & -2.1732 & 5.1967 \\\\\n",
    "-4.0231 & 6.0000 & 0 & 1.1973 \\\\\n",
    "-1.0000 & -5.2107 & 1.1111 & 0 \\\\\n",
    "6.0235 & 7.0000 & 0 & -4.1561\n",
    "\\end{bmatrix}\n",
    "$$"
   ]
  },
  {
   "cell_type": "code",
   "execution_count": 34,
   "id": "bc0a50df-df74-42d7-b285-dbdbc5ce45e7",
   "metadata": {},
   "outputs": [
    {
     "name": "stdout",
     "output_type": "stream",
     "text": [
      "Matriz L:\n",
      "[[ 1.          0.          0.          0.        ]\n",
      " [-1.84919103  1.          0.          0.        ]\n",
      " [-0.45964332 -0.25012194  1.          0.        ]\n",
      " [ 2.76866152 -0.30794361 -5.35228302  1.        ]]\n",
      "\n",
      "Matriz U:\n",
      "[[ 2.1756      4.0231     -2.1732      5.1967    ]\n",
      " [ 0.         13.43948042 -4.01866194 10.80699101]\n",
      " [ 0.          0.         -0.89295239  5.09169403]\n",
      " [ 0.          0.          0.         12.03612803]]\n"
     ]
    }
   ],
   "source": [
    "A = np.array([\n",
    "    [2.1756, 4.0231, -2.1732, 5.1967],\n",
    "    [-4.0231, 6.0000, 0, 1.1973],\n",
    "    [-1.0000, -5.2107, 1.1111, 0],\n",
    "    [6.0235, 7.0000, 0, -4.1561]\n",
    "], dtype=float)\n",
    "\n",
    "L, U = factorizacion_LU(A)\n",
    "\n",
    "print(\"Matriz L:\")\n",
    "print(L)\n",
    "print(\"\\nMatriz U:\")\n",
    "print(U)"
   ]
  },
  {
   "cell_type": "markdown",
   "id": "74f0efaa-a53c-4962-8955-44f510f5e6b2",
   "metadata": {},
   "source": [
    "## 7. Modifique el algoritmo de eliminación gaussiana de tal forma que se pueda utilizar para resolver un sistema lineal usando la descomposición LU y, a continuación, resuelva los siguientes sistemas lineales."
   ]
  },
  {
   "cell_type": "code",
   "execution_count": 35,
   "id": "fd6f3065-3550-4f8a-af39-d6376a5206a1",
   "metadata": {},
   "outputs": [],
   "source": [
    "import numpy as np\n",
    "\n",
    "def factorizacion_LU(A):\n",
    "    \"\"\"\n",
    "    Implementa la eliminación gaussiana modificada para calcular la descomposición LU.\n",
    "    \n",
    "    Parámetro:\n",
    "    A : np.array (matriz cuadrada de tamaño n x n)\n",
    "\n",
    "    Retorna:\n",
    "    L : np.array (matriz triangular inferior con unos en la diagonal)\n",
    "    U : np.array (matriz triangular superior)\n",
    "    \"\"\"\n",
    "    n = A.shape[0]\n",
    "    L = np.eye(n)   # Inicializamos L con 1 en la diagonal\n",
    "    U = A.astype(float).copy()  # Copiamos A para modificarla en U\n",
    "\n",
    "    for i in range(n):\n",
    "        if U[i, i] == 0:\n",
    "            raise ValueError(\"Factorización imposible: la matriz es singular o requiere pivoteo.\")\n",
    "\n",
    "        for j in range(i+1, n):\n",
    "            factor = U[j, i] / U[i, i]  # Calculamos el multiplicador\n",
    "            L[j, i] = factor  # Guardamos el factor en L\n",
    "            U[j, i:] -= factor * U[i, i:]  # Modificamos filas en U\n",
    "\n",
    "    return L, U\n",
    "\n",
    "def resolver_sistema_LU(L, U, b):\n",
    "    \"\"\"\n",
    "    Resuelve el sistema LUx = b en dos pasos:\n",
    "    1. Ly = b (sustitución progresiva)\n",
    "    2. Ux = y (sustitución regresiva)\n",
    "    \n",
    "    Parámetros:\n",
    "    L: Matriz triangular inferior\n",
    "    U: Matriz triangular superior\n",
    "    b: Vector de términos independientes\n",
    "    \n",
    "    Retorna:\n",
    "    x: Vector solución del sistema\n",
    "    \"\"\"\n",
    "    n = L.shape[0]\n",
    "\n",
    "    # Sustitución progresiva para resolver Ly = b\n",
    "    y = np.zeros(n)\n",
    "    for i in range(n):\n",
    "        y[i] = b[i] - np.dot(L[i, :i], y[:i])\n",
    "\n",
    "    # Sustitución regresiva para resolver Ux = y\n",
    "    x = np.zeros(n)\n",
    "    for i in range(n-1, -1, -1):\n",
    "        x[i] = (y[i] - np.dot(U[i, i+1:], x[i+1:])) / U[i, i]\n",
    "\n",
    "    return x"
   ]
  },
  {
   "cell_type": "markdown",
   "id": "6d982599-e2ab-4892-9dc3-44f608f03d81",
   "metadata": {},
   "source": [
    "**a.** $$\n",
    "\\begin{aligned}\n",
    "2x_1 - x_2 + x_3 &= -1, \\\\\n",
    "3x_1 + 3x_2 + 9x_3 &= 0, \\\\\n",
    "3x_1 + 3x_2 + 5x_3 &= 4.\n",
    "\\end{aligned}\n",
    "$$"
   ]
  },
  {
   "cell_type": "code",
   "execution_count": 37,
   "id": "61d39693-b9f4-4fa2-9964-69a57c4967aa",
   "metadata": {},
   "outputs": [
    {
     "name": "stdout",
     "output_type": "stream",
     "text": [
      "Matriz L:\n",
      "[[1.  0.  0. ]\n",
      " [1.5 1.  0. ]\n",
      " [1.5 1.  1. ]]\n",
      "\n",
      "Matriz U:\n",
      "[[ 2.  -1.   1. ]\n",
      " [ 0.   4.5  7.5]\n",
      " [ 0.   0.  -4. ]]\n",
      "\n",
      "Solución del sistema:\n",
      "[ 1.  2. -1.]\n"
     ]
    }
   ],
   "source": [
    "A = np.array([\n",
    "    [2, -1, 1],\n",
    "    [3, 3, 9],\n",
    "    [3, 3, 5]\n",
    "], dtype=float)\n",
    "\n",
    "b = np.array([-1, 0, 4], dtype=float)\n",
    "\n",
    "L, U = factorizacion_LU(A)\n",
    "x = resolver_sistema_LU(L, U, b)\n",
    "\n",
    "print(\"Matriz L:\")\n",
    "print(L)\n",
    "print(\"\\nMatriz U:\")\n",
    "print(U)\n",
    "print(\"\\nSolución del sistema:\")\n",
    "print(x)"
   ]
  },
  {
   "cell_type": "markdown",
   "id": "a454f394-1e8f-42f4-900d-7eab59abeda6",
   "metadata": {},
   "source": [
    "**b.**  $$\n",
    "\\begin{aligned}\n",
    "1.012x_1 - 2.132x_2 + 3.104x_3 &= 1.984, \\\\\n",
    "-2.132x_1 + 4.096x_2 - 7.013x_3 &= -5.049, \\\\\n",
    "3.104x_1 - 7.013x_2 + 0.014x_3 &= -3.895.\n",
    "\\end{aligned}\n",
    "$$"
   ]
  },
  {
   "cell_type": "code",
   "execution_count": 38,
   "id": "81492961-041b-428c-9ca9-45f901f59ab0",
   "metadata": {},
   "outputs": [
    {
     "name": "stdout",
     "output_type": "stream",
     "text": [
      "Matriz L:\n",
      "[[ 1.          0.          0.        ]\n",
      " [-2.10671937  1.          0.        ]\n",
      " [ 3.06719368  1.19775553  1.        ]]\n",
      "\n",
      "Matriz U:\n",
      "[[ 1.012      -2.132       3.104     ]\n",
      " [ 0.         -0.39552569 -0.47374308]\n",
      " [ 0.          0.         -8.93914077]]\n",
      "\n",
      "Solución del sistema:\n",
      "[1. 1. 1.]\n"
     ]
    }
   ],
   "source": [
    "A = np.array([\n",
    "    [1.012, -2.132, 3.104],\n",
    "    [-2.132, 4.096, -7.013],\n",
    "    [3.104, -7.013, 0.014]\n",
    "], dtype=float)\n",
    "\n",
    "b = np.array([1.984, -5.049, -3.895], dtype=float)\n",
    "\n",
    "L, U = factorizacion_LU(A)\n",
    "x = resolver_sistema_LU(L, U, b)\n",
    "\n",
    "print(\"Matriz L:\")\n",
    "print(L)\n",
    "print(\"\\nMatriz U:\")\n",
    "print(U)\n",
    "print(\"\\nSolución del sistema:\")\n",
    "print(x)"
   ]
  },
  {
   "cell_type": "markdown",
   "id": "5974c243-9d34-4986-a503-f444fc1f40b6",
   "metadata": {},
   "source": [
    "**c.**  \n",
    "$$\n",
    "\\begin{aligned}\n",
    "2x_1 &= 3, \\\\\n",
    "x_1 + 1.5x_2 &= 4.5, \\\\\n",
    "-3x_2 + 0.5x_3 &= -6.6, \\\\\n",
    "2x_1 - 2x_2 + x_3 + x_4 &= 0.8.\n",
    "\\end{aligned}\n",
    "$$"
   ]
  },
  {
   "cell_type": "code",
   "execution_count": 39,
   "id": "c1c01d7c-a373-4b67-a927-0b766409cdc9",
   "metadata": {},
   "outputs": [
    {
     "name": "stdout",
     "output_type": "stream",
     "text": [
      "Matriz L:\n",
      "[[ 1.          0.          0.          0.        ]\n",
      " [ 0.5         1.          0.          0.        ]\n",
      " [ 0.         -2.          1.          0.        ]\n",
      " [ 1.         -1.33333333  2.          1.        ]]\n",
      "\n",
      "Matriz U:\n",
      "[[2.  0.  0.  0. ]\n",
      " [0.  1.5 0.  0. ]\n",
      " [0.  0.  0.5 0. ]\n",
      " [0.  0.  0.  1. ]]\n",
      "\n",
      "Solución del sistema:\n",
      "[ 1.5  2.  -1.2  3. ]\n"
     ]
    }
   ],
   "source": [
    "A = np.array([\n",
    "    [2, 0, 0, 0],\n",
    "    [1, 1.5, 0, 0],\n",
    "    [0, -3, 0.5, 0],\n",
    "    [2, -2, 1, 1]\n",
    "], dtype=float)\n",
    "\n",
    "b = np.array([3, 4.5, -6.6, 0.8], dtype=float)\n",
    "\n",
    "L, U = factorizacion_LU(A)\n",
    "x = resolver_sistema_LU(L, U, b)\n",
    "\n",
    "print(\"Matriz L:\")\n",
    "print(L)\n",
    "print(\"\\nMatriz U:\")\n",
    "print(U)\n",
    "print(\"\\nSolución del sistema:\")\n",
    "print(x)"
   ]
  },
  {
   "cell_type": "markdown",
   "id": "dfeeb820-60a2-4f17-b3a3-7892ed855b74",
   "metadata": {},
   "source": [
    "**d.**  \n",
    "$$\n",
    "\\begin{aligned}\n",
    "2.1756x_1 + 4.0231x_2 - 2.1732x_3 + 5.1967x_4 &= 17.102, \\\\\n",
    "-4.0231x_1 + 6.0000x_2 + 1.1973x_4 &= -6.1593, \\\\\n",
    "-1.0000x_1 - 5.2107x_2 + 1.1111x_3 &= 3.0004, \\\\\n",
    "6.0235x_1 + 7.0000x_2 - 4.1561x_4 &= 0.0000.\n",
    "\\end{aligned}\n",
    "$$"
   ]
  },
  {
   "cell_type": "code",
   "execution_count": 40,
   "id": "390bf1ee-cbcd-4dd1-a598-3fd30f18d499",
   "metadata": {},
   "outputs": [
    {
     "name": "stdout",
     "output_type": "stream",
     "text": [
      "Matriz L:\n",
      "[[ 1.          0.          0.          0.        ]\n",
      " [-1.84919103  1.          0.          0.        ]\n",
      " [-0.45964332 -0.25012194  1.          0.        ]\n",
      " [ 2.76866152 -0.30794361 -5.35228302  1.        ]]\n",
      "\n",
      "Matriz U:\n",
      "[[ 2.17560000e+00  4.02310000e+00 -2.17320000e+00  5.19670000e+00]\n",
      " [ 0.00000000e+00  1.34394804e+01 -4.01866194e+00  1.08069910e+01]\n",
      " [ 0.00000000e+00  4.44089210e-16 -8.92952394e-01  5.09169403e+00]\n",
      " [ 0.00000000e+00  0.00000000e+00  0.00000000e+00  1.20361280e+01]]\n",
      "\n",
      "Solución del sistema:\n",
      "[2.9398512  0.0706777  5.67773512 4.37981223]\n"
     ]
    }
   ],
   "source": [
    "A = np.array([\n",
    "    [2.1756, 4.0231, -2.1732, 5.1967],\n",
    "    [-4.0231, 6.0000, 0, 1.1973],\n",
    "    [-1.0000, -5.2107, 1.1111, 0],\n",
    "    [6.0235, 7.0000, 0, -4.1561]\n",
    "], dtype=float)\n",
    "\n",
    "b = np.array([17.102, -6.1593, 3.0004, 0.0000], dtype=float)\n",
    "\n",
    "L, U = factorizacion_LU(A)\n",
    "x = resolver_sistema_LU(L, U, b)\n",
    "\n",
    "print(\"Matriz L:\")\n",
    "print(L)\n",
    "print(\"\\nMatriz U:\")\n",
    "print(U)\n",
    "print(\"\\nSolución del sistema:\")\n",
    "print(x)"
   ]
  }
 ],
 "metadata": {
  "kernelspec": {
   "display_name": "Python 3.11",
   "language": "python",
   "name": "python3.11"
  },
  "language_info": {
   "codemirror_mode": {
    "name": "ipython",
    "version": 3
   },
   "file_extension": ".py",
   "mimetype": "text/x-python",
   "name": "python",
   "nbconvert_exporter": "python",
   "pygments_lexer": "ipython3",
   "version": "3.11.9"
  }
 },
 "nbformat": 4,
 "nbformat_minor": 5
}
