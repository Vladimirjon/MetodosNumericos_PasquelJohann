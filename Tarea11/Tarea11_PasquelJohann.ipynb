{
 "cells": [
  {
   "cell_type": "raw",
   "metadata": {},
   "source": [
    "---\n",
    "title: \"Tarea 11: Gauss-Jacobi & Gauss-Seidel\"\n",
    "author: \"Pasquel Johann\"\n",
    "lang: es\n",
    "format:\n",
    "  pdf:\n",
    "    toc: true\n",
    "    toc-title: \"Tabla de Contenidos\"\n",
    "    number-sections: true\n",
    "    pdf-engine: xelatex\n",
    "execute:\n",
    "  echo: true\n",
    "  warning: false\n",
    "  error: false\n",
    "jupyter: python3\n",
    "---"
   ]
  },
  {
   "cell_type": "code",
   "execution_count": 3,
   "metadata": {},
   "outputs": [],
   "source": [
    "%load_ext autoreload"
   ]
  },
  {
   "cell_type": "markdown",
   "metadata": {
    "vscode": {
     "languageId": "plaintext"
    }
   },
   "source": [
    "# GITHUB"
   ]
  },
  {
   "cell_type": "markdown",
   "metadata": {
    "vscode": {
     "languageId": "plaintext"
    }
   },
   "source": [
    "https://github.com/Vladimirjon/MetodosNumericos_PasquelJohann/tree/main/Tarea11"
   ]
  },
  {
   "cell_type": "markdown",
   "metadata": {
    "vscode": {
     "languageId": "plaintext"
    }
   },
   "source": [
    "# CONJUNTO DE EJERCICIOS "
   ]
  },
  {
   "cell_type": "markdown",
   "metadata": {
    "vscode": {
     "languageId": "plaintext"
    }
   },
   "source": [
    "## **1.** Encuentre las primeras dos iteraciones del método de Jacobi para los siguientes sistemas lineales, por medio de $x^{(0)}$ = 0:"
   ]
  },
  {
   "cell_type": "markdown",
   "metadata": {},
   "source": [
    "**a.**  \n",
    "$$\n",
    "\\begin{aligned}\n",
    "3x_1 - x_2 + x_3 &= 1, \\\\\n",
    "3x_1 + 6x_2 + 2x_3 &= 0, \\\\\n",
    "3x_1 + 3x_2 + 7x_3 &= 4.\n",
    "\\end{aligned}\n",
    "$$"
   ]
  },
  {
   "cell_type": "code",
   "execution_count": 16,
   "metadata": {},
   "outputs": [
    {
     "name": "stdout",
     "output_type": "stream",
     "text": [
      "[02-04 15:03:49][INFO] i= 0 x: [[0. 0. 0.]]\n",
      "[02-04 15:03:49][INFO] i= 1 x: [[0.33333333 0.         0.57142857]]\n",
      "Solution using Gauss-Jacobi method: [[0.33333333]\n",
      " [0.        ]\n",
      " [0.57142857]]\n"
     ]
    }
   ],
   "source": [
    "import numpy as np\n",
    "from src.iterative_methods import gauss_jacobi\n",
    "\n",
    "A = np.array([[3, -1, 1],\n",
    "              [3, 6, 2],\n",
    "              [3, 3, 7]], dtype=float)\n",
    "\n",
    "b = np.array([1, 0, 4], dtype=float)\n",
    "\n",
    "x0 = np.zeros((3, 1))  # Initial guess\n",
    "tol = 0.000001 # Tolerance\n",
    "max_iter = 2 # Maximum number of iterations\n",
    "\n",
    "# Solve using Gauss-Jacobi method\n",
    "x_jacobi, tray_jacobi = gauss_jacobi(A=A, b=b, x0=x0, tol=tol, max_iter=max_iter)\n",
    "print(\"Solution using Gauss-Jacobi method:\", x_jacobi)\n"
   ]
  },
  {
   "cell_type": "markdown",
   "metadata": {},
   "source": [
    "**b.**  \n",
    "$$\n",
    "\\begin{aligned}\n",
    "10x_1 - x_2 &= 9, \\\\\n",
    "-x_1 + 10x_2 - 2x_3 &= 7, \\\\\n",
    "-2x_2 + 10x_3 &= 6.\n",
    "\\end{aligned}\n",
    "$$"
   ]
  },
  {
   "cell_type": "code",
   "execution_count": 17,
   "metadata": {},
   "outputs": [
    {
     "name": "stdout",
     "output_type": "stream",
     "text": [
      "[02-04 15:03:59][INFO] i= 0 x: [[0. 0. 0.]]\n",
      "[02-04 15:03:59][INFO] i= 1 x: [[0.9 0.7 0.6]]\n",
      "Solution using Gauss-Jacobi method: [[0.9]\n",
      " [0.7]\n",
      " [0.6]]\n"
     ]
    }
   ],
   "source": [
    "%autoreload 2\n",
    "import numpy as np\n",
    "from src.iterative_methods import gauss_jacobi\n",
    "\n",
    "A = np.array([[10, -1, 0],\n",
    "              [-1, 10, -2],\n",
    "              [0, -2, 10]], dtype=float)\n",
    "\n",
    "b = np.array([9, 7, 6], dtype=float)\n",
    "\n",
    "x0 = np.zeros((3, 1))  # Initial guess\n",
    "tol = 0.000001 # Tolerance\n",
    "max_iter = 2 # Maximum number of iterations\n",
    "\n",
    "# Solve using Gauss-Jacobi method\n",
    "x_jacobi, tray_jacobi = gauss_jacobi(A=A, b=b, x0=x0, tol=tol, max_iter=max_iter)\n",
    "print(\"Solution using Gauss-Jacobi method:\", x_jacobi)"
   ]
  },
  {
   "cell_type": "markdown",
   "metadata": {},
   "source": [
    "**c.**  \n",
    "$$\n",
    "\\begin{aligned}\n",
    "10x_1 + 5x_2 &= 6, \\\\\n",
    "5x_1 + 10x_2 - 4x_3 &= 25, \\\\\n",
    "-4x_2 + 8x_3 - x_4 &= -11, \\\\\n",
    "-x_3 + 5x_4 &= -11.\n",
    "\\end{aligned}\n",
    "$$"
   ]
  },
  {
   "cell_type": "code",
   "execution_count": 18,
   "metadata": {},
   "outputs": [
    {
     "name": "stdout",
     "output_type": "stream",
     "text": [
      "[02-04 15:04:03][INFO] i= 0 x: [[0. 0. 0. 0.]]\n",
      "[02-04 15:04:03][INFO] i= 1 x: [[ 0.6    2.5   -1.375 -2.2  ]]\n",
      "Solution using Gauss-Jacobi method: [[ 0.6  ]\n",
      " [ 2.5  ]\n",
      " [-1.375]\n",
      " [-2.2  ]]\n"
     ]
    }
   ],
   "source": [
    "%autoreload 2\n",
    "import numpy as np\n",
    "from src.iterative_methods import gauss_jacobi\n",
    "\n",
    "A = np.array([[10, 5, 0, 0],\n",
    "              [5, 10, -4, 0],\n",
    "              [0, -4, 8, -1],\n",
    "              [0, 0, -1, 5]], dtype=float)\n",
    "\n",
    "b = np.array([6, 25, -11, -11], dtype=float)\n",
    "\n",
    "x0 = np.zeros((4, 1))  # Initial guess\n",
    "tol = 0.000001  # Tolerance\n",
    "max_iter = 2  # Maximum number of iterations\n",
    "\n",
    "# Solve using Gauss-Jacobi method\n",
    "x_jacobi, tray_jacobi = gauss_jacobi(A=A, b=b, x0=x0, tol=tol, max_iter=max_iter)\n",
    "print(\"Solution using Gauss-Jacobi method:\", x_jacobi)"
   ]
  },
  {
   "cell_type": "markdown",
   "metadata": {},
   "source": [
    "**d.**  \n",
    "$$\n",
    "\\begin{aligned}\n",
    "4x_1 + x_2 + x_3 + x_5 &= 6, \\\\\n",
    "-x_1 - 3x_2 + x_3 + x_4 &= 6, \\\\\n",
    "2x_1 + x_2 + 5x_3 - x_4 - x_5 &= 6, \\\\\n",
    "-x_1 - x_2 - x_3 + 4x_4 &= 6, \\\\\n",
    "2x_2 - x_3 + x_4 + 4x_5 &= 6.\n",
    "\\end{aligned}\n",
    "$$"
   ]
  },
  {
   "cell_type": "code",
   "execution_count": 19,
   "metadata": {},
   "outputs": [
    {
     "name": "stdout",
     "output_type": "stream",
     "text": [
      "[02-04 15:04:07][INFO] i= 0 x: [[0. 0. 0. 0. 0.]]\n",
      "[02-04 15:04:07][INFO] i= 1 x: [[ 1.5 -2.   1.2  1.5  1.5]]\n",
      "Solution using Gauss-Jacobi method: [[ 1.5]\n",
      " [-2. ]\n",
      " [ 1.2]\n",
      " [ 1.5]\n",
      " [ 1.5]]\n"
     ]
    }
   ],
   "source": [
    "%autoreload 2\n",
    "import numpy as np\n",
    "from src.iterative_methods import gauss_jacobi\n",
    "\n",
    "A = np.array([[4, 1, 1, 0, 1],\n",
    "              [-1, -3, 1, 1, 0],\n",
    "              [2, 1, 5, -1, -1],\n",
    "              [-1, -1, -1, 4, 0],\n",
    "              [0, 2, -1, 1, 4]], dtype=float)\n",
    "\n",
    "b = np.array([6, 6, 6, 6, 6], dtype=float)\n",
    "\n",
    "x0 = np.zeros((5, 1))  # Initial guess\n",
    "tol = 0.000001  # Tolerance\n",
    "max_iter = 2  # Maximum number of iterations\n",
    "\n",
    "# Solve using Gauss-Jacobi method\n",
    "x_jacobi, tray_jacobi = gauss_jacobi(A=A, b=b, x0=x0, tol=tol, max_iter=max_iter)\n",
    "print(\"Solution using Gauss-Jacobi method:\", x_jacobi)"
   ]
  },
  {
   "cell_type": "markdown",
   "metadata": {},
   "source": [
    "## **2.** Repita el ejercicio 1 usando el método de Gauss-Siedel."
   ]
  },
  {
   "cell_type": "markdown",
   "metadata": {},
   "source": [
    "**a.**  \n",
    "$$\n",
    "\\begin{aligned}\n",
    "3x_1 - x_2 + x_3 &= 1, \\\\\n",
    "3x_1 + 6x_2 + 2x_3 &= 0, \\\\\n",
    "3x_1 + 3x_2 + 7x_3 &= 4.\n",
    "\\end{aligned}\n",
    "$$"
   ]
  },
  {
   "cell_type": "code",
   "execution_count": 20,
   "metadata": {},
   "outputs": [
    {
     "name": "stdout",
     "output_type": "stream",
     "text": [
      "[02-04 15:04:12][INFO] i= 0 x: [[0. 0. 0.]]\n",
      "[02-04 15:04:12][INFO] i= 1 x: [[ 0.33333333 -0.16666667  0.5       ]]\n",
      "Solution using Gauss-Seidel method: [[ 0.33333333]\n",
      " [-0.16666667]\n",
      " [ 0.5       ]]\n"
     ]
    }
   ],
   "source": [
    "%autoreload 2\n",
    "\n",
    "from src.iterative_methods import gauss_seidel\n",
    "import numpy as np\n",
    "\n",
    "A = np.array([[3, -1, 1],\n",
    "              [3, 6, 2],\n",
    "              [3, 3, 7]], dtype=float)\n",
    "\n",
    "b = np.array([1, 0, 4], dtype=float)\n",
    "\n",
    "x0 = np.zeros((3, 1))  # Initial guess\n",
    "tol = 0.000001 # Tolerance\n",
    "max_iter = 2 # Maximum number of iterations\n",
    "\n",
    "# Solve using Gauss-Seidel method\n",
    "x_seidel, tray_seidel = gauss_seidel(A=A, b=b, x0=x0, tol=tol, max_iter=max_iter)\n",
    "print(\"Solution using Gauss-Seidel method:\", x_seidel)"
   ]
  },
  {
   "cell_type": "markdown",
   "metadata": {},
   "source": [
    "**b.**  \n",
    "$$\n",
    "\\begin{aligned}\n",
    "10x_1 - x_2 &= 9, \\\\\n",
    "-x_1 + 10x_2 - 2x_3 &= 7, \\\\\n",
    "-2x_2 + 10x_3 &= 6.\n",
    "\\end{aligned}\n",
    "$$"
   ]
  },
  {
   "cell_type": "code",
   "execution_count": 21,
   "metadata": {},
   "outputs": [
    {
     "name": "stdout",
     "output_type": "stream",
     "text": [
      "[02-04 15:04:15][INFO] i= 0 x: [[0. 0. 0.]]\n",
      "[02-04 15:04:15][INFO] i= 1 x: [[0.9   0.79  0.758]]\n",
      "Solution using Gauss-Seidel method: [[0.9  ]\n",
      " [0.79 ]\n",
      " [0.758]]\n"
     ]
    }
   ],
   "source": [
    "%autoreload 2\n",
    "\n",
    "from src.iterative_methods import gauss_seidel\n",
    "import numpy as np\n",
    "\n",
    "A = np.array([[10, -1, 0],\n",
    "              [-1, 10, -2],\n",
    "              [0, -2, 10]], dtype=float)\n",
    "\n",
    "b = np.array([9, 7, 6], dtype=float)\n",
    "\n",
    "x0 = np.zeros((3, 1))  # Initial guess\n",
    "tol = 0.000001 # Tolerance\n",
    "max_iter = 2 # Maximum number of iterations\n",
    "\n",
    "# Solve using Gauss-Seidel method\n",
    "x_seidel, tray_seidel = gauss_seidel(A=A, b=b, x0=x0, tol=tol, max_iter=max_iter)\n",
    "print(\"Solution using Gauss-Seidel method:\", x_seidel)"
   ]
  },
  {
   "cell_type": "markdown",
   "metadata": {},
   "source": [
    "**c.**  \n",
    "$$\n",
    "\\begin{aligned}\n",
    "10x_1 + 5x_2 &= 6, \\\\\n",
    "5x_1 + 10x_2 - 4x_3 &= 25, \\\\\n",
    "-4x_2 + 8x_3 - x_4 &= -11, \\\\\n",
    "-x_3 + 5x_4 &= -11.\n",
    "\\end{aligned}\n",
    "$$"
   ]
  },
  {
   "cell_type": "code",
   "execution_count": 22,
   "metadata": {},
   "outputs": [
    {
     "name": "stdout",
     "output_type": "stream",
     "text": [
      "[02-04 15:04:19][INFO] i= 0 x: [[0. 0. 0. 0.]]\n",
      "[02-04 15:04:19][INFO] i= 1 x: [[ 0.6    2.2   -0.275 -2.255]]\n",
      "Solution using Gauss-Seidel method: [[ 0.6  ]\n",
      " [ 2.2  ]\n",
      " [-0.275]\n",
      " [-2.255]]\n"
     ]
    }
   ],
   "source": [
    "%autoreload 2\n",
    "\n",
    "from src.iterative_methods import gauss_seidel\n",
    "import numpy as np\n",
    "\n",
    "A = np.array([[10, 5, 0, 0],\n",
    "              [5, 10, -4, 0],\n",
    "              [0, -4, 8, -1],\n",
    "              [0, 0, -1, 5]], dtype=float)\n",
    "\n",
    "b = np.array([6, 25, -11, -11], dtype=float)\n",
    "\n",
    "x0 = np.zeros((4, 1))  # Initial guess\n",
    "tol = 0.000001  # Tolerance\n",
    "max_iter = 2  # Maximum number of iterations\n",
    "\n",
    "# Solve using Gauss-Seidel method\n",
    "x_seidel, tray_seidel = gauss_seidel(A=A, b=b, x0=x0, tol=tol, max_iter=max_iter)\n",
    "print(\"Solution using Gauss-Seidel method:\", x_seidel)"
   ]
  },
  {
   "cell_type": "markdown",
   "metadata": {},
   "source": [
    "**d.**  \n",
    "$$\n",
    "\\begin{aligned}\n",
    "4x_1 + x_2 + x_3 + x_5 &= 6, \\\\\n",
    "-x_1 - 3x_2 + x_3 + x_4 &= 6, \\\\\n",
    "2x_1 + x_2 + 5x_3 - x_4 - x_5 &= 6, \\\\\n",
    "-x_1 - x_2 - x_3 + 4x_4 &= 6, \\\\\n",
    "2x_2 - x_3 + x_4 + 4x_5 &= 6.\n",
    "\\end{aligned}\n",
    "$$"
   ]
  },
  {
   "cell_type": "code",
   "execution_count": 23,
   "metadata": {},
   "outputs": [
    {
     "name": "stdout",
     "output_type": "stream",
     "text": [
      "[02-04 15:04:23][INFO] i= 0 x: [[0. 0. 0. 0. 0.]]\n",
      "[02-04 15:04:23][INFO] i= 1 x: [[ 1.5     -2.5      1.1      1.525    2.64375]]\n",
      "Solution using Gauss-Seidel method: [[ 1.5    ]\n",
      " [-2.5    ]\n",
      " [ 1.1    ]\n",
      " [ 1.525  ]\n",
      " [ 2.64375]]\n"
     ]
    }
   ],
   "source": [
    "%autoreload 2\n",
    "\n",
    "from src.iterative_methods import gauss_seidel\n",
    "import numpy as np\n",
    "\n",
    "A = np.array([[4, 1, 1, 0, 1],\n",
    "              [-1, -3, 1, 1, 0],\n",
    "              [2, 1, 5, -1, -1],\n",
    "              [-1, -1, -1, 4, 0],\n",
    "              [0, 2, -1, 1, 4]], dtype=float)\n",
    "\n",
    "b = np.array([6, 6, 6, 6, 6], dtype=float)\n",
    "\n",
    "x0 = np.zeros((5, 1))  # Initial guess\n",
    "tol = 0.000001  # Tolerance\n",
    "max_iter = 2  # Maximum number of iterations\n",
    "\n",
    "# Solve using Gauss-Seidel method\n",
    "x_seidel, tray_seidel = gauss_seidel(A=A, b=b, x0=x0, tol=tol, max_iter=max_iter)\n",
    "print(\"Solution using Gauss-Seidel method:\", x_seidel)"
   ]
  },
  {
   "cell_type": "markdown",
   "metadata": {},
   "source": [
    "## **3.** Utilice el método de Jacobi para resolver los sistemas lineales en el ejercicio 1, con $TOL = 10_{-3}$"
   ]
  },
  {
   "cell_type": "markdown",
   "metadata": {},
   "source": [
    "**a.**  \n",
    "$$\n",
    "\\begin{aligned}\n",
    "3x_1 - x_2 + x_3 &= 1, \\\\\n",
    "3x_1 + 6x_2 + 2x_3 &= 0, \\\\\n",
    "3x_1 + 3x_2 + 7x_3 &= 4.\n",
    "\\end{aligned}\n",
    "$$"
   ]
  },
  {
   "cell_type": "code",
   "execution_count": 8,
   "metadata": {},
   "outputs": [
    {
     "name": "stdout",
     "output_type": "stream",
     "text": [
      "[02-04 15:02:06][INFO] i= 0 x: [[0. 0. 0.]]\n",
      "[02-04 15:02:06][INFO] i= 1 x: [[0.33333333 0.         0.57142857]]\n",
      "Solution using Gauss-Jacobi method: [[0.33333333]\n",
      " [0.        ]\n",
      " [0.57142857]]\n"
     ]
    }
   ],
   "source": [
    "import numpy as np\n",
    "from src.iterative_methods import gauss_jacobi\n",
    "\n",
    "A = np.array([[3, -1, 1],\n",
    "              [3, 6, 2],\n",
    "              [3, 3, 7]], dtype=float)\n",
    "\n",
    "b = np.array([1, 0, 4], dtype=float)\n",
    "\n",
    "x0 = np.zeros((3, 1))  # Initial guess\n",
    "tol = 0.001 # Tolerance\n",
    "max_iter = 2 # Maximum number of iterations\n",
    "\n",
    "# Solve using Gauss-Jacobi method\n",
    "x_jacobi, tray_jacobi = gauss_jacobi(A=A, b=b, x0=x0, tol=tol, max_iter=max_iter)\n",
    "print(\"Solution using Gauss-Jacobi method:\", x_jacobi)\n"
   ]
  },
  {
   "cell_type": "markdown",
   "metadata": {},
   "source": [
    "**b.**  \n",
    "$$\n",
    "\\begin{aligned}\n",
    "10x_1 - x_2 &= 9, \\\\\n",
    "-x_1 + 10x_2 - 2x_3 &= 7, \\\\\n",
    "-2x_2 + 10x_3 &= 6.\n",
    "\\end{aligned}\n",
    "$$"
   ]
  },
  {
   "cell_type": "code",
   "execution_count": 9,
   "metadata": {},
   "outputs": [
    {
     "name": "stdout",
     "output_type": "stream",
     "text": [
      "[02-04 15:02:17][INFO] i= 0 x: [[0. 0. 0.]]\n",
      "[02-04 15:02:17][INFO] i= 1 x: [[0.9 0.7 0.6]]\n",
      "Solution using Gauss-Jacobi method: [[0.9]\n",
      " [0.7]\n",
      " [0.6]]\n"
     ]
    }
   ],
   "source": [
    "%autoreload 2\n",
    "import numpy as np\n",
    "from src.iterative_methods import gauss_jacobi\n",
    "\n",
    "A = np.array([[10, -1, 0],\n",
    "              [-1, 10, -2],\n",
    "              [0, -2, 10]], dtype=float)\n",
    "\n",
    "b = np.array([9, 7, 6], dtype=float)\n",
    "\n",
    "x0 = np.zeros((3, 1))  # Initial guess\n",
    "tol = 0.001 # Tolerance\n",
    "max_iter = 2 # Maximum number of iterations\n",
    "\n",
    "# Solve using Gauss-Jacobi method\n",
    "x_jacobi, tray_jacobi = gauss_jacobi(A=A, b=b, x0=x0, tol=tol, max_iter=max_iter)\n",
    "print(\"Solution using Gauss-Jacobi method:\", x_jacobi)"
   ]
  },
  {
   "cell_type": "markdown",
   "metadata": {},
   "source": [
    "**c.**  \n",
    "$$\n",
    "\\begin{aligned}\n",
    "10x_1 + 5x_2 &= 6, \\\\\n",
    "5x_1 + 10x_2 - 4x_3 &= 25, \\\\\n",
    "-4x_2 + 8x_3 - x_4 &= -11, \\\\\n",
    "-x_3 + 5x_4 &= -11.\n",
    "\\end{aligned}\n",
    "$$"
   ]
  },
  {
   "cell_type": "code",
   "execution_count": 10,
   "metadata": {},
   "outputs": [
    {
     "name": "stdout",
     "output_type": "stream",
     "text": [
      "[02-04 15:02:30][INFO] i= 0 x: [[0. 0. 0. 0.]]\n",
      "[02-04 15:02:30][INFO] i= 1 x: [[ 0.6    2.5   -1.375 -2.2  ]]\n",
      "Solution using Gauss-Jacobi method: [[ 0.6  ]\n",
      " [ 2.5  ]\n",
      " [-1.375]\n",
      " [-2.2  ]]\n"
     ]
    }
   ],
   "source": [
    "%autoreload 2\n",
    "import numpy as np\n",
    "from src.iterative_methods import gauss_jacobi\n",
    "\n",
    "A = np.array([[10, 5, 0, 0],\n",
    "              [5, 10, -4, 0],\n",
    "              [0, -4, 8, -1],\n",
    "              [0, 0, -1, 5]], dtype=float)\n",
    "\n",
    "b = np.array([6, 25, -11, -11], dtype=float)\n",
    "\n",
    "x0 = np.zeros((4, 1))  # Initial guess\n",
    "tol = 0.001  # Tolerance\n",
    "max_iter = 2  # Maximum number of iterations\n",
    "\n",
    "# Solve using Gauss-Jacobi method\n",
    "x_jacobi, tray_jacobi = gauss_jacobi(A=A, b=b, x0=x0, tol=tol, max_iter=max_iter)\n",
    "print(\"Solution using Gauss-Jacobi method:\", x_jacobi)"
   ]
  },
  {
   "cell_type": "markdown",
   "metadata": {},
   "source": [
    "**d.**  \n",
    "$$\n",
    "\\begin{aligned}\n",
    "4x_1 + x_2 + x_3 + x_5 &= 6, \\\\\n",
    "-x_1 - 3x_2 + x_3 + x_4 &= 6, \\\\\n",
    "2x_1 + x_2 + 5x_3 - x_4 - x_5 &= 6, \\\\\n",
    "-x_1 - x_2 - x_3 + 4x_4 &= 6, \\\\\n",
    "2x_2 - x_3 + x_4 + 4x_5 &= 6.\n",
    "\\end{aligned}\n",
    "$$"
   ]
  },
  {
   "cell_type": "code",
   "execution_count": 11,
   "metadata": {},
   "outputs": [
    {
     "name": "stdout",
     "output_type": "stream",
     "text": [
      "[02-04 15:02:43][INFO] i= 0 x: [[0. 0. 0. 0. 0.]]\n",
      "[02-04 15:02:43][INFO] i= 1 x: [[ 1.5 -2.   1.2  1.5  1.5]]\n",
      "Solution using Gauss-Jacobi method: [[ 1.5]\n",
      " [-2. ]\n",
      " [ 1.2]\n",
      " [ 1.5]\n",
      " [ 1.5]]\n"
     ]
    }
   ],
   "source": [
    "%autoreload 2\n",
    "import numpy as np\n",
    "from src.iterative_methods import gauss_jacobi\n",
    "\n",
    "A = np.array([[4, 1, 1, 0, 1],\n",
    "              [-1, -3, 1, 1, 0],\n",
    "              [2, 1, 5, -1, -1],\n",
    "              [-1, -1, -1, 4, 0],\n",
    "              [0, 2, -1, 1, 4]], dtype=float)\n",
    "\n",
    "b = np.array([6, 6, 6, 6, 6], dtype=float)\n",
    "\n",
    "x0 = np.zeros((5, 1))  # Initial guess\n",
    "tol = 0.001  # Tolerance\n",
    "max_iter = 2  # Maximum number of iterations\n",
    "\n",
    "# Solve using Gauss-Jacobi method\n",
    "x_jacobi, tray_jacobi = gauss_jacobi(A=A, b=b, x0=x0, tol=tol, max_iter=max_iter)\n",
    "print(\"Solution using Gauss-Jacobi method:\", x_jacobi)"
   ]
  },
  {
   "cell_type": "markdown",
   "metadata": {},
   "source": [
    "## **4.** Utilice el método de Gauss-Siedel para resolver los sistemas lineales en el ejercicio 1, con $TOL = 10_{-3}$.\n"
   ]
  },
  {
   "cell_type": "markdown",
   "metadata": {},
   "source": [
    "**a.**  \n",
    "$$\n",
    "\\begin{aligned}\n",
    "3x_1 - x_2 + x_3 &= 1, \\\\\n",
    "3x_1 + 6x_2 + 2x_3 &= 0, \\\\\n",
    "3x_1 + 3x_2 + 7x_3 &= 4.\n",
    "\\end{aligned}\n",
    "$$"
   ]
  },
  {
   "cell_type": "code",
   "execution_count": 15,
   "metadata": {},
   "outputs": [
    {
     "name": "stdout",
     "output_type": "stream",
     "text": [
      "[02-04 15:03:35][INFO] i= 0 x: [[0. 0. 0.]]\n",
      "[02-04 15:03:35][INFO] i= 1 x: [[ 0.33333333 -0.16666667  0.5       ]]\n",
      "Solution using Gauss-Seidel method: [[ 0.33333333]\n",
      " [-0.16666667]\n",
      " [ 0.5       ]]\n"
     ]
    }
   ],
   "source": [
    "%autoreload 2\n",
    "\n",
    "from src.iterative_methods import gauss_seidel\n",
    "import numpy as np\n",
    "\n",
    "A = np.array([[3, -1, 1],\n",
    "              [3, 6, 2],\n",
    "              [3, 3, 7]], dtype=float)\n",
    "\n",
    "b = np.array([1, 0, 4], dtype=float)\n",
    "\n",
    "x0 = np.zeros((3, 1))  # Initial guess\n",
    "tol = 0.001 # Tolerance\n",
    "max_iter = 2 # Maximum number of iterations\n",
    "\n",
    "# Solve using Gauss-Seidel method\n",
    "x_seidel, tray_seidel = gauss_seidel(A=A, b=b, x0=x0, tol=tol, max_iter=max_iter)\n",
    "print(\"Solution using Gauss-Seidel method:\", x_seidel)"
   ]
  },
  {
   "cell_type": "markdown",
   "metadata": {},
   "source": [
    "**b.**  \n",
    "$$\n",
    "\\begin{aligned}\n",
    "10x_1 - x_2 &= 9, \\\\\n",
    "-x_1 + 10x_2 - 2x_3 &= 7, \\\\\n",
    "-2x_2 + 10x_3 &= 6.\n",
    "\\end{aligned}\n",
    "$$"
   ]
  },
  {
   "cell_type": "code",
   "execution_count": 14,
   "metadata": {},
   "outputs": [
    {
     "name": "stdout",
     "output_type": "stream",
     "text": [
      "[02-04 15:03:20][INFO] i= 0 x: [[0. 0. 0.]]\n",
      "[02-04 15:03:20][INFO] i= 1 x: [[0.9   0.79  0.758]]\n",
      "Solution using Gauss-Seidel method: [[0.9  ]\n",
      " [0.79 ]\n",
      " [0.758]]\n"
     ]
    }
   ],
   "source": [
    "%autoreload 2\n",
    "\n",
    "from src.iterative_methods import gauss_seidel\n",
    "import numpy as np\n",
    "\n",
    "A = np.array([[10, -1, 0],\n",
    "              [-1, 10, -2],\n",
    "              [0, -2, 10]], dtype=float)\n",
    "\n",
    "b = np.array([9, 7, 6], dtype=float)\n",
    "\n",
    "x0 = np.zeros((3, 1))  # Initial guess\n",
    "tol = 0.001 # Tolerance\n",
    "max_iter = 2 # Maximum number of iterations\n",
    "\n",
    "# Solve using Gauss-Seidel method\n",
    "x_seidel, tray_seidel = gauss_seidel(A=A, b=b, x0=x0, tol=tol, max_iter=max_iter)\n",
    "print(\"Solution using Gauss-Seidel method:\", x_seidel)"
   ]
  },
  {
   "cell_type": "markdown",
   "metadata": {},
   "source": [
    "**c.**  \n",
    "$$\n",
    "\\begin{aligned}\n",
    "10x_1 + 5x_2 &= 6, \\\\\n",
    "5x_1 + 10x_2 - 4x_3 &= 25, \\\\\n",
    "-4x_2 + 8x_3 - x_4 &= -11, \\\\\n",
    "-x_3 + 5x_4 &= -11.\n",
    "\\end{aligned}\n",
    "$$"
   ]
  },
  {
   "cell_type": "code",
   "execution_count": 13,
   "metadata": {},
   "outputs": [
    {
     "name": "stdout",
     "output_type": "stream",
     "text": [
      "[02-04 15:03:07][INFO] i= 0 x: [[0. 0. 0. 0.]]\n",
      "[02-04 15:03:07][INFO] i= 1 x: [[ 0.6    2.2   -0.275 -2.255]]\n",
      "Solution using Gauss-Seidel method: [[ 0.6  ]\n",
      " [ 2.2  ]\n",
      " [-0.275]\n",
      " [-2.255]]\n"
     ]
    }
   ],
   "source": [
    "%autoreload 2\n",
    "\n",
    "from src.iterative_methods import gauss_seidel\n",
    "import numpy as np\n",
    "\n",
    "A = np.array([[10, 5, 0, 0],\n",
    "              [5, 10, -4, 0],\n",
    "              [0, -4, 8, -1],\n",
    "              [0, 0, -1, 5]], dtype=float)\n",
    "\n",
    "b = np.array([6, 25, -11, -11], dtype=float)\n",
    "\n",
    "x0 = np.zeros((4, 1))  # Initial guess\n",
    "tol = 0.001  # Tolerance\n",
    "max_iter = 2  # Maximum number of iterations\n",
    "\n",
    "# Solve using Gauss-Seidel method\n",
    "x_seidel, tray_seidel = gauss_seidel(A=A, b=b, x0=x0, tol=tol, max_iter=max_iter)\n",
    "print(\"Solution using Gauss-Seidel method:\", x_seidel)"
   ]
  },
  {
   "cell_type": "markdown",
   "metadata": {},
   "source": [
    "**d.**  \n",
    "$$\n",
    "\\begin{aligned}\n",
    "4x_1 + x_2 + x_3 + x_5 &= 6, \\\\\n",
    "-x_1 - 3x_2 + x_3 + x_4 &= 6, \\\\\n",
    "2x_1 + x_2 + 5x_3 - x_4 - x_5 &= 6, \\\\\n",
    "-x_1 - x_2 - x_3 + 4x_4 &= 6, \\\\\n",
    "2x_2 - x_3 + x_4 + 4x_5 &= 6.\n",
    "\\end{aligned}\n",
    "$$"
   ]
  },
  {
   "cell_type": "code",
   "execution_count": 12,
   "metadata": {},
   "outputs": [
    {
     "name": "stdout",
     "output_type": "stream",
     "text": [
      "[02-04 15:02:54][INFO] i= 0 x: [[0. 0. 0. 0. 0.]]\n",
      "[02-04 15:02:54][INFO] i= 1 x: [[ 1.5     -2.5      1.1      1.525    2.64375]]\n",
      "Solution using Gauss-Seidel method: [[ 1.5    ]\n",
      " [-2.5    ]\n",
      " [ 1.1    ]\n",
      " [ 1.525  ]\n",
      " [ 2.64375]]\n"
     ]
    }
   ],
   "source": [
    "%autoreload 2\n",
    "\n",
    "from src.iterative_methods import gauss_seidel\n",
    "import numpy as np\n",
    "\n",
    "A = np.array([[4, 1, 1, 0, 1],\n",
    "              [-1, -3, 1, 1, 0],\n",
    "              [2, 1, 5, -1, -1],\n",
    "              [-1, -1, -1, 4, 0],\n",
    "              [0, 2, -1, 1, 4]], dtype=float)\n",
    "\n",
    "b = np.array([6, 6, 6, 6, 6], dtype=float)\n",
    "\n",
    "x0 = np.zeros((5, 1))  # Initial guess\n",
    "tol = 0.001  # Tolerance\n",
    "max_iter = 2  # Maximum number of iterations\n",
    "\n",
    "# Solve using Gauss-Seidel method\n",
    "x_seidel, tray_seidel = gauss_seidel(A=A, b=b, x0=x0, tol=tol, max_iter=max_iter)\n",
    "print(\"Solution using Gauss-Seidel method:\", x_seidel)"
   ]
  },
  {
   "cell_type": "markdown",
   "metadata": {},
   "source": [
    "## **5.** El sistema lineal"
   ]
  },
  {
   "cell_type": "markdown",
   "metadata": {},
   "source": [
    "$$\n",
    "\\begin{aligned}\n",
    "2x_1 - x_2 + x_3 &= -1, \\\\\n",
    "2x_1 + 2x_2 + 2x_3 &= 4, \\\\\n",
    "-x_1 - x_2 + 2x_3 &= -5.\n",
    "\\end{aligned}\n",
    "$$\n",
    "\n",
    "*tiene la solución (1,2,-1)*"
   ]
  },
  {
   "cell_type": "markdown",
   "metadata": {},
   "source": [
    "**a. Muestre que el método de Jacobi con $x_{(0)}=0$ falla al proporcionar una buena aproximación después de 25 iteraciones.**"
   ]
  },
  {
   "cell_type": "code",
   "execution_count": 5,
   "metadata": {},
   "outputs": [
    {
     "name": "stdout",
     "output_type": "stream",
     "text": [
      "[02-04 23:31:23][INFO] i= 0 x: [[0. 0. 0.]]\n",
      "[02-04 23:31:23][INFO] i= 1 x: [[-0.5  2.  -2.5]]\n",
      "[02-04 23:31:23][INFO] i= 2 x: [[ 1.75  5.   -1.75]]\n",
      "[02-04 23:31:23][INFO] i= 3 x: [[2.875 2.    0.875]]\n",
      "[02-04 23:31:23][INFO] i= 4 x: [[ 0.0625 -1.75   -0.0625]]\n",
      "[02-04 23:31:23][INFO] i= 5 x: [[-1.34375  2.      -3.34375]]\n",
      "[02-04 23:31:23][INFO] i= 6 x: [[ 2.171875  6.6875   -2.171875]]\n",
      "[02-04 23:31:23][INFO] i= 7 x: [[3.9296875 2.        1.9296875]]\n",
      "[02-04 23:31:23][INFO] i= 8 x: [[-0.46484375 -3.859375    0.46484375]]\n",
      "[02-04 23:31:23][INFO] i= 9 x: [[-2.66210938  2.         -4.66210938]]\n",
      "[02-04 23:31:23][INFO] i= 10 x: [[ 2.83105469  9.32421875 -2.83105469]]\n",
      "[02-04 23:31:23][INFO] i= 11 x: [[5.57763672 2.         3.57763672]]\n",
      "[02-04 23:31:23][INFO] i= 12 x: [[-1.28881836 -7.15527344  1.28881836]]\n",
      "[02-04 23:31:23][INFO] i= 13 x: [[-4.7220459  2.        -6.7220459]]\n",
      "[02-04 23:31:23][INFO] i= 14 x: [[ 3.86102295 13.4440918  -3.86102295]]\n",
      "[02-04 23:31:23][INFO] i= 15 x: [[8.15255737 2.         6.15255737]]\n",
      "[02-04 23:31:23][INFO] i= 16 x: [[ -2.57627869 -12.30511475   2.57627869]]\n",
      "[02-04 23:31:23][INFO] i= 17 x: [[-7.94069672  2.         -9.94069672]]\n",
      "[02-04 23:31:23][INFO] i= 18 x: [[ 5.47034836 19.88139343 -5.47034836]]\n",
      "[02-04 23:31:23][INFO] i= 19 x: [[12.1758709  2.        10.1758709]]\n",
      "[02-04 23:31:23][INFO] i= 20 x: [[ -4.58793545 -20.35174179   4.58793545]]\n",
      "[02-04 23:31:23][INFO] i= 21 x: [[-12.96983862   2.         -14.96983862]]\n",
      "[02-04 23:31:23][INFO] i= 22 x: [[ 7.98491931 29.93967724 -7.98491931]]\n",
      "[02-04 23:31:23][INFO] i= 23 x: [[18.46229827  2.         16.46229827]]\n",
      "[02-04 23:31:23][INFO] i= 24 x: [[ -7.73114914 -32.92459655   7.73114914]]\n",
      "Gauss-Jacobi después de 25 iteraciones: [[ -7.73114914]\n",
      " [-32.92459655]\n",
      " [  7.73114914]]\n"
     ]
    }
   ],
   "source": [
    "%autoreload 2\n",
    "import numpy as np\n",
    "from src.iterative_methods import gauss_jacobi\n",
    "\n",
    "A = np.array([[2, -1, 1],\n",
    "              [2, 2, 2],\n",
    "              [-1, -1, 2]], dtype=float)\n",
    "\n",
    "b = np.array([-1, 4, -5], dtype=float)\n",
    "\n",
    "x0 = np.zeros((3, 1))  # Initial guess\n",
    "tol = 0.001 # Tolerance\n",
    "max_iter = 25 # Maximum number of iterations\n",
    "\n",
    "# Solve using Gauss-Jacobi method\n",
    "x_jacobi, tray_jacobi = gauss_jacobi(A=A, b=b, x0=x0, tol=tol, max_iter=max_iter)\n",
    "print(\"Gauss-Jacobi después de 25 iteraciones:\", x_jacobi)"
   ]
  },
  {
   "cell_type": "markdown",
   "metadata": {},
   "source": [
    "Después de **25 iteraciones**, el método de Gauss-Jacobi no converge a la solución $(1,2,-1)$ sino que los valores **oscilan y divergen.**"
   ]
  },
  {
   "cell_type": "markdown",
   "metadata": {},
   "source": [
    "**b. Utilice el método de Gauss-Siedel con $x_{(0)}=0:$ para aproximar la solución para el sistema lineal\n",
    "dentro de $10^{-5}$**"
   ]
  },
  {
   "cell_type": "code",
   "execution_count": 8,
   "metadata": {},
   "outputs": [
    {
     "name": "stdout",
     "output_type": "stream",
     "text": [
      "[02-04 23:36:24][INFO] i= 0 x: [[0. 0. 0.]]\n",
      "[02-04 23:36:24][INFO] i= 1 x: [[-0.5  2.5 -1.5]]\n",
      "[02-04 23:36:24][INFO] i= 2 x: [[ 1.5   2.   -0.75]]\n",
      "[02-04 23:36:24][INFO] i= 3 x: [[ 0.875  1.875 -1.125]]\n",
      "[02-04 23:36:24][INFO] i= 4 x: [[ 1.      2.125  -0.9375]]\n",
      "[02-04 23:36:24][INFO] i= 5 x: [[ 1.03125  1.90625 -1.03125]]\n",
      "[02-04 23:36:24][INFO] i= 6 x: [[ 0.96875   2.0625   -0.984375]]\n",
      "[02-04 23:36:24][INFO] i= 7 x: [[ 1.0234375  1.9609375 -1.0078125]]\n",
      "[02-04 23:36:24][INFO] i= 8 x: [[ 0.984375    2.0234375  -0.99609375]]\n",
      "[02-04 23:36:24][INFO] i= 9 x: [[ 1.00976562  1.98632812 -1.00195312]]\n",
      "[02-04 23:36:24][INFO] i= 10 x: [[ 0.99414062  2.0078125  -0.99902344]]\n",
      "[02-04 23:36:24][INFO] i= 11 x: [[ 1.00341797  1.99560547 -1.00048828]]\n",
      "[02-04 23:36:24][INFO] i= 12 x: [[ 0.99804688  2.00244141 -0.99975586]]\n",
      "[02-04 23:36:24][INFO] i= 13 x: [[ 1.00109863  1.99865723 -1.00012207]]\n",
      "[02-04 23:36:24][INFO] i= 14 x: [[ 0.99938965  2.00073242 -0.99993896]]\n",
      "[02-04 23:36:24][INFO] i= 15 x: [[ 1.00033569  1.99960327 -1.00003052]]\n",
      "[02-04 23:36:24][INFO] i= 16 x: [[ 0.99981689  2.00021362 -0.99998474]]\n",
      "[02-04 23:36:24][INFO] i= 17 x: [[ 1.00009918  1.99988556 -1.00000763]]\n",
      "[02-04 23:36:24][INFO] i= 18 x: [[ 0.99994659  2.00006104 -0.99999619]]\n",
      "[02-04 23:36:24][INFO] i= 19 x: [[ 1.00002861  1.99996758 -1.00000191]]\n",
      "Solución con Seidel: [[ 1.00002861]\n",
      " [ 1.99996758]\n",
      " [-1.00000191]]\n"
     ]
    }
   ],
   "source": [
    "%autoreload 2\n",
    "import numpy as np\n",
    "from src.iterative_methods import gauss_seidel\n",
    "\n",
    "A = np.array([[2, -1, 1],\n",
    "              [2, 2, 2],\n",
    "              [-1, -1, 2]], dtype=float)\n",
    "\n",
    "b = np.array([-1, 4, -5], dtype=float)\n",
    "\n",
    "x0 = np.zeros((3, 1))  # Initial guess\n",
    "tol = 1e-5  # Tolerance (10⁻⁵)\n",
    "max_iter = 20  # Maximum iterations (Aumentamos por si necesita más iteraciones)\n",
    "\n",
    "# Solve using Gauss-Seidel method\n",
    "x_seidel, tray_seidel = gauss_seidel(A=A, b=b, x0=x0, tol=tol, max_iter=max_iter)\n",
    "\n",
    "print(\"Solución con Seidel:\", x_seidel)"
   ]
  },
  {
   "cell_type": "markdown",
   "metadata": {},
   "source": [
    "Gauss-Seidel prueba ser **más eficiente *para este sistema***"
   ]
  },
  {
   "cell_type": "markdown",
   "metadata": {},
   "source": [
    "## **6.** El sistema lineal"
   ]
  },
  {
   "cell_type": "markdown",
   "metadata": {},
   "source": [
    "$$\n",
    "\\begin{aligned}\n",
    "x_1 - x_3 &= 0.2, \\\\\n",
    "-\\frac{1}{2} x_1 + x_2 - \\frac{1}{4}x_3 &= -1.425, \\\\\n",
    "x_1 -\\frac{1}{2} x_2 + x_3 &= 2.\n",
    "\\end{aligned}\n",
    "$$\n",
    "\n",
    "*tiene la solución (0.9,-0.8,0.7)*"
   ]
  },
  {
   "cell_type": "markdown",
   "metadata": {},
   "source": [
    "**a. ¿La matriz de coeficientes**\n",
    "\n",
    "$$\n",
    "\\begin{bmatrix}\n",
    "1 & 0 & -1 \\\\\n",
    "-\\frac{1}{2} & 1 & -\\frac{1}{4} \\\\\n",
    "1 & -\\frac{1}{2} & 1\n",
    "\\end{bmatrix}\n",
    "$$\n",
    "\n",
    "**tiene diagonal estrictamente dominante?**"
   ]
  },
  {
   "cell_type": "code",
   "execution_count": 9,
   "metadata": {},
   "outputs": [
    {
     "name": "stdout",
     "output_type": "stream",
     "text": [
      "No es diagonalmente dominante\n"
     ]
    }
   ],
   "source": [
    "import numpy as np\n",
    "\n",
    "A = np.array([\n",
    "    [1, 0, -1],\n",
    "    [-1/2, 1, -1/4],\n",
    "    [1, -1/2, 1]\n",
    "], dtype=float)\n",
    "\n",
    "def es_diagonal_dominante(A):\n",
    "    n = A.shape[0]  # Tamaño de la matriz\n",
    "    for i in range(n):\n",
    "        diagonal = abs(A[i, i])  # Elemento diagonal |a_ii|\n",
    "        suma_no_diagonal = sum(abs(A[i, j]) for j in range(n) if j != i)  # Suma de los otros valores en la fila\n",
    "        if diagonal <= suma_no_diagonal:\n",
    "            return False  # No cumple la condición de dominancia estricta\n",
    "    return True  # La matriz es diagonalmente dominante\n",
    "\n",
    "\n",
    "if es_diagonal_dominante(A):\n",
    "    print(\"Matriz es diagonalmente dominante\")\n",
    "else:\n",
    "    print(\"No es diagonalmente dominante\")\n"
   ]
  },
  {
   "cell_type": "markdown",
   "metadata": {},
   "source": [
    "**b.Utilice el método iterativo de Gauss-Siedel para aproximar la solución para el sistema lineal con\n",
    "una tolerancia de $10_{22}$ y un maximo de 300 iteraciones**"
   ]
  },
  {
   "cell_type": "code",
   "execution_count": 12,
   "metadata": {},
   "outputs": [
    {
     "name": "stdout",
     "output_type": "stream",
     "text": [
      "[02-05 00:07:42][INFO] i= 0 x: [[0. 0. 0.]]\n",
      "[02-05 00:07:42][INFO] i= 1 x: [[ 0.2    -1.325   1.1375]]\n",
      "[02-05 00:07:42][INFO] i= 2 x: [[ 1.3375    -0.471875   0.4265625]]\n",
      "[02-05 00:07:42][INFO] i= 3 x: [[ 0.6265625  -1.00507812  0.87089844]]\n",
      "[02-05 00:07:42][INFO] i= 4 x: [[ 1.07089844 -0.67182617  0.59318848]]\n",
      "[02-05 00:07:42][INFO] i= 5 x: [[ 0.79318848 -0.88010864  0.7667572 ]]\n",
      "[02-05 00:07:42][INFO] i= 6 x: [[ 0.9667572  -0.7499321   0.65827675]]\n",
      "[02-05 00:07:42][INFO] i= 7 x: [[ 0.85827675 -0.83129244  0.72607703]]\n",
      "[02-05 00:07:42][INFO] i= 8 x: [[ 0.92607703 -0.78044223  0.68370185]]\n",
      "[02-05 00:07:42][INFO] i= 9 x: [[ 0.88370185 -0.81222361  0.71018634]]\n",
      "[02-05 00:07:42][INFO] i= 10 x: [[ 0.91018634 -0.79236024  0.69363354]]\n",
      "[02-05 00:07:42][INFO] i= 11 x: [[ 0.89363354 -0.80477485  0.70397904]]\n",
      "[02-05 00:07:42][INFO] i= 12 x: [[ 0.90397904 -0.79701572  0.6975131 ]]\n",
      "[02-05 00:07:42][INFO] i= 13 x: [[ 0.8975131  -0.80186517  0.70155431]]\n",
      "[02-05 00:07:42][INFO] i= 14 x: [[ 0.90155431 -0.79883427  0.69902855]]\n",
      "[02-05 00:07:42][INFO] i= 15 x: [[ 0.89902855 -0.80072858  0.70060715]]\n",
      "[02-05 00:07:42][INFO] i= 16 x: [[ 0.90060715 -0.79954464  0.69962053]]\n",
      "[02-05 00:07:42][INFO] i= 17 x: [[ 0.89962053 -0.8002846   0.70023717]]\n",
      "[02-05 00:07:42][INFO] i= 18 x: [[ 0.90023717 -0.79982212  0.69985177]]\n",
      "[02-05 00:07:42][INFO] i= 19 x: [[ 0.89985177 -0.80011117  0.70009264]]\n",
      "[02-05 00:07:42][INFO] i= 20 x: [[ 0.90009264 -0.79993052  0.6999421 ]]\n",
      "[02-05 00:07:42][INFO] i= 21 x: [[ 0.8999421  -0.80004343  0.70003619]]\n",
      "[02-05 00:07:42][INFO] i= 22 x: [[ 0.90003619 -0.79997286  0.69997738]]\n",
      "[02-05 00:07:42][INFO] i= 23 x: [[ 0.89997738 -0.80001696  0.70001414]]\n",
      "[02-05 00:07:42][INFO] i= 24 x: [[ 0.90001414 -0.7999894   0.69999116]]\n",
      "[02-05 00:07:42][INFO] i= 25 x: [[ 0.89999116 -0.80000663  0.70000552]]\n",
      "[02-05 00:07:42][INFO] i= 26 x: [[ 0.90000552 -0.79999586  0.69999655]]\n",
      "[02-05 00:07:42][INFO] i= 27 x: [[ 0.89999655 -0.80000259  0.70000216]]\n",
      "[02-05 00:07:42][INFO] i= 28 x: [[ 0.90000216 -0.79999838  0.69999865]]\n",
      "[02-05 00:07:42][INFO] i= 29 x: [[ 0.89999865 -0.80000101  0.70000084]]\n",
      "[02-05 00:07:42][INFO] i= 30 x: [[ 0.90000084 -0.79999937  0.69999947]]\n",
      "[02-05 00:07:42][INFO] i= 31 x: [[ 0.89999947 -0.80000039  0.70000033]]\n",
      "[02-05 00:07:42][INFO] i= 32 x: [[ 0.90000033 -0.79999975  0.69999979]]\n",
      "[02-05 00:07:42][INFO] i= 33 x: [[ 0.89999979 -0.80000015  0.70000013]]\n",
      "[02-05 00:07:42][INFO] i= 34 x: [[ 0.90000013 -0.7999999   0.69999992]]\n",
      "[02-05 00:07:42][INFO] i= 35 x: [[ 0.89999992 -0.80000006  0.70000005]]\n",
      "[02-05 00:07:42][INFO] i= 36 x: [[ 0.90000005 -0.79999996  0.69999997]]\n",
      "[02-05 00:07:42][INFO] i= 37 x: [[ 0.89999997 -0.80000002  0.70000002]]\n",
      "[02-05 00:07:42][INFO] i= 38 x: [[ 0.90000002 -0.79999999  0.69999999]]\n",
      "[02-05 00:07:42][INFO] i= 39 x: [[ 0.89999999 -0.80000001  0.70000001]]\n",
      "[02-05 00:07:42][INFO] i= 40 x: [[ 0.90000001 -0.79999999  0.7       ]]\n",
      "[02-05 00:07:42][INFO] i= 41 x: [[ 0.9 -0.8  0.7]]\n",
      "[02-05 00:07:42][INFO] i= 42 x: [[ 0.9 -0.8  0.7]]\n",
      "[02-05 00:07:42][INFO] i= 43 x: [[ 0.9 -0.8  0.7]]\n",
      "[02-05 00:07:42][INFO] i= 44 x: [[ 0.9 -0.8  0.7]]\n",
      "[02-05 00:07:42][INFO] i= 45 x: [[ 0.9 -0.8  0.7]]\n",
      "[02-05 00:07:42][INFO] i= 46 x: [[ 0.9 -0.8  0.7]]\n",
      "[02-05 00:07:42][INFO] i= 47 x: [[ 0.9 -0.8  0.7]]\n",
      "[02-05 00:07:42][INFO] i= 48 x: [[ 0.9 -0.8  0.7]]\n",
      "[02-05 00:07:42][INFO] i= 49 x: [[ 0.9 -0.8  0.7]]\n",
      "[02-05 00:07:42][INFO] i= 50 x: [[ 0.9 -0.8  0.7]]\n",
      "[02-05 00:07:42][INFO] i= 51 x: [[ 0.9 -0.8  0.7]]\n",
      "[02-05 00:07:42][INFO] i= 52 x: [[ 0.9 -0.8  0.7]]\n",
      "[02-05 00:07:42][INFO] i= 53 x: [[ 0.9 -0.8  0.7]]\n",
      "[02-05 00:07:42][INFO] i= 54 x: [[ 0.9 -0.8  0.7]]\n",
      "[02-05 00:07:42][INFO] i= 55 x: [[ 0.9 -0.8  0.7]]\n",
      "[02-05 00:07:42][INFO] i= 56 x: [[ 0.9 -0.8  0.7]]\n",
      "[02-05 00:07:42][INFO] i= 57 x: [[ 0.9 -0.8  0.7]]\n",
      "[02-05 00:07:42][INFO] i= 58 x: [[ 0.9 -0.8  0.7]]\n",
      "[02-05 00:07:42][INFO] i= 59 x: [[ 0.9 -0.8  0.7]]\n",
      "[02-05 00:07:42][INFO] i= 60 x: [[ 0.9 -0.8  0.7]]\n",
      "[02-05 00:07:42][INFO] i= 61 x: [[ 0.9 -0.8  0.7]]\n",
      "[02-05 00:07:42][INFO] i= 62 x: [[ 0.9 -0.8  0.7]]\n",
      "[02-05 00:07:42][INFO] i= 63 x: [[ 0.9 -0.8  0.7]]\n",
      "[02-05 00:07:42][INFO] i= 64 x: [[ 0.9 -0.8  0.7]]\n",
      "[02-05 00:07:42][INFO] i= 65 x: [[ 0.9 -0.8  0.7]]\n",
      "[02-05 00:07:42][INFO] i= 66 x: [[ 0.9 -0.8  0.7]]\n",
      "[02-05 00:07:42][INFO] i= 67 x: [[ 0.9 -0.8  0.7]]\n",
      "[02-05 00:07:42][INFO] i= 68 x: [[ 0.9 -0.8  0.7]]\n",
      "[02-05 00:07:42][INFO] i= 69 x: [[ 0.9 -0.8  0.7]]\n",
      "[02-05 00:07:42][INFO] i= 70 x: [[ 0.9 -0.8  0.7]]\n",
      "[02-05 00:07:42][INFO] i= 71 x: [[ 0.9 -0.8  0.7]]\n",
      "[02-05 00:07:42][INFO] i= 72 x: [[ 0.9 -0.8  0.7]]\n",
      "[02-05 00:07:42][INFO] i= 73 x: [[ 0.9 -0.8  0.7]]\n",
      "[02-05 00:07:42][INFO] i= 74 x: [[ 0.9 -0.8  0.7]]\n",
      "[02-05 00:07:42][INFO] i= 75 x: [[ 0.9 -0.8  0.7]]\n",
      "[02-05 00:07:42][INFO] i= 76 x: [[ 0.9 -0.8  0.7]]\n",
      "[02-05 00:07:42][INFO] i= 77 x: [[ 0.9 -0.8  0.7]]\n",
      "[02-05 00:07:42][INFO] i= 78 x: [[ 0.9 -0.8  0.7]]\n",
      "[02-05 00:07:42][INFO] i= 79 x: [[ 0.9 -0.8  0.7]]\n",
      "[02-05 00:07:42][INFO] i= 80 x: [[ 0.9 -0.8  0.7]]\n",
      "[02-05 00:07:42][INFO] i= 81 x: [[ 0.9 -0.8  0.7]]\n",
      "[02-05 00:07:42][INFO] i= 82 x: [[ 0.9 -0.8  0.7]]\n",
      "[02-05 00:07:42][INFO] i= 83 x: [[ 0.9 -0.8  0.7]]\n",
      "[02-05 00:07:42][INFO] i= 84 x: [[ 0.9 -0.8  0.7]]\n",
      "[02-05 00:07:42][INFO] i= 85 x: [[ 0.9 -0.8  0.7]]\n",
      "[02-05 00:07:42][INFO] i= 86 x: [[ 0.9 -0.8  0.7]]\n",
      "[02-05 00:07:42][INFO] i= 87 x: [[ 0.9 -0.8  0.7]]\n",
      "[02-05 00:07:42][INFO] i= 88 x: [[ 0.9 -0.8  0.7]]\n",
      "[02-05 00:07:42][INFO] i= 89 x: [[ 0.9 -0.8  0.7]]\n",
      "[02-05 00:07:42][INFO] i= 90 x: [[ 0.9 -0.8  0.7]]\n",
      "[02-05 00:07:42][INFO] i= 91 x: [[ 0.9 -0.8  0.7]]\n",
      "[02-05 00:07:42][INFO] i= 92 x: [[ 0.9 -0.8  0.7]]\n",
      "[02-05 00:07:42][INFO] i= 93 x: [[ 0.9 -0.8  0.7]]\n",
      "[02-05 00:07:42][INFO] i= 94 x: [[ 0.9 -0.8  0.7]]\n",
      "[02-05 00:07:42][INFO] i= 95 x: [[ 0.9 -0.8  0.7]]\n",
      "[02-05 00:07:42][INFO] i= 96 x: [[ 0.9 -0.8  0.7]]\n",
      "[02-05 00:07:42][INFO] i= 97 x: [[ 0.9 -0.8  0.7]]\n",
      "[02-05 00:07:42][INFO] i= 98 x: [[ 0.9 -0.8  0.7]]\n",
      "[02-05 00:07:42][INFO] i= 99 x: [[ 0.9 -0.8  0.7]]\n",
      "[02-05 00:07:42][INFO] i= 100 x: [[ 0.9 -0.8  0.7]]\n",
      "[02-05 00:07:42][INFO] i= 101 x: [[ 0.9 -0.8  0.7]]\n",
      "[02-05 00:07:42][INFO] i= 102 x: [[ 0.9 -0.8  0.7]]\n",
      "[02-05 00:07:42][INFO] i= 103 x: [[ 0.9 -0.8  0.7]]\n",
      "[02-05 00:07:42][INFO] i= 104 x: [[ 0.9 -0.8  0.7]]\n",
      "[02-05 00:07:42][INFO] i= 105 x: [[ 0.9 -0.8  0.7]]\n",
      "[02-05 00:07:42][INFO] i= 106 x: [[ 0.9 -0.8  0.7]]\n",
      "[02-05 00:07:42][INFO] i= 107 x: [[ 0.9 -0.8  0.7]]\n",
      "[02-05 00:07:42][INFO] i= 108 x: [[ 0.9 -0.8  0.7]]\n",
      "[02-05 00:07:42][INFO] i= 109 x: [[ 0.9 -0.8  0.7]]\n",
      "[02-05 00:07:42][INFO] i= 110 x: [[ 0.9 -0.8  0.7]]\n",
      "[02-05 00:07:42][INFO] i= 111 x: [[ 0.9 -0.8  0.7]]\n",
      "[02-05 00:07:42][INFO] i= 112 x: [[ 0.9 -0.8  0.7]]\n",
      "[02-05 00:07:42][INFO] i= 113 x: [[ 0.9 -0.8  0.7]]\n",
      "[02-05 00:07:42][INFO] i= 114 x: [[ 0.9 -0.8  0.7]]\n",
      "[02-05 00:07:42][INFO] i= 115 x: [[ 0.9 -0.8  0.7]]\n",
      "[02-05 00:07:42][INFO] i= 116 x: [[ 0.9 -0.8  0.7]]\n",
      "[02-05 00:07:42][INFO] i= 117 x: [[ 0.9 -0.8  0.7]]\n",
      "[02-05 00:07:42][INFO] i= 118 x: [[ 0.9 -0.8  0.7]]\n",
      "[02-05 00:07:42][INFO] i= 119 x: [[ 0.9 -0.8  0.7]]\n",
      "[02-05 00:07:42][INFO] i= 120 x: [[ 0.9 -0.8  0.7]]\n",
      "[02-05 00:07:42][INFO] i= 121 x: [[ 0.9 -0.8  0.7]]\n",
      "[02-05 00:07:42][INFO] i= 122 x: [[ 0.9 -0.8  0.7]]\n",
      "[02-05 00:07:42][INFO] i= 123 x: [[ 0.9 -0.8  0.7]]\n",
      "[02-05 00:07:42][INFO] i= 124 x: [[ 0.9 -0.8  0.7]]\n",
      "[02-05 00:07:42][INFO] i= 125 x: [[ 0.9 -0.8  0.7]]\n",
      "[02-05 00:07:42][INFO] i= 126 x: [[ 0.9 -0.8  0.7]]\n",
      "[02-05 00:07:42][INFO] i= 127 x: [[ 0.9 -0.8  0.7]]\n",
      "[02-05 00:07:42][INFO] i= 128 x: [[ 0.9 -0.8  0.7]]\n",
      "[02-05 00:07:42][INFO] i= 129 x: [[ 0.9 -0.8  0.7]]\n",
      "[02-05 00:07:42][INFO] i= 130 x: [[ 0.9 -0.8  0.7]]\n",
      "[02-05 00:07:42][INFO] i= 131 x: [[ 0.9 -0.8  0.7]]\n",
      "[02-05 00:07:42][INFO] i= 132 x: [[ 0.9 -0.8  0.7]]\n",
      "[02-05 00:07:42][INFO] i= 133 x: [[ 0.9 -0.8  0.7]]\n",
      "[02-05 00:07:42][INFO] i= 134 x: [[ 0.9 -0.8  0.7]]\n",
      "[02-05 00:07:42][INFO] i= 135 x: [[ 0.9 -0.8  0.7]]\n",
      "[02-05 00:07:42][INFO] i= 136 x: [[ 0.9 -0.8  0.7]]\n",
      "[02-05 00:07:42][INFO] i= 137 x: [[ 0.9 -0.8  0.7]]\n",
      "[02-05 00:07:42][INFO] i= 138 x: [[ 0.9 -0.8  0.7]]\n",
      "[02-05 00:07:42][INFO] i= 139 x: [[ 0.9 -0.8  0.7]]\n",
      "[02-05 00:07:42][INFO] i= 140 x: [[ 0.9 -0.8  0.7]]\n",
      "[02-05 00:07:42][INFO] i= 141 x: [[ 0.9 -0.8  0.7]]\n",
      "[02-05 00:07:42][INFO] i= 142 x: [[ 0.9 -0.8  0.7]]\n",
      "[02-05 00:07:42][INFO] i= 143 x: [[ 0.9 -0.8  0.7]]\n",
      "[02-05 00:07:42][INFO] i= 144 x: [[ 0.9 -0.8  0.7]]\n",
      "[02-05 00:07:42][INFO] i= 145 x: [[ 0.9 -0.8  0.7]]\n",
      "[02-05 00:07:42][INFO] i= 146 x: [[ 0.9 -0.8  0.7]]\n",
      "[02-05 00:07:42][INFO] i= 147 x: [[ 0.9 -0.8  0.7]]\n",
      "[02-05 00:07:42][INFO] i= 148 x: [[ 0.9 -0.8  0.7]]\n",
      "[02-05 00:07:42][INFO] i= 149 x: [[ 0.9 -0.8  0.7]]\n",
      "[02-05 00:07:42][INFO] i= 150 x: [[ 0.9 -0.8  0.7]]\n",
      "[02-05 00:07:42][INFO] i= 151 x: [[ 0.9 -0.8  0.7]]\n",
      "[02-05 00:07:42][INFO] i= 152 x: [[ 0.9 -0.8  0.7]]\n",
      "[02-05 00:07:42][INFO] i= 153 x: [[ 0.9 -0.8  0.7]]\n",
      "[02-05 00:07:42][INFO] i= 154 x: [[ 0.9 -0.8  0.7]]\n",
      "[02-05 00:07:42][INFO] i= 155 x: [[ 0.9 -0.8  0.7]]\n",
      "[02-05 00:07:42][INFO] i= 156 x: [[ 0.9 -0.8  0.7]]\n",
      "[02-05 00:07:42][INFO] i= 157 x: [[ 0.9 -0.8  0.7]]\n",
      "[02-05 00:07:42][INFO] i= 158 x: [[ 0.9 -0.8  0.7]]\n",
      "[02-05 00:07:42][INFO] i= 159 x: [[ 0.9 -0.8  0.7]]\n",
      "[02-05 00:07:42][INFO] i= 160 x: [[ 0.9 -0.8  0.7]]\n",
      "[02-05 00:07:42][INFO] i= 161 x: [[ 0.9 -0.8  0.7]]\n",
      "[02-05 00:07:42][INFO] i= 162 x: [[ 0.9 -0.8  0.7]]\n",
      "[02-05 00:07:42][INFO] i= 163 x: [[ 0.9 -0.8  0.7]]\n",
      "[02-05 00:07:42][INFO] i= 164 x: [[ 0.9 -0.8  0.7]]\n",
      "[02-05 00:07:42][INFO] i= 165 x: [[ 0.9 -0.8  0.7]]\n",
      "[02-05 00:07:42][INFO] i= 166 x: [[ 0.9 -0.8  0.7]]\n",
      "[02-05 00:07:42][INFO] i= 167 x: [[ 0.9 -0.8  0.7]]\n",
      "[02-05 00:07:42][INFO] i= 168 x: [[ 0.9 -0.8  0.7]]\n",
      "[02-05 00:07:42][INFO] i= 169 x: [[ 0.9 -0.8  0.7]]\n",
      "[02-05 00:07:42][INFO] i= 170 x: [[ 0.9 -0.8  0.7]]\n",
      "[02-05 00:07:42][INFO] i= 171 x: [[ 0.9 -0.8  0.7]]\n",
      "[02-05 00:07:42][INFO] i= 172 x: [[ 0.9 -0.8  0.7]]\n",
      "[02-05 00:07:42][INFO] i= 173 x: [[ 0.9 -0.8  0.7]]\n",
      "[02-05 00:07:42][INFO] i= 174 x: [[ 0.9 -0.8  0.7]]\n",
      "[02-05 00:07:42][INFO] i= 175 x: [[ 0.9 -0.8  0.7]]\n",
      "[02-05 00:07:42][INFO] i= 176 x: [[ 0.9 -0.8  0.7]]\n",
      "[02-05 00:07:42][INFO] i= 177 x: [[ 0.9 -0.8  0.7]]\n",
      "[02-05 00:07:42][INFO] i= 178 x: [[ 0.9 -0.8  0.7]]\n",
      "[02-05 00:07:42][INFO] i= 179 x: [[ 0.9 -0.8  0.7]]\n",
      "[02-05 00:07:42][INFO] i= 180 x: [[ 0.9 -0.8  0.7]]\n",
      "[02-05 00:07:42][INFO] i= 181 x: [[ 0.9 -0.8  0.7]]\n",
      "[02-05 00:07:42][INFO] i= 182 x: [[ 0.9 -0.8  0.7]]\n",
      "[02-05 00:07:42][INFO] i= 183 x: [[ 0.9 -0.8  0.7]]\n",
      "[02-05 00:07:42][INFO] i= 184 x: [[ 0.9 -0.8  0.7]]\n",
      "[02-05 00:07:42][INFO] i= 185 x: [[ 0.9 -0.8  0.7]]\n",
      "[02-05 00:07:42][INFO] i= 186 x: [[ 0.9 -0.8  0.7]]\n",
      "[02-05 00:07:42][INFO] i= 187 x: [[ 0.9 -0.8  0.7]]\n",
      "[02-05 00:07:42][INFO] i= 188 x: [[ 0.9 -0.8  0.7]]\n",
      "[02-05 00:07:42][INFO] i= 189 x: [[ 0.9 -0.8  0.7]]\n",
      "[02-05 00:07:42][INFO] i= 190 x: [[ 0.9 -0.8  0.7]]\n",
      "[02-05 00:07:42][INFO] i= 191 x: [[ 0.9 -0.8  0.7]]\n",
      "[02-05 00:07:42][INFO] i= 192 x: [[ 0.9 -0.8  0.7]]\n",
      "[02-05 00:07:42][INFO] i= 193 x: [[ 0.9 -0.8  0.7]]\n",
      "[02-05 00:07:42][INFO] i= 194 x: [[ 0.9 -0.8  0.7]]\n",
      "[02-05 00:07:42][INFO] i= 195 x: [[ 0.9 -0.8  0.7]]\n",
      "[02-05 00:07:42][INFO] i= 196 x: [[ 0.9 -0.8  0.7]]\n",
      "[02-05 00:07:42][INFO] i= 197 x: [[ 0.9 -0.8  0.7]]\n",
      "[02-05 00:07:42][INFO] i= 198 x: [[ 0.9 -0.8  0.7]]\n",
      "[02-05 00:07:42][INFO] i= 199 x: [[ 0.9 -0.8  0.7]]\n",
      "[02-05 00:07:42][INFO] i= 200 x: [[ 0.9 -0.8  0.7]]\n",
      "[02-05 00:07:42][INFO] i= 201 x: [[ 0.9 -0.8  0.7]]\n",
      "[02-05 00:07:42][INFO] i= 202 x: [[ 0.9 -0.8  0.7]]\n",
      "[02-05 00:07:42][INFO] i= 203 x: [[ 0.9 -0.8  0.7]]\n",
      "[02-05 00:07:42][INFO] i= 204 x: [[ 0.9 -0.8  0.7]]\n",
      "[02-05 00:07:42][INFO] i= 205 x: [[ 0.9 -0.8  0.7]]\n",
      "[02-05 00:07:42][INFO] i= 206 x: [[ 0.9 -0.8  0.7]]\n",
      "[02-05 00:07:42][INFO] i= 207 x: [[ 0.9 -0.8  0.7]]\n",
      "[02-05 00:07:42][INFO] i= 208 x: [[ 0.9 -0.8  0.7]]\n",
      "[02-05 00:07:42][INFO] i= 209 x: [[ 0.9 -0.8  0.7]]\n",
      "[02-05 00:07:42][INFO] i= 210 x: [[ 0.9 -0.8  0.7]]\n",
      "[02-05 00:07:42][INFO] i= 211 x: [[ 0.9 -0.8  0.7]]\n",
      "[02-05 00:07:42][INFO] i= 212 x: [[ 0.9 -0.8  0.7]]\n",
      "[02-05 00:07:42][INFO] i= 213 x: [[ 0.9 -0.8  0.7]]\n",
      "[02-05 00:07:42][INFO] i= 214 x: [[ 0.9 -0.8  0.7]]\n",
      "[02-05 00:07:42][INFO] i= 215 x: [[ 0.9 -0.8  0.7]]\n",
      "[02-05 00:07:42][INFO] i= 216 x: [[ 0.9 -0.8  0.7]]\n",
      "[02-05 00:07:42][INFO] i= 217 x: [[ 0.9 -0.8  0.7]]\n",
      "[02-05 00:07:42][INFO] i= 218 x: [[ 0.9 -0.8  0.7]]\n",
      "[02-05 00:07:42][INFO] i= 219 x: [[ 0.9 -0.8  0.7]]\n",
      "[02-05 00:07:42][INFO] i= 220 x: [[ 0.9 -0.8  0.7]]\n",
      "[02-05 00:07:42][INFO] i= 221 x: [[ 0.9 -0.8  0.7]]\n",
      "[02-05 00:07:42][INFO] i= 222 x: [[ 0.9 -0.8  0.7]]\n",
      "[02-05 00:07:42][INFO] i= 223 x: [[ 0.9 -0.8  0.7]]\n",
      "[02-05 00:07:42][INFO] i= 224 x: [[ 0.9 -0.8  0.7]]\n",
      "[02-05 00:07:42][INFO] i= 225 x: [[ 0.9 -0.8  0.7]]\n",
      "[02-05 00:07:42][INFO] i= 226 x: [[ 0.9 -0.8  0.7]]\n",
      "[02-05 00:07:42][INFO] i= 227 x: [[ 0.9 -0.8  0.7]]\n",
      "[02-05 00:07:42][INFO] i= 228 x: [[ 0.9 -0.8  0.7]]\n",
      "[02-05 00:07:42][INFO] i= 229 x: [[ 0.9 -0.8  0.7]]\n",
      "[02-05 00:07:42][INFO] i= 230 x: [[ 0.9 -0.8  0.7]]\n",
      "[02-05 00:07:42][INFO] i= 231 x: [[ 0.9 -0.8  0.7]]\n",
      "[02-05 00:07:42][INFO] i= 232 x: [[ 0.9 -0.8  0.7]]\n",
      "[02-05 00:07:42][INFO] i= 233 x: [[ 0.9 -0.8  0.7]]\n",
      "[02-05 00:07:42][INFO] i= 234 x: [[ 0.9 -0.8  0.7]]\n",
      "[02-05 00:07:42][INFO] i= 235 x: [[ 0.9 -0.8  0.7]]\n",
      "[02-05 00:07:42][INFO] i= 236 x: [[ 0.9 -0.8  0.7]]\n",
      "[02-05 00:07:42][INFO] i= 237 x: [[ 0.9 -0.8  0.7]]\n",
      "[02-05 00:07:42][INFO] i= 238 x: [[ 0.9 -0.8  0.7]]\n",
      "[02-05 00:07:42][INFO] i= 239 x: [[ 0.9 -0.8  0.7]]\n",
      "[02-05 00:07:42][INFO] i= 240 x: [[ 0.9 -0.8  0.7]]\n",
      "[02-05 00:07:42][INFO] i= 241 x: [[ 0.9 -0.8  0.7]]\n",
      "[02-05 00:07:42][INFO] i= 242 x: [[ 0.9 -0.8  0.7]]\n",
      "[02-05 00:07:42][INFO] i= 243 x: [[ 0.9 -0.8  0.7]]\n",
      "[02-05 00:07:42][INFO] i= 244 x: [[ 0.9 -0.8  0.7]]\n",
      "[02-05 00:07:42][INFO] i= 245 x: [[ 0.9 -0.8  0.7]]\n",
      "[02-05 00:07:42][INFO] i= 246 x: [[ 0.9 -0.8  0.7]]\n",
      "[02-05 00:07:42][INFO] i= 247 x: [[ 0.9 -0.8  0.7]]\n",
      "[02-05 00:07:42][INFO] i= 248 x: [[ 0.9 -0.8  0.7]]\n",
      "[02-05 00:07:42][INFO] i= 249 x: [[ 0.9 -0.8  0.7]]\n",
      "[02-05 00:07:42][INFO] i= 250 x: [[ 0.9 -0.8  0.7]]\n",
      "[02-05 00:07:42][INFO] i= 251 x: [[ 0.9 -0.8  0.7]]\n",
      "[02-05 00:07:42][INFO] i= 252 x: [[ 0.9 -0.8  0.7]]\n",
      "[02-05 00:07:42][INFO] i= 253 x: [[ 0.9 -0.8  0.7]]\n",
      "[02-05 00:07:42][INFO] i= 254 x: [[ 0.9 -0.8  0.7]]\n",
      "[02-05 00:07:42][INFO] i= 255 x: [[ 0.9 -0.8  0.7]]\n",
      "[02-05 00:07:42][INFO] i= 256 x: [[ 0.9 -0.8  0.7]]\n",
      "[02-05 00:07:42][INFO] i= 257 x: [[ 0.9 -0.8  0.7]]\n",
      "[02-05 00:07:42][INFO] i= 258 x: [[ 0.9 -0.8  0.7]]\n",
      "[02-05 00:07:42][INFO] i= 259 x: [[ 0.9 -0.8  0.7]]\n",
      "[02-05 00:07:42][INFO] i= 260 x: [[ 0.9 -0.8  0.7]]\n",
      "[02-05 00:07:42][INFO] i= 261 x: [[ 0.9 -0.8  0.7]]\n",
      "[02-05 00:07:42][INFO] i= 262 x: [[ 0.9 -0.8  0.7]]\n",
      "[02-05 00:07:42][INFO] i= 263 x: [[ 0.9 -0.8  0.7]]\n",
      "[02-05 00:07:42][INFO] i= 264 x: [[ 0.9 -0.8  0.7]]\n",
      "[02-05 00:07:42][INFO] i= 265 x: [[ 0.9 -0.8  0.7]]\n",
      "[02-05 00:07:42][INFO] i= 266 x: [[ 0.9 -0.8  0.7]]\n",
      "[02-05 00:07:42][INFO] i= 267 x: [[ 0.9 -0.8  0.7]]\n",
      "[02-05 00:07:42][INFO] i= 268 x: [[ 0.9 -0.8  0.7]]\n",
      "[02-05 00:07:42][INFO] i= 269 x: [[ 0.9 -0.8  0.7]]\n",
      "[02-05 00:07:42][INFO] i= 270 x: [[ 0.9 -0.8  0.7]]\n",
      "[02-05 00:07:42][INFO] i= 271 x: [[ 0.9 -0.8  0.7]]\n",
      "[02-05 00:07:42][INFO] i= 272 x: [[ 0.9 -0.8  0.7]]\n",
      "[02-05 00:07:42][INFO] i= 273 x: [[ 0.9 -0.8  0.7]]\n",
      "[02-05 00:07:42][INFO] i= 274 x: [[ 0.9 -0.8  0.7]]\n",
      "[02-05 00:07:42][INFO] i= 275 x: [[ 0.9 -0.8  0.7]]\n",
      "[02-05 00:07:42][INFO] i= 276 x: [[ 0.9 -0.8  0.7]]\n",
      "[02-05 00:07:42][INFO] i= 277 x: [[ 0.9 -0.8  0.7]]\n",
      "[02-05 00:07:42][INFO] i= 278 x: [[ 0.9 -0.8  0.7]]\n",
      "[02-05 00:07:42][INFO] i= 279 x: [[ 0.9 -0.8  0.7]]\n",
      "[02-05 00:07:42][INFO] i= 280 x: [[ 0.9 -0.8  0.7]]\n",
      "[02-05 00:07:42][INFO] i= 281 x: [[ 0.9 -0.8  0.7]]\n",
      "[02-05 00:07:42][INFO] i= 282 x: [[ 0.9 -0.8  0.7]]\n",
      "[02-05 00:07:42][INFO] i= 283 x: [[ 0.9 -0.8  0.7]]\n",
      "[02-05 00:07:42][INFO] i= 284 x: [[ 0.9 -0.8  0.7]]\n",
      "[02-05 00:07:42][INFO] i= 285 x: [[ 0.9 -0.8  0.7]]\n",
      "[02-05 00:07:42][INFO] i= 286 x: [[ 0.9 -0.8  0.7]]\n",
      "[02-05 00:07:42][INFO] i= 287 x: [[ 0.9 -0.8  0.7]]\n",
      "[02-05 00:07:42][INFO] i= 288 x: [[ 0.9 -0.8  0.7]]\n",
      "[02-05 00:07:42][INFO] i= 289 x: [[ 0.9 -0.8  0.7]]\n",
      "[02-05 00:07:42][INFO] i= 290 x: [[ 0.9 -0.8  0.7]]\n",
      "[02-05 00:07:42][INFO] i= 291 x: [[ 0.9 -0.8  0.7]]\n",
      "[02-05 00:07:42][INFO] i= 292 x: [[ 0.9 -0.8  0.7]]\n",
      "[02-05 00:07:42][INFO] i= 293 x: [[ 0.9 -0.8  0.7]]\n",
      "[02-05 00:07:42][INFO] i= 294 x: [[ 0.9 -0.8  0.7]]\n",
      "[02-05 00:07:42][INFO] i= 295 x: [[ 0.9 -0.8  0.7]]\n",
      "[02-05 00:07:42][INFO] i= 296 x: [[ 0.9 -0.8  0.7]]\n",
      "[02-05 00:07:42][INFO] i= 297 x: [[ 0.9 -0.8  0.7]]\n",
      "[02-05 00:07:42][INFO] i= 298 x: [[ 0.9 -0.8  0.7]]\n",
      "[02-05 00:07:42][INFO] i= 299 x: [[ 0.9 -0.8  0.7]]\n",
      "Solución con Gauss-Seidel: [[ 0.9]\n",
      " [-0.8]\n",
      " [ 0.7]]\n"
     ]
    }
   ],
   "source": [
    "%autoreload 2\n",
    "import numpy as np\n",
    "from src.iterative_methods import gauss_seidel\n",
    "\n",
    "A = np.array([\n",
    "    [1, 0, -1],\n",
    "    [-1/2, 1, -1/4],\n",
    "    [1, -1/2, 1]\n",
    "], dtype=float)\n",
    "\n",
    "b = np.array([0.2, -1.425, 2], dtype=float)\n",
    "\n",
    "x0 = np.zeros((3, 1))  \n",
    "\n",
    "tol = 1e-22  # Tolerancia de 10⁻²²\n",
    "max_iter = 300  # Máximo de iteraciones\n",
    "\n",
    "\n",
    "x_seidel, tray_seidel = gauss_seidel(A=A, b=b, x0=x0, tol=tol, max_iter=max_iter)\n",
    "print(\"Solución con Gauss-Seidel:\", x_seidel)"
   ]
  },
  {
   "cell_type": "markdown",
   "metadata": {},
   "source": [
    "**c. ¿Qué pasa en la parte (b) cuando el sistema cambia por el siguiente?**\n",
    "\n",
    "$$\n",
    "\\begin{aligned}\n",
    "x_1 - 2x_3 &= 0.2, \\\\\n",
    "-\\frac{1}{2} x_1 + x_2 - \\frac{1}{4}x_3 &= -1.425, \\\\\n",
    "x_1 -\\frac{1}{2} x_2 + x_3 &= 2.\n",
    "\\end{aligned}\n",
    "$$"
   ]
  },
  {
   "cell_type": "markdown",
   "metadata": {},
   "source": [
    "**Primero analizaré si es diagonalmente dominante**"
   ]
  },
  {
   "cell_type": "code",
   "execution_count": 10,
   "metadata": {},
   "outputs": [
    {
     "name": "stdout",
     "output_type": "stream",
     "text": [
      "No es diagonalmente dominante\n"
     ]
    }
   ],
   "source": [
    "import numpy as np\n",
    "\n",
    "A = np.array([\n",
    "    [1, 0, -2],\n",
    "    [-1/2, 1, -1/4],\n",
    "    [1, -1/2, 1]\n",
    "], dtype=float)\n",
    "\n",
    "\n",
    "if es_diagonal_dominante(A):\n",
    "    print(\"Matriz es diagonalmente dominante\")\n",
    "else:\n",
    "    print(\"No es diagonalmente dominante\")\n"
   ]
  },
  {
   "cell_type": "markdown",
   "metadata": {},
   "source": [
    "**Segundo: Método de Gauss Seidel**"
   ]
  },
  {
   "cell_type": "code",
   "execution_count": 13,
   "metadata": {},
   "outputs": [
    {
     "name": "stdout",
     "output_type": "stream",
     "text": [
      "[02-05 00:07:55][INFO] i= 0 x: [[0. 0. 0.]]\n",
      "[02-05 00:07:55][INFO] i= 1 x: [[ 0.2    -1.325   1.1375]]\n",
      "[02-05 00:07:55][INFO] i= 2 x: [[ 2.475      0.096875  -0.4265625]]\n",
      "[02-05 00:07:55][INFO] i= 3 x: [[-0.653125   -1.85820313  1.72402344]]\n",
      "[02-05 00:07:55][INFO] i= 4 x: [[ 3.64804688  0.8300293  -1.23303223]]\n",
      "[02-05 00:07:55][INFO] i= 5 x: [[-2.26606445 -2.86629028  2.83291931]]\n",
      "[02-05 00:07:55][INFO] i= 6 x: [[ 5.86583862  2.21614914 -2.75776405]]\n",
      "[02-05 00:07:55][INFO] i= 7 x: [[-5.31552811 -4.77220507  4.92942557]]\n",
      "[02-05 00:07:55][INFO] i= 8 x: [[10.05885115  4.83678197 -5.64046016]]\n",
      "[02-05 00:07:55][INFO] i= 9 x: [[-11.08092033  -8.3755752    8.89313272]]\n",
      "[02-05 00:07:55][INFO] i= 10 x: [[ 17.98626545   9.79141591 -11.0905575 ]]\n",
      "[02-05 00:07:55][INFO] i= 11 x: [[-21.98111499 -15.18819687  16.38701656]]\n",
      "[02-05 00:07:55][INFO] i= 12 x: [[ 32.97403311  19.1587707  -21.39464777]]\n",
      "[02-05 00:07:55][INFO] i= 13 x: [[-42.58929553 -28.06830971  30.55514068]]\n",
      "[02-05 00:07:55][INFO] i= 14 x: [[ 61.31028136  36.86892585 -40.87581843]]\n",
      "[02-05 00:07:55][INFO] i= 15 x: [[-81.55163687 -52.41977304  57.34175035]]\n",
      "[02-05 00:07:55][INFO] i= 16 x: [[114.88350069  70.35218793 -77.70740673]]\n",
      "[02-05 00:07:55][INFO] i= 17 x: [[-155.21481345  -98.45925841  107.98518425]]\n",
      "[02-05 00:07:55][INFO] i= 18 x: [[ 216.1703685   133.65648031 -147.34212834]]\n",
      "[02-05 00:07:55][INFO] i= 19 x: [[-294.48425668 -185.50266043  203.73292647]]\n",
      "[02-05 00:07:55][INFO] i= 20 x: [[ 407.66585294  253.34115809 -278.9952739 ]]\n",
      "[02-05 00:07:55][INFO] i= 21 x: [[-557.79054779 -350.06909237  384.75600161]]\n",
      "[02-05 00:07:55][INFO] i= 22 x: [[ 769.71200321  479.62000201 -527.90200221]]\n",
      "[02-05 00:07:55][INFO] i= 23 x: [[-1055.60400442  -661.20250276   727.00275304]]\n",
      "[02-05 00:07:55][INFO] i= 24 x: [[1454.20550607  907.4284413  -998.49128543]]\n",
      "[02-05 00:07:55][INFO] i= 25 x: [[-1996.78257085 -1249.43910678  1374.06301746]]\n",
      "[02-05 00:07:55][INFO] i= 26 x: [[ 2748.32603492  1716.25377182 -1888.19914901]]\n",
      "[02-05 00:07:55][INFO] i= 27 x: [[-3776.19829801 -2361.57393626  2597.41132988]]\n",
      "[02-05 00:07:55][INFO] i= 28 x: [[ 5195.02265977  3245.43916236 -3570.30307859]]\n",
      "[02-05 00:07:55][INFO] i= 29 x: [[-7140.40615718 -4464.20384824  4910.30423306]]\n",
      "[02-05 00:07:55][INFO] i= 30 x: [[ 9820.80846613  6136.55529133 -6750.53082046]]\n",
      "[02-05 00:07:55][INFO] i= 31 x: [[-13500.86164092  -8439.48852558   9283.11737813]]\n",
      "[02-05 00:07:55][INFO] i= 32 x: [[ 18566.43475627  11602.57172267 -12763.14889494]]\n",
      "[02-05 00:07:55][INFO] i= 33 x: [[-25526.09778987 -15955.26111867  17550.46723054]]\n",
      "[02-05 00:07:55][INFO] i= 34 x: [[ 35101.13446107  21936.75903817 -24130.75494199]]\n",
      "[02-05 00:07:55][INFO] i= 35 x: [[-48261.30988397 -30164.76867748  33180.92554523]]\n",
      "[02-05 00:07:55][INFO] i= 36 x: [[ 66362.05109046  41474.83193154 -45622.63512469]]\n",
      "[02-05 00:07:55][INFO] i= 37 x: [[-91245.07024939 -57029.61890587  62732.26079645]]\n",
      "[02-05 00:07:55][INFO] i= 38 x: [[125464.72159291  78414.00099557 -86255.72109512]]\n",
      "[02-05 00:07:55][INFO] i= 39 x: [[-172511.24219025 -107820.97636891  118602.7540058 ]]\n",
      "[02-05 00:07:55][INFO] i= 40 x: [[ 237205.70801159  148252.11750725 -163077.64925797]]\n",
      "[02-05 00:07:55][INFO] i= 41 x: [[-326155.09851594 -203848.38657246  224232.90522971]]\n",
      "[02-05 00:07:55][INFO] i= 42 x: [[ 448466.01045942  280289.80653714 -308319.10719085]]\n",
      "[02-05 00:07:55][INFO] i= 43 x: [[-616638.0143817  -385400.20898856  423939.90988742]]\n",
      "[02-05 00:07:55][INFO] i= 44 x: [[ 847880.01977484  529923.56235927 -582916.2385952 ]]\n",
      "[02-05 00:07:55][INFO] i= 45 x: [[-1165832.2771904  -728646.623244    801510.9655684]]\n",
      "[02-05 00:07:55][INFO] i= 46 x: [[ 1603022.1311368   1001887.3819605  -1102076.44015655]]\n",
      "[02-05 00:07:55][INFO] i= 47 x: [[-2204152.6803131  -1377596.87519569  1515356.24271526]]\n",
      "[02-05 00:07:55][INFO] i= 48 x: [[ 3030712.68543051  1894193.97839407 -2083613.69623348]]\n",
      "[02-05 00:07:55][INFO] i= 49 x: [[-4167227.19246695 -2604518.44529185  2864969.96982103]]\n",
      "[02-05 00:07:55][INFO] i= 50 x: [[ 5729940.13964206  3581211.13727629 -3939332.57100392]]\n",
      "[02-05 00:07:55][INFO] i= 51 x: [[-7878664.94200784 -4924167.0387549   5416583.42263039]]\n",
      "[02-05 00:07:55][INFO] i= 52 x: [[10833167.04526077  6770727.95328798 -7447801.06861678]]\n",
      "[02-05 00:07:55][INFO] i= 53 x: [[-14895601.93723356  -9309752.66077098  10240727.60684807]]\n",
      "[02-05 00:07:55][INFO] i= 54 x: [[ 20481455.41369615  12800908.18356009 -14080999.3219161 ]]\n",
      "[02-05 00:07:55][INFO] i= 55 x: [[-28161998.4438322  -17601250.47739513  19361375.20513464]]\n",
      "[02-05 00:07:55][INFO] i= 56 x: [[ 38722750.61026928  24201717.6814183  -26621889.76956013]]\n",
      "[02-05 00:07:55][INFO] i= 57 x: [[-53243779.33912025 -33277363.53695016  36605099.57064518]]\n",
      "[02-05 00:07:55][INFO] i= 58 x: [[ 73210199.34129035  45756373.13830648 -50332010.77213712]]\n",
      "[02-05 00:07:55][INFO] i= 59 x: [[-1.00664021e+08 -6.29150148e+07  6.92065159e+07]]\n",
      "[02-05 00:07:55][INFO] i= 60 x: [[ 1.38413032e+08  8.65081436e+07 -9.51589583e+07]]\n",
      "[02-05 00:07:55][INFO] i= 61 x: [[-1.90317916e+08 -1.18948699e+08  1.30843569e+08]]\n",
      "[02-05 00:07:55][INFO] i= 62 x: [[ 2.61687138e+08  1.63554460e+08 -1.79909906e+08]]\n",
      "[02-05 00:07:55][INFO] i= 63 x: [[-3.59819812e+08 -2.24887384e+08  2.47376122e+08]]\n",
      "[02-05 00:07:55][INFO] i= 64 x: [[ 4.94752244e+08  3.09220151e+08 -3.40142166e+08]]\n",
      "[02-05 00:07:55][INFO] i= 65 x: [[-6.80284333e+08 -4.25177709e+08  4.67695480e+08]]\n",
      "[02-05 00:07:55][INFO] i= 66 x: [[ 9.35390960e+08  5.84619349e+08 -6.43081284e+08]]\n",
      "[02-05 00:07:55][INFO] i= 67 x: [[-1.28616257e+09 -8.03851606e+08  8.84236766e+08]]\n",
      "[02-05 00:07:55][INFO] i= 68 x: [[ 1.76847353e+09  1.10529596e+09 -1.21582555e+09]]\n",
      "[02-05 00:07:55][INFO] i= 69 x: [[-2.43165110e+09 -1.51978194e+09  1.67176014e+09]]\n",
      "[02-05 00:07:55][INFO] i= 70 x: [[ 3.34352027e+09  2.08970017e+09 -2.29867019e+09]]\n",
      "[02-05 00:07:55][INFO] i= 71 x: [[-4.59734037e+09 -2.87333773e+09  3.16067151e+09]]\n",
      "[02-05 00:07:55][INFO] i= 72 x: [[ 6.32134301e+09  3.95083938e+09 -4.34592332e+09]]\n",
      "[02-05 00:07:55][INFO] i= 73 x: [[-8.69184664e+09 -5.43240415e+09  5.97564457e+09]]\n",
      "[02-05 00:07:55][INFO] i= 74 x: [[ 1.19512891e+10  7.46955571e+09 -8.21651128e+09]]\n",
      "[02-05 00:07:55][INFO] i= 75 x: [[-1.64330226e+10 -1.02706391e+10  1.12977030e+10]]\n",
      "[02-05 00:07:55][INFO] i= 76 x: [[ 2.25954060e+10  1.41221288e+10 -1.55343416e+10]]\n",
      "[02-05 00:07:55][INFO] i= 77 x: [[-3.10686833e+10 -1.94179270e+10  2.13597197e+10]]\n",
      "[02-05 00:07:55][INFO] i= 78 x: [[ 4.27194395e+10  2.66996497e+10 -2.93696147e+10]]\n",
      "[02-05 00:07:55][INFO] i= 79 x: [[-5.87392293e+10 -3.67120183e+10  4.03832201e+10]]\n",
      "[02-05 00:07:55][INFO] i= 80 x: [[ 8.07664403e+10  5.04790252e+10 -5.55269277e+10]]\n",
      "[02-05 00:07:55][INFO] i= 81 x: [[-1.11053855e+11 -6.94086596e+10  7.63495256e+10]]\n",
      "[02-05 00:07:55][INFO] i= 82 x: [[ 1.52699051e+11  9.54369070e+10 -1.04980598e+11]]\n",
      "[02-05 00:07:55][INFO] i= 83 x: [[-2.09961195e+11 -1.31225747e+11  1.44348322e+11]]\n",
      "[02-05 00:07:55][INFO] i= 84 x: [[ 2.88696644e+11  1.80435402e+11 -1.98478942e+11]]\n",
      "[02-05 00:07:55][INFO] i= 85 x: [[-3.96957885e+11 -2.48098678e+11  2.72908546e+11]]\n",
      "[02-05 00:07:55][INFO] i= 86 x: [[ 5.45817092e+11  3.41135682e+11 -3.75249251e+11]]\n",
      "[02-05 00:07:55][INFO] i= 87 x: [[-7.50498501e+11 -4.69061563e+11  5.15967720e+11]]\n",
      "[02-05 00:07:55][INFO] i= 88 x: [[ 1.03193544e+12  6.44959650e+11 -7.09455615e+11]]\n",
      "[02-05 00:07:55][INFO] i= 89 x: [[-1.41891123e+12 -8.86819518e+11  9.75501470e+11]]\n",
      "[02-05 00:07:55][INFO] i= 90 x: [[ 1.95100294e+12  1.21937684e+12 -1.34131452e+12]]\n",
      "[02-05 00:07:55][INFO] i= 91 x: [[-2.68262904e+12 -1.67664315e+12  1.84430747e+12]]\n",
      "[02-05 00:07:55][INFO] i= 92 x: [[ 3.68861493e+12  2.30538433e+12 -2.53592277e+12]]\n",
      "[02-05 00:07:55][INFO] i= 93 x: [[-5.07184553e+12 -3.16990346e+12  3.48689380e+12]]\n",
      "[02-05 00:07:55][INFO] i= 94 x: [[ 6.97378761e+12  4.35861726e+12 -4.79447898e+12]]\n",
      "[02-05 00:07:55][INFO] i= 95 x: [[-9.58895796e+12 -5.99309873e+12  6.59240860e+12]]\n",
      "[02-05 00:07:55][INFO] i= 96 x: [[ 1.31848172e+13  8.24051075e+12 -9.06456182e+12]]\n",
      "[02-05 00:07:55][INFO] i= 97 x: [[-1.81291236e+13 -1.13307023e+13  1.24637725e+13]]\n",
      "[02-05 00:07:55][INFO] i= 98 x: [[ 2.49275450e+13  1.55797156e+13 -1.71376872e+13]]\n",
      "[02-05 00:07:55][INFO] i= 99 x: [[-3.42753744e+13 -2.14221090e+13  2.35643199e+13]]\n",
      "[02-05 00:07:55][INFO] i= 100 x: [[ 4.71286398e+13  2.94553999e+13 -3.24009399e+13]]\n",
      "[02-05 00:07:55][INFO] i= 101 x: [[-6.48018797e+13 -4.05011748e+13  4.45512923e+13]]\n",
      "[02-05 00:07:55][INFO] i= 102 x: [[ 8.91025846e+13  5.56891154e+13 -6.12580269e+13]]\n",
      "[02-05 00:07:55][INFO] i= 103 x: [[-1.22516054e+14 -7.65725336e+13  8.42297870e+13]]\n",
      "[02-05 00:07:55][INFO] i= 104 x: [[ 1.68459574e+14  1.05287234e+14 -1.15815957e+14]]\n",
      "[02-05 00:07:55][INFO] i= 105 x: [[-2.31631914e+14 -1.44769946e+14  1.59246941e+14]]\n",
      "[02-05 00:07:55][INFO] i= 106 x: [[ 3.18493882e+14  1.99058676e+14 -2.18964544e+14]]\n",
      "[02-05 00:07:55][INFO] i= 107 x: [[-4.37929088e+14 -2.73705680e+14  3.01076248e+14]]\n",
      "[02-05 00:07:55][INFO] i= 108 x: [[ 6.02152496e+14  3.76345310e+14 -4.13979841e+14]]\n",
      "[02-05 00:07:55][INFO] i= 109 x: [[-8.27959682e+14 -5.17474801e+14  5.69222281e+14]]\n",
      "[02-05 00:07:55][INFO] i= 110 x: [[ 1.13844456e+15  7.11527852e+14 -7.82680637e+14]]\n",
      "[02-05 00:07:55][INFO] i= 111 x: [[-1.56536127e+15 -9.78350796e+14  1.07618588e+15]]\n",
      "[02-05 00:07:55][INFO] i= 112 x: [[ 2.15237175e+15  1.34523234e+15 -1.47975558e+15]]\n",
      "[02-05 00:07:55][INFO] i= 113 x: [[-2.95951116e+15 -1.84969447e+15  2.03466392e+15]]\n",
      "[02-05 00:07:55][INFO] i= 114 x: [[ 4.06932784e+15  2.54332990e+15 -2.79766289e+15]]\n",
      "[02-05 00:07:55][INFO] i= 115 x: [[-5.59532578e+15 -3.49707861e+15  3.84678648e+15]]\n",
      "[02-05 00:07:55][INFO] i= 116 x: [[ 7.69357295e+15  4.80848309e+15 -5.28933140e+15]]\n",
      "[02-05 00:07:55][INFO] i= 117 x: [[-1.05786628e+16 -6.61166425e+15  7.27283068e+15]]\n",
      "[02-05 00:07:55][INFO] i= 118 x: [[ 1.45456614e+16  9.09103835e+15 -1.00001422e+16]]\n",
      "[02-05 00:07:55][INFO] i= 119 x: [[-2.00002844e+16 -1.25001777e+16  1.37501955e+16]]\n",
      "[02-05 00:07:55][INFO] i= 120 x: [[ 2.75003910e+16  1.71877444e+16 -1.89065188e+16]]\n",
      "[02-05 00:07:55][INFO] i= 121 x: [[-3.78130376e+16 -2.36331485e+16  2.59964634e+16]]\n",
      "[02-05 00:07:55][INFO] i= 122 x: [[ 5.19929268e+16  3.24955792e+16 -3.57451371e+16]]\n",
      "[02-05 00:07:55][INFO] i= 123 x: [[-7.14902743e+16 -4.46814214e+16  4.91495636e+16]]\n",
      "[02-05 00:07:55][INFO] i= 124 x: [[ 9.82991271e+16  6.14369545e+16 -6.75806499e+16]]\n",
      "[02-05 00:07:55][INFO] i= 125 x: [[-1.35161300e+17 -8.44758124e+16  9.29233936e+16]]\n",
      "[02-05 00:07:55][INFO] i= 126 x: [[ 1.85846787e+17  1.16154242e+17 -1.27769666e+17]]\n",
      "[02-05 00:07:55][INFO] i= 127 x: [[-2.55539332e+17 -1.59712083e+17  1.75683291e+17]]\n",
      "[02-05 00:07:55][INFO] i= 128 x: [[ 3.51366582e+17  2.19604114e+17 -2.41564525e+17]]\n",
      "[02-05 00:07:55][INFO] i= 129 x: [[-4.83129050e+17 -3.01955657e+17  3.32151222e+17]]\n",
      "[02-05 00:07:55][INFO] i= 130 x: [[ 6.64302444e+17  4.15189028e+17 -4.56707931e+17]]\n",
      "[02-05 00:07:55][INFO] i= 131 x: [[-9.13415861e+17 -5.70884913e+17  6.27973404e+17]]\n",
      "[02-05 00:07:55][INFO] i= 132 x: [[ 1.25594681e+18  7.84966756e+17 -8.63463431e+17]]\n",
      "[02-05 00:07:55][INFO] i= 133 x: [[-1.72692686e+18 -1.07932929e+18  1.18726222e+18]]\n",
      "[02-05 00:07:55][INFO] i= 134 x: [[ 2.37452444e+18  1.48407777e+18 -1.63248555e+18]]\n",
      "[02-05 00:07:55][INFO] i= 135 x: [[-3.26497110e+18 -2.04060694e+18  2.24466763e+18]]\n",
      "[02-05 00:07:55][INFO] i= 136 x: [[ 4.48933526e+18  2.80583454e+18 -3.08641799e+18]]\n",
      "[02-05 00:07:55][INFO] i= 137 x: [[-6.17283598e+18 -3.85802249e+18  4.24382474e+18]]\n",
      "[02-05 00:07:55][INFO] i= 138 x: [[ 8.48764948e+18  5.30478092e+18 -5.83525902e+18]]\n",
      "[02-05 00:07:55][INFO] i= 139 x: [[-1.16705180e+19 -7.29407377e+18  8.02348115e+18]]\n",
      "[02-05 00:07:55][INFO] i= 140 x: [[ 1.60469623e+19  1.00293514e+19 -1.10322866e+19]]\n",
      "[02-05 00:07:55][INFO] i= 141 x: [[-2.20645732e+19 -1.37903582e+19  1.51693940e+19]]\n",
      "[02-05 00:07:55][INFO] i= 142 x: [[ 3.03387881e+19  1.89617426e+19 -2.08579168e+19]]\n",
      "[02-05 00:07:55][INFO] i= 143 x: [[-4.17158336e+19 -2.60723960e+19  2.86796356e+19]]\n",
      "[02-05 00:07:55][INFO] i= 144 x: [[ 5.73592712e+19  3.58495445e+19 -3.94344990e+19]]\n",
      "[02-05 00:07:55][INFO] i= 145 x: [[-7.88689979e+19 -4.92931237e+19  5.42224361e+19]]\n",
      "[02-05 00:07:55][INFO] i= 146 x: [[ 1.08444872e+20  6.77780451e+19 -7.45558496e+19]]\n",
      "[02-05 00:07:55][INFO] i= 147 x: [[-1.49111699e+20 -9.31948120e+19  1.02514293e+20]]\n",
      "[02-05 00:07:55][INFO] i= 148 x: [[ 2.05028586e+20  1.28142867e+20 -1.40957153e+20]]\n",
      "[02-05 00:07:55][INFO] i= 149 x: [[-2.81914306e+20 -1.76196441e+20  1.93816086e+20]]\n",
      "[02-05 00:07:55][INFO] i= 150 x: [[ 3.87632171e+20  2.42270107e+20 -2.66497118e+20]]\n",
      "[02-05 00:07:55][INFO] i= 151 x: [[-5.32994235e+20 -3.33121397e+20  3.66433537e+20]]\n",
      "[02-05 00:07:55][INFO] i= 152 x: [[ 7.32867074e+20  4.58041921e+20 -5.03846113e+20]]\n",
      "[02-05 00:07:55][INFO] i= 153 x: [[-1.00769223e+21 -6.29807641e+20  6.92788406e+20]]\n",
      "[02-05 00:07:55][INFO] i= 154 x: [[ 1.38557681e+21  8.65985507e+20 -9.52584058e+20]]\n",
      "[02-05 00:07:55][INFO] i= 155 x: [[-1.90516812e+21 -1.19073007e+21  1.30980308e+21]]\n",
      "[02-05 00:07:55][INFO] i= 156 x: [[ 2.61960616e+21  1.63725385e+21 -1.80097923e+21]]\n",
      "[02-05 00:07:55][INFO] i= 157 x: [[-3.60195847e+21 -2.25122404e+21  2.47634645e+21]]\n",
      "[02-05 00:07:55][INFO] i= 158 x: [[ 4.95269289e+21  3.09543306e+21 -3.40497636e+21]]\n",
      "[02-05 00:07:55][INFO] i= 159 x: [[-6.80995273e+21 -4.25622046e+21  4.68184250e+21]]\n",
      "[02-05 00:07:55][INFO] i= 160 x: [[ 9.36368500e+21  5.85230313e+21 -6.43753344e+21]]\n",
      "[02-05 00:07:55][INFO] i= 161 x: [[-1.28750669e+22 -8.04691680e+21  8.85160848e+21]]\n",
      "[02-05 00:07:55][INFO] i= 162 x: [[ 1.77032170e+22  1.10645106e+22 -1.21709617e+22]]\n",
      "[02-05 00:07:55][INFO] i= 163 x: [[-2.43419233e+22 -1.52137021e+22  1.67350723e+22]]\n",
      "[02-05 00:07:55][INFO] i= 164 x: [[ 3.34701446e+22  2.09188404e+22 -2.30107244e+22]]\n",
      "[02-05 00:07:55][INFO] i= 165 x: [[-4.60214488e+22 -2.87634055e+22  3.16397460e+22]]\n",
      "[02-05 00:07:55][INFO] i= 166 x: [[ 6.32794921e+22  3.95496825e+22 -4.35046508e+22]]\n",
      "[02-05 00:07:55][INFO] i= 167 x: [[-8.70093016e+22 -5.43808135e+22  5.98188948e+22]]\n",
      "[02-05 00:07:55][INFO] i= 168 x: [[ 1.19637790e+23  7.47736186e+22 -8.22509804e+22]]\n",
      "[02-05 00:07:55][INFO] i= 169 x: [[-1.64501961e+23 -1.02813726e+23  1.13095098e+23]]\n",
      "[02-05 00:07:55][INFO] i= 170 x: [[ 2.26190196e+23  1.41368873e+23 -1.55505760e+23]]\n",
      "[02-05 00:07:55][INFO] i= 171 x: [[-3.1101152e+23 -1.9438220e+23  2.1382042e+23]]\n",
      "[02-05 00:07:55][INFO] i= 172 x: [[ 4.27640840e+23  2.67275525e+23 -2.94003077e+23]]\n",
      "[02-05 00:07:55][INFO] i= 173 x: [[-5.88006154e+23 -3.67503846e+23  4.04254231e+23]]\n",
      "[02-05 00:07:55][INFO] i= 174 x: [[ 8.08508462e+23  5.05317789e+23 -5.55849568e+23]]\n",
      "[02-05 00:07:55][INFO] i= 175 x: [[-1.11169914e+24 -6.94811960e+23  7.64293156e+23]]\n",
      "[02-05 00:07:55][INFO] i= 176 x: [[ 1.52858631e+24  9.55366445e+23 -1.05090309e+24]]\n",
      "[02-05 00:07:55][INFO] i= 177 x: [[-2.10180618e+24 -1.31362886e+24  1.44499175e+24]]\n",
      "[02-05 00:07:55][INFO] i= 178 x: [[ 2.88998350e+24  1.80623968e+24 -1.98686365e+24]]\n",
      "[02-05 00:07:55][INFO] i= 179 x: [[-3.97372731e+24 -2.48357957e+24  2.73193752e+24]]\n",
      "[02-05 00:07:55][INFO] i= 180 x: [[ 5.46387505e+24  3.41492190e+24 -3.75641409e+24]]\n",
      "[02-05 00:07:55][INFO] i= 181 x: [[-7.51282819e+24 -4.69551762e+24  5.16506938e+24]]\n",
      "[02-05 00:07:55][INFO] i= 182 x: [[ 1.03301388e+25  6.45633672e+24 -7.10197040e+24]]\n",
      "[02-05 00:07:55][INFO] i= 183 x: [[-1.42039408e+25 -8.87746299e+24  9.76520929e+24]]\n",
      "[02-05 00:07:55][INFO] i= 184 x: [[ 1.95304186e+25  1.22065116e+25 -1.34271628e+25]]\n",
      "[02-05 00:07:55][INFO] i= 185 x: [[-2.68543256e+25 -1.67839535e+25  1.84623488e+25]]\n",
      "[02-05 00:07:55][INFO] i= 186 x: [[ 3.69246976e+25  2.30779360e+25 -2.53857296e+25]]\n",
      "[02-05 00:07:55][INFO] i= 187 x: [[-5.07714593e+25 -3.17321620e+25  3.49053782e+25]]\n",
      "[02-05 00:07:55][INFO] i= 188 x: [[ 6.98107565e+25  4.36317228e+25 -4.79948951e+25]]\n",
      "[02-05 00:07:55][INFO] i= 189 x: [[-9.59897902e+25 -5.99936189e+25  6.59929807e+25]]\n",
      "[02-05 00:07:55][INFO] i= 190 x: [[ 1.31985961e+26  8.24912259e+25 -9.07403485e+25]]\n",
      "[02-05 00:07:55][INFO] i= 191 x: [[-1.81480697e+26 -1.13425436e+26  1.24767979e+26]]\n",
      "[02-05 00:07:55][INFO] i= 192 x: [[ 2.49535958e+26  1.55959974e+26 -1.71555971e+26]]\n",
      "[02-05 00:07:55][INFO] i= 193 x: [[-3.43111943e+26 -2.14444964e+26  2.35889461e+26]]\n",
      "[02-05 00:07:55][INFO] i= 194 x: [[ 4.71778921e+26  2.94861826e+26 -3.24348008e+26]]\n",
      "[02-05 00:07:55][INFO] i= 195 x: [[-6.48696017e+26 -4.05435011e+26  4.45978512e+26]]\n",
      "[02-05 00:07:55][INFO] i= 196 x: [[ 8.91957023e+26  5.57473140e+26 -6.13220453e+26]]\n",
      "[02-05 00:07:55][INFO] i= 197 x: [[-1.22644091e+27 -7.66525567e+26  8.43178124e+26]]\n",
      "[02-05 00:07:55][INFO] i= 198 x: [[ 1.68635625e+27  1.05397265e+27 -1.15936992e+27]]\n",
      "[02-05 00:07:55][INFO] i= 199 x: [[-2.31873984e+27 -1.44921240e+27  1.59413364e+27]]\n",
      "[02-05 00:07:55][INFO] i= 200 x: [[ 3.18826728e+27  1.99266705e+27 -2.19193375e+27]]\n",
      "[02-05 00:07:55][INFO] i= 201 x: [[-4.38386751e+27 -2.73991719e+27  3.01390891e+27]]\n",
      "[02-05 00:07:55][INFO] i= 202 x: [[ 6.02781783e+27  3.76738614e+27 -4.14412475e+27]]\n",
      "[02-05 00:07:55][INFO] i= 203 x: [[-8.28824951e+27 -5.18015594e+27  5.69817154e+27]]\n",
      "[02-05 00:07:55][INFO] i= 204 x: [[ 1.13963431e+28  7.12271442e+27 -7.83498586e+27]]\n",
      "[02-05 00:07:55][INFO] i= 205 x: [[-1.56699717e+28 -9.79373233e+27  1.07731056e+28]]\n",
      "[02-05 00:07:55][INFO] i= 206 x: [[ 2.15462111e+28  1.34663820e+28 -1.48130202e+28]]\n",
      "[02-05 00:07:55][INFO] i= 207 x: [[-2.96260403e+28 -1.85162752e+28  2.03679027e+28]]\n",
      "[02-05 00:07:55][INFO] i= 208 x: [[ 4.07358054e+28  2.54598784e+28 -2.80058662e+28]]\n",
      "[02-05 00:07:55][INFO] i= 209 x: [[-5.60117324e+28 -3.50073328e+28  3.85080661e+28]]\n",
      "[02-05 00:07:55][INFO] i= 210 x: [[ 7.70161321e+28  4.81350826e+28 -5.29485908e+28]]\n",
      "[02-05 00:07:55][INFO] i= 211 x: [[-1.05897182e+29 -6.61857385e+28  7.28043124e+28]]\n",
      "[02-05 00:07:55][INFO] i= 212 x: [[ 1.45608625e+29  9.10053905e+28 -1.00105930e+29]]\n",
      "[02-05 00:07:55][INFO] i= 213 x: [[-2.00211859e+29 -1.25132412e+29  1.37645653e+29]]\n",
      "[02-05 00:07:55][INFO] i= 214 x: [[ 2.75291306e+29  1.72057066e+29 -1.89262773e+29]]\n",
      "[02-05 00:07:55][INFO] i= 215 x: [[-3.78525546e+29 -2.36578466e+29  2.60236313e+29]]\n",
      "[02-05 00:07:55][INFO] i= 216 x: [[ 5.20472626e+29  3.25295391e+29 -3.57824930e+29]]\n",
      "[02-05 00:07:55][INFO] i= 217 x: [[-7.15649860e+29 -4.47281163e+29  4.92009279e+29]]\n",
      "[02-05 00:07:55][INFO] i= 218 x: [[ 9.84018558e+29  6.15011599e+29 -6.76512759e+29]]\n",
      "[02-05 00:07:55][INFO] i= 219 x: [[-1.35302552e+30 -8.45640948e+29  9.30205043e+29]]\n",
      "[02-05 00:07:55][INFO] i= 220 x: [[ 1.86041009e+30  1.16275630e+30 -1.27903193e+30]]\n",
      "[02-05 00:07:55][INFO] i= 221 x: [[-2.55806387e+30 -1.59878992e+30  1.75866891e+30]]\n",
      "[02-05 00:07:55][INFO] i= 222 x: [[ 3.51733782e+30  2.19833614e+30 -2.41816975e+30]]\n",
      "[02-05 00:07:55][INFO] i= 223 x: [[-4.83633950e+30 -3.02271219e+30  3.32498341e+30]]\n",
      "[02-05 00:07:55][INFO] i= 224 x: [[ 6.64996682e+30  4.15622926e+30 -4.57185219e+30]]\n",
      "[02-05 00:07:55][INFO] i= 225 x: [[-9.14370437e+30 -5.71481523e+30  6.28629676e+30]]\n",
      "[02-05 00:07:55][INFO] i= 226 x: [[ 1.25725935e+31  7.85787094e+30 -8.64365804e+30]]\n",
      "[02-05 00:07:55][INFO] i= 227 x: [[-1.72873161e+31 -1.08045725e+31  1.18850298e+31]]\n",
      "[02-05 00:07:55][INFO] i= 228 x: [[ 2.37700596e+31  1.48562873e+31 -1.63419160e+31]]\n",
      "[02-05 00:07:55][INFO] i= 229 x: [[-3.26838320e+31 -2.04273950e+31  2.24701345e+31]]\n",
      "[02-05 00:07:55][INFO] i= 230 x: [[ 4.49402689e+31  2.80876681e+31 -3.08964349e+31]]\n",
      "[02-05 00:07:55][INFO] i= 231 x: [[-6.17928698e+31 -3.86205436e+31  4.24825980e+31]]\n",
      "[02-05 00:07:55][INFO] i= 232 x: [[ 8.49651960e+31  5.31032475e+31 -5.84135722e+31]]\n",
      "[02-05 00:07:55][INFO] i= 233 x: [[-1.16827144e+32 -7.30169653e+31  8.03186618e+31]]\n",
      "[02-05 00:07:55][INFO] i= 234 x: [[ 1.60637324e+32  1.00398327e+32 -1.10438160e+32]]\n",
      "[02-05 00:07:55][INFO] i= 235 x: [[-2.2087632e+32 -1.3804770e+32  1.5185247e+32]]\n",
      "[02-05 00:07:55][INFO] i= 236 x: [[ 3.03704940e+32  1.89815587e+32 -2.08797146e+32]]\n",
      "[02-05 00:07:55][INFO] i= 237 x: [[-4.17594292e+32 -2.60996433e+32  2.87096076e+32]]\n",
      "[02-05 00:07:55][INFO] i= 238 x: [[ 5.74192152e+32  3.58870095e+32 -3.94757105e+32]]\n",
      "[02-05 00:07:55][INFO] i= 239 x: [[-7.89514209e+32 -4.93446381e+32  5.42791019e+32]]\n",
      "[02-05 00:07:55][INFO] i= 240 x: [[ 1.08558204e+33  6.78488774e+32 -7.46337651e+32]]\n",
      "[02-05 00:07:55][INFO] i= 241 x: [[-1.49267530e+33 -9.32922064e+32  1.02621427e+33]]\n",
      "[02-05 00:07:55][INFO] i= 242 x: [[ 2.05242854e+33  1.28276784e+33 -1.41104462e+33]]\n",
      "[02-05 00:07:55][INFO] i= 243 x: [[-2.82208924e+33 -1.76380578e+33  1.94018635e+33]]\n",
      "[02-05 00:07:55][INFO] i= 244 x: [[ 3.88037271e+33  2.42523294e+33 -2.66775624e+33]]\n",
      "[02-05 00:07:55][INFO] i= 245 x: [[-5.33551247e+33 -3.33469530e+33  3.66816483e+33]]\n",
      "[02-05 00:07:55][INFO] i= 246 x: [[ 7.33632965e+33  4.58520603e+33 -5.04372664e+33]]\n",
      "[02-05 00:07:55][INFO] i= 247 x: [[-1.00874533e+34 -6.30465829e+33  6.93512412e+33]]\n",
      "[02-05 00:07:55][INFO] i= 248 x: [[ 1.38702482e+34  8.66890516e+33 -9.53579567e+33]]\n",
      "[02-05 00:07:55][INFO] i= 249 x: [[-1.90715913e+34 -1.19197446e+34  1.31117190e+34]]\n",
      "[02-05 00:07:55][INFO] i= 250 x: [[ 2.62234381e+34  1.63896488e+34 -1.80286137e+34]]\n",
      "[02-05 00:07:55][INFO] i= 251 x: [[-3.60572274e+34 -2.25357671e+34  2.47893438e+34]]\n",
      "[02-05 00:07:55][INFO] i= 252 x: [[ 4.95786876e+34  3.09866798e+34 -3.40853478e+34]]\n",
      "[02-05 00:07:55][INFO] i= 253 x: [[-6.81706955e+34 -4.26066847e+34  4.68673532e+34]]\n",
      "[02-05 00:07:55][INFO] i= 254 x: [[ 9.37347063e+34  5.85841915e+34 -6.44426106e+34]]\n",
      "[02-05 00:07:55][INFO] i= 255 x: [[-1.28885221e+35 -8.05532633e+34  8.86085896e+34]]\n",
      "[02-05 00:07:55][INFO] i= 256 x: [[ 1.77217179e+35  1.10760737e+35 -1.21836811e+35]]\n",
      "[02-05 00:07:55][INFO] i= 257 x: [[-2.43673621e+35 -1.52296013e+35  1.67525615e+35]]\n",
      "[02-05 00:07:55][INFO] i= 258 x: [[ 3.35051229e+35  2.09407018e+35 -2.30347720e+35]]\n",
      "[02-05 00:07:55][INFO] i= 259 x: [[-4.60695440e+35 -2.87934650e+35  3.16728115e+35]]\n",
      "[02-05 00:07:55][INFO] i= 260 x: [[ 6.33456230e+35  3.95910144e+35 -4.35501158e+35]]\n",
      "[02-05 00:07:55][INFO] i= 261 x: [[-8.71002317e+35 -5.44376448e+35  5.98814093e+35]]\n",
      "[02-05 00:07:55][INFO] i= 262 x: [[ 1.19762819e+36  7.48517616e+35 -8.23369378e+35]]\n",
      "[02-05 00:07:55][INFO] i= 263 x: [[-1.64673876e+36 -1.02921172e+36  1.13213289e+36]]\n",
      "[02-05 00:07:55][INFO] i= 264 x: [[ 2.26426579e+36  1.41516612e+36 -1.55668273e+36]]\n",
      "[02-05 00:07:55][INFO] i= 265 x: [[-3.11336546e+36 -1.94585341e+36  2.14043875e+36]]\n",
      "[02-05 00:07:55][INFO] i= 266 x: [[ 4.28087751e+36  2.67554844e+36 -2.94310329e+36]]\n",
      "[02-05 00:07:55][INFO] i= 267 x: [[-5.88620657e+36 -3.67887911e+36  4.04676702e+36]]\n",
      "[02-05 00:07:55][INFO] i= 268 x: [[ 8.09353404e+36  5.05845877e+36 -5.56430465e+36]]\n",
      "[02-05 00:07:55][INFO] i= 269 x: [[-1.11286093e+37 -6.95538081e+36  7.65091889e+36]]\n",
      "[02-05 00:07:55][INFO] i= 270 x: [[ 1.53018378e+37  9.56364862e+36 -1.05200135e+37]]\n",
      "[02-05 00:07:55][INFO] i= 271 x: [[-2.10400270e+37 -1.31500168e+37  1.44650185e+37]]\n",
      "[02-05 00:07:55][INFO] i= 272 x: [[ 2.89300371e+37  1.80812732e+37 -1.98894005e+37]]\n",
      "[02-05 00:07:55][INFO] i= 273 x: [[-3.97788010e+37 -2.48617506e+37  2.73479257e+37]]\n",
      "[02-05 00:07:55][INFO] i= 274 x: [[ 5.46958513e+37  3.41849071e+37 -3.76033978e+37]]\n",
      "[02-05 00:07:55][INFO] i= 275 x: [[-7.52067956e+37 -4.70042472e+37  5.17046720e+37]]\n",
      "[02-05 00:07:55][INFO] i= 276 x: [[ 1.03409344e+38  6.46308400e+37 -7.10939239e+37]]\n",
      "[02-05 00:07:55][INFO] i= 277 x: [[-1.42187848e+38 -8.88674049e+37  9.77541454e+37]]\n",
      "[02-05 00:07:55][INFO] i= 278 x: [[ 1.95508291e+38  1.22192682e+38 -1.34411950e+38]]\n",
      "[02-05 00:07:55][INFO] i= 279 x: [[-2.68823900e+38 -1.68014937e+38  1.84816431e+38]]\n",
      "[02-05 00:07:55][INFO] i= 280 x: [[ 3.69632862e+38  2.31020539e+38 -2.54122593e+38]]\n",
      "[02-05 00:07:55][INFO] i= 281 x: [[-5.08245186e+38 -3.17653241e+38  3.49418565e+38]]\n",
      "[02-05 00:07:55][INFO] i= 282 x: [[ 6.98837130e+38  4.36773207e+38 -4.80450527e+38]]\n",
      "[02-05 00:07:55][INFO] i= 283 x: [[-9.60901054e+38 -6.00563159e+38  6.60619475e+38]]\n",
      "[02-05 00:07:55][INFO] i= 284 x: [[ 1.32123895e+39  8.25774344e+38 -9.08351778e+38]]\n",
      "[02-05 00:07:55][INFO] i= 285 x: [[-1.81670356e+39 -1.13543972e+39  1.24898369e+39]]\n",
      "[02-05 00:07:55][INFO] i= 286 x: [[ 2.49796739e+39  1.56122962e+39 -1.71735258e+39]]\n",
      "[02-05 00:07:55][INFO] i= 287 x: [[-3.43470516e+39 -2.14669073e+39  2.36135980e+39]]\n",
      "[02-05 00:07:55][INFO] i= 288 x: [[ 4.72271960e+39  2.95169975e+39 -3.24686972e+39]]\n",
      "[02-05 00:07:55][INFO] i= 289 x: [[-6.49373944e+39 -4.05858715e+39  4.46444587e+39]]\n",
      "[02-05 00:07:55][INFO] i= 290 x: [[ 8.92889174e+39  5.58055733e+39 -6.13861307e+39]]\n",
      "[02-05 00:07:55][INFO] i= 291 x: [[-1.22772261e+40 -7.67326634e+39  8.44059297e+39]]\n",
      "[02-05 00:07:55][INFO] i= 292 x: [[ 1.68811859e+40  1.05507412e+40 -1.16058153e+40]]\n",
      "[02-05 00:07:55][INFO] i= 293 x: [[-2.32116307e+40 -1.45072692e+40  1.59579961e+40]]\n",
      "[02-05 00:07:55][INFO] i= 294 x: [[ 3.19159922e+40  1.99474951e+40 -2.19422446e+40]]\n",
      "[02-05 00:07:55][INFO] i= 295 x: [[-4.38844892e+40 -2.74278058e+40  3.01705863e+40]]\n",
      "[02-05 00:07:55][INFO] i= 296 x: [[ 6.03411727e+40  3.77132329e+40 -4.14845562e+40]]\n",
      "[02-05 00:07:55][INFO] i= 297 x: [[-8.29691124e+40 -5.18556953e+40  5.70412648e+40]]\n",
      "[02-05 00:07:55][INFO] i= 298 x: [[ 1.14082530e+41  7.13015810e+40 -7.84317391e+40]]\n",
      "[02-05 00:07:55][INFO] i= 299 x: [[-1.56863478e+41 -9.80396739e+40  1.07843641e+41]]\n",
      "Solución con Gauss-Seidel: [[-1.56863478e+41]\n",
      " [-9.80396739e+40]\n",
      " [ 1.07843641e+41]]\n"
     ]
    }
   ],
   "source": [
    "%autoreload 2\n",
    "import numpy as np\n",
    "from src.iterative_methods import gauss_seidel\n",
    "\n",
    "A = np.array([\n",
    "    [1, 0, -2],\n",
    "    [-1/2, 1, -1/4],\n",
    "    [1, -1/2, 1]\n",
    "], dtype=float)\n",
    "\n",
    "b = np.array([0.2, -1.425, 2], dtype=float)\n",
    "\n",
    "x0 = np.zeros((3, 1))  \n",
    "\n",
    "tol = 1e-22  # Tolerancia de 10⁻²²\n",
    "max_iter = 300  # Máximo de iteraciones\n",
    "\n",
    "\n",
    "x_seidel, tray_seidel = gauss_seidel(A=A, b=b, x0=x0, tol=tol, max_iter=max_iter)\n",
    "print(\"Solución con Gauss-Seidel:\", x_seidel)"
   ]
  },
  {
   "cell_type": "markdown",
   "metadata": {},
   "source": [
    "El método de Gauss-Seidel **diverge completamente**. El hecho de que la matriz no sea diagonalmente dominante hace que sea **inestable y no converja**"
   ]
  },
  {
   "cell_type": "markdown",
   "metadata": {},
   "source": [
    "## **7.** Un cable coaxial está formado por un conductor interno de 0.1 pulgadas cuadradas y un conductor externo de 0.5 pulgadas cuadradas.\n",
    "\n",
    "**El potencial en un punto en la sección transversal del cable se describe\n",
    "mediante la ecuación de Laplace.**\n",
    "\n",
    "**Suponga que el conductor interno se mantiene en 0 volts y el conductor externo se mantiene en 110 volts. Aproximar el potencial entre los dos conductores requiere resolver el siguiente sistema lineal.**\n"
   ]
  },
  {
   "cell_type": "markdown",
   "metadata": {},
   "source": [
    "$$\n",
    "\\left[\n",
    "\\begin{array}{cccccccccccc|c}\n",
    "4 & -1 & 0 & 0 & -1 & 0 & 0 & 0 & 0 & 0 & 0 & 0 & 220 \\\\\n",
    "-1 & 4 & -1 & 0 & 0 & 0 & 0 & 0 & 0 & 0 & 0 & 0 & 110 \\\\\n",
    "0 & -1 & 4 & -1 & 0 & 0 & 0 & 0 & 0 & 0 & 0 & 0 & 110 \\\\\n",
    "0 & 0 & -1 & 4 & 0 & -1 & 0 & 0 & 0 & 0 & 0 & 0 & 220 \\\\\n",
    "-1 & 0 & 0 & 0 & 4 & 0 & -1 & 0 & 0 & 0 & 0 & 0 & 110 \\\\\n",
    "0 & 0 & 0 & -1 & 0 & 4 & 0 & -1 & 0 & 0 & 0 & 0 & 110 \\\\\n",
    "0 & 0 & 0 & 0 & -1 & 0 & 4 & 0 & -1 & 0 & 0 & 0 & 110 \\\\\n",
    "0 & 0 & 0 & 0 & 0 & -1 & 0 & 4 & 0 & 0 & 0 & -1 & 110 \\\\\n",
    "0 & 0 & 0 & 0 & 0 & 0 & -1 & 0 & 4 & -1 & 0 & 0 & 220 \\\\\n",
    "0 & 0 & 0 & 0 & 0 & 0 & 0 & 0 & -1 & 4 & -1 & 0 & 110 \\\\\n",
    "0 & 0 & 0 & 0 & 0 & 0 & 0 & 0 & 0 & -1 & 4 & -1 & 110 \\\\\n",
    "0 & 0 & 0 & 0 & 0 & -1 & 0 & 0 & 0 & 0 & -1 & 4 & 220\n",
    "\\end{array}\n",
    "\\right]\n",
    "\\begin{bmatrix}\n",
    "w_1 \\\\ w_2 \\\\ w_3 \\\\ w_4 \\\\ w_5 \\\\ w_6 \\\\ w_7 \\\\ w_8 \\\\ w_9 \\\\ w_{10} \\\\ w_{11} \\\\ w_{12}\n",
    "\\end{bmatrix}\n",
    "=\n",
    "\\begin{bmatrix}\n",
    "220 \\\\ 110 \\\\ 110 \\\\ 220 \\\\ 110 \\\\ 110 \\\\ 110 \\\\ 110 \\\\ 220 \\\\ 110 \\\\ 110 \\\\ 220\n",
    "\\end{bmatrix}\n",
    "$$\n"
   ]
  },
  {
   "cell_type": "markdown",
   "metadata": {},
   "source": [
    "**a. ¿La matriz es estrictamente diagonal dominante?**"
   ]
  },
  {
   "cell_type": "code",
   "execution_count": 16,
   "metadata": {},
   "outputs": [
    {
     "name": "stdout",
     "output_type": "stream",
     "text": [
      "Matriz es diagonalmente dominante\n"
     ]
    }
   ],
   "source": [
    "import numpy as np\n",
    "\n",
    "A = np.array([\n",
    "    [4, -1, 0, 0, -1, 0, 0, 0, 0, 0, 0, 0],\n",
    "    [-1, 4, -1, 0, 0, 0, 0, 0, 0, 0, 0, 0],\n",
    "    [0, -1, 4, -1, 0, 0, 0, 0, 0, 0, 0, 0],\n",
    "    [0, 0, -1, 4, 0, -1, 0, 0, 0, 0, 0, 0],\n",
    "    [-1, 0, 0, 0, 4, 0, -1, 0, 0, 0, 0, 0],\n",
    "    [0, 0, 0, -1, 0, 4, 0, -1, 0, 0, 0, 0],\n",
    "    [0, 0, 0, 0, -1, 0, 4, 0, -1, 0, 0, 0],\n",
    "    [0, 0, 0, 0, 0, -1, 0, 4, 0, 0, 0, -1],\n",
    "    [0, 0, 0, 0, 0, 0, -1, 0, 4, -1, 0, 0],\n",
    "    [0, 0, 0, 0, 0, 0, 0, 0, -1, 4, -1, 0],\n",
    "    [0, 0, 0, 0, 0, 0, 0, 0, 0, -1, 4, -1],\n",
    "    [0, 0, 0, 0, 0, -1, 0, 0, 0, 0, -1, 4]\n",
    "], dtype=float)\n",
    "\n",
    "if es_diagonal_dominante(A):\n",
    "    print(\"Matriz es diagonalmente dominante\")\n",
    "else:\n",
    "    print(\"No es diagonalmente dominante\")"
   ]
  },
  {
   "cell_type": "markdown",
   "metadata": {},
   "source": [
    "**b. Resuelva el sistema lineal usando el método de Jacobi con $x_{(0)}=0$ y $TOL = 10_{-2}$**"
   ]
  },
  {
   "cell_type": "code",
   "execution_count": 17,
   "metadata": {},
   "outputs": [
    {
     "name": "stdout",
     "output_type": "stream",
     "text": [
      "[02-05 00:30:55][INFO] i= 0 x: [[0. 0. 0. 0. 0. 0. 0. 0. 0. 0. 0. 0.]]\n",
      "[02-05 00:30:55][INFO] i= 1 x: [[55.  27.5 27.5 55.  27.5 27.5 27.5 27.5 55.  27.5 27.5 55. ]]\n",
      "[02-05 00:30:55][INFO] i= 2 x: [[68.75  48.125 48.125 68.75  48.125 48.125 48.125 48.125 68.75  48.125\n",
      "  48.125 68.75 ]]\n",
      "[02-05 00:30:55][INFO] i= 3 x: [[79.0625  56.71875 56.71875 79.0625  56.71875 56.71875 56.71875 56.71875\n",
      "  79.0625  56.71875 56.71875 79.0625 ]]\n",
      "[02-05 00:30:55][INFO] i= 4 x: [[83.359375  61.4453125 61.4453125 83.359375  61.4453125 61.4453125\n",
      "  61.4453125 61.4453125 83.359375  61.4453125 61.4453125 83.359375 ]]\n",
      "[02-05 00:30:55][INFO] i= 5 x: [[85.72265625 63.70117188 63.70117188 85.72265625 63.70117188 63.70117188\n",
      "  63.70117188 63.70117188 85.72265625 63.70117188 63.70117188 85.72265625]]\n",
      "[02-05 00:30:55][INFO] i= 6 x: [[86.85058594 64.85595703 64.85595703 86.85058594 64.85595703 64.85595703\n",
      "  64.85595703 64.85595703 86.85058594 64.85595703 64.85595703 86.85058594]]\n",
      "[02-05 00:30:55][INFO] i= 7 x: [[87.42797852 65.42663574 65.42663574 87.42797852 65.42663574 65.42663574\n",
      "  65.42663574 65.42663574 87.42797852 65.42663574 65.42663574 87.42797852]]\n",
      "[02-05 00:30:55][INFO] i= 8 x: [[87.71331787 65.71365356 65.71365356 87.71331787 65.71365356 65.71365356\n",
      "  65.71365356 65.71365356 87.71331787 65.71365356 65.71365356 87.71331787]]\n",
      "[02-05 00:30:55][INFO] i= 9 x: [[87.85682678 65.85674286 65.85674286 87.85682678 65.85674286 65.85674286\n",
      "  65.85674286 65.85674286 87.85682678 65.85674286 65.85674286 87.85682678]]\n",
      "[02-05 00:30:55][INFO] i= 10 x: [[87.92837143 65.92839241 65.92839241 87.92837143 65.92839241 65.92839241\n",
      "  65.92839241 65.92839241 87.92837143 65.92839241 65.92839241 87.92837143]]\n",
      "[02-05 00:30:55][INFO] i= 11 x: [[87.96419621 65.96419096 65.96419096 87.96419621 65.96419096 65.96419096\n",
      "  65.96419096 65.96419096 87.96419621 65.96419096 65.96419096 87.96419621]]\n",
      "[02-05 00:30:55][INFO] i= 12 x: [[87.98209548 65.98209679 65.98209679 87.98209548 65.98209679 65.98209679\n",
      "  65.98209679 65.98209679 87.98209548 65.98209679 65.98209679 87.98209548]]\n",
      "[02-05 00:30:55][INFO] i= 13 x: [[87.9910484  65.99104807 65.99104807 87.9910484  65.99104807 65.99104807\n",
      "  65.99104807 65.99104807 87.9910484  65.99104807 65.99104807 87.9910484 ]]\n",
      "[02-05 00:30:55][INFO] i= 14 x: [[87.99552403 65.99552412 65.99552412 87.99552403 65.99552412 65.99552412\n",
      "  65.99552412 65.99552412 87.99552403 65.99552412 65.99552412 87.99552403]]\n",
      "Solución con Jacobi:\n",
      "[[87.99776206]\n",
      " [65.99776204]\n",
      " [65.99776204]\n",
      " [87.99776206]\n",
      " [65.99776204]\n",
      " [65.99776204]\n",
      " [65.99776204]\n",
      " [65.99776204]\n",
      " [87.99776206]\n",
      " [65.99776204]\n",
      " [65.99776204]\n",
      " [87.99776206]]\n"
     ]
    }
   ],
   "source": [
    "%autoreload 2\n",
    "import numpy as np\n",
    "from src.iterative_methods import gauss_jacobi\n",
    "\n",
    "A = np.array([\n",
    "    [4, -1, 0, 0, -1, 0, 0, 0, 0, 0, 0, 0],\n",
    "    [-1, 4, -1, 0, 0, 0, 0, 0, 0, 0, 0, 0],\n",
    "    [0, -1, 4, -1, 0, 0, 0, 0, 0, 0, 0, 0],\n",
    "    [0, 0, -1, 4, 0, -1, 0, 0, 0, 0, 0, 0],\n",
    "    [-1, 0, 0, 0, 4, 0, -1, 0, 0, 0, 0, 0],\n",
    "    [0, 0, 0, -1, 0, 4, 0, -1, 0, 0, 0, 0],\n",
    "    [0, 0, 0, 0, -1, 0, 4, 0, -1, 0, 0, 0],\n",
    "    [0, 0, 0, 0, 0, -1, 0, 4, 0, 0, 0, -1],\n",
    "    [0, 0, 0, 0, 0, 0, -1, 0, 4, -1, 0, 0],\n",
    "    [0, 0, 0, 0, 0, 0, 0, 0, -1, 4, -1, 0],\n",
    "    [0, 0, 0, 0, 0, 0, 0, 0, 0, -1, 4, -1],\n",
    "    [0, 0, 0, 0, 0, -1, 0, 0, 0, 0, -1, 4]\n",
    "], dtype=float)\n",
    "\n",
    "\n",
    "b = np.array([220, 110, 110, 220, 110, 110, 110, 110, 220, 110, 110, 220], dtype=float)\n",
    "x0 = np.zeros((12, 1))\n",
    "\n",
    "# Parámetros de iteración\n",
    "tol = 0.01  # 10^-2\n",
    "max_iter = 300  # Número máximo de iteraciones\n",
    "\n",
    "\n",
    "x_jacobi, tray_jacobi = gauss_jacobi(A=A, b=b, x0=x0, tol=tol, max_iter=max_iter)\n",
    "print(\"Solución con Jacobi:\")\n",
    "print(x_jacobi)"
   ]
  },
  {
   "cell_type": "markdown",
   "metadata": {},
   "source": [
    "**c. Repita (b) mediante el método de Gauss-Seidel**"
   ]
  },
  {
   "cell_type": "code",
   "execution_count": 21,
   "metadata": {},
   "outputs": [
    {
     "name": "stdout",
     "output_type": "stream",
     "text": [
      "[02-05 00:32:25][INFO] i= 0 x: [[0. 0. 0. 0. 0. 0. 0. 0. 0. 0. 0. 0.]]\n",
      "[02-05 00:32:25][INFO] i= 1 x: [[55.         41.25       37.8125     64.453125   41.25       43.61328125\n",
      "  37.8125     38.40332031 64.453125   43.61328125 38.40332031 75.50415039]]\n",
      "[02-05 00:32:25][INFO] i= 2 x: [[75.625      55.859375   57.578125   80.29785156 55.859375   57.17529297\n",
      "  57.578125   60.66986084 80.29785156 57.17529297 60.66986084 84.46128845]]\n",
      "[02-05 00:32:25][INFO] i= 3 x: [[82.9296875  62.62695312 63.23120117 85.10162354 62.62695312 63.94287109\n",
      "  63.23120117 64.60103989 85.10162354 63.94287109 64.60103989 87.13597775]]\n",
      "[02-05 00:32:25][INFO] i= 4 x: [[86.31347656 64.88616943 64.99694824 87.23495483 64.88616943 65.45899868\n",
      "  64.99694824 65.64874411 87.23495483 65.45899868 65.64874411 87.7769357 ]]\n",
      "[02-05 00:32:25][INFO] i= 5 x: [[87.44308472 65.61000824 65.71124077 87.79255986 65.61000824 65.86032599\n",
      "  65.71124077 65.90931542 87.79255986 65.86032599 65.90931542 87.94241035]]\n",
      "[02-05 00:32:25][INFO] i= 6 x: [[87.80500412 65.87906122 65.91790527 87.94455782 65.87906122 65.96346831\n",
      "  65.91790527 65.97646967 87.94455782 65.96346831 65.97646967 87.98498449]]\n",
      "[02-05 00:32:25][INFO] i= 7 x: [[87.93953061 65.96435897 65.9772292  87.98517438 65.96435897 65.99041101\n",
      "  65.9772292  65.99384888 87.98517438 65.99041101 65.99384888 87.99606497]]\n",
      "[02-05 00:32:25][INFO] i= 8 x: [[87.98217949 65.98985217 65.99375664 87.99604191 65.98985217 65.9974727\n",
      "  65.99375664 65.99838442 87.99604191 65.9974727  65.99838442 87.99896428]]\n",
      "[02-05 00:32:25][INFO] i= 9 x: [[87.99492609 65.99717068 65.99830315 87.99894396 65.99717068 65.99933209\n",
      "  65.99830315 65.99957409 87.99894396 65.99933209 65.99957409 87.99972655]]\n",
      "Solución con Seidel:\n",
      "[[87.99858534]\n",
      " [65.99922212]\n",
      " [65.99954152]\n",
      " [87.9997184 ]\n",
      " [65.99922212]\n",
      " [65.99982312]\n",
      " [65.99954152]\n",
      " [65.99988742]\n",
      " [87.9997184 ]\n",
      " [65.99982312]\n",
      " [65.99988742]\n",
      " [87.99992764]]\n"
     ]
    }
   ],
   "source": [
    "%autoreload 2\n",
    "import numpy as np\n",
    "from src.iterative_methods import gauss_seidel\n",
    "\n",
    "A = np.array([\n",
    "    [4, -1, 0, 0, -1, 0, 0, 0, 0, 0, 0, 0],\n",
    "    [-1, 4, -1, 0, 0, 0, 0, 0, 0, 0, 0, 0],\n",
    "    [0, -1, 4, -1, 0, 0, 0, 0, 0, 0, 0, 0],\n",
    "    [0, 0, -1, 4, 0, -1, 0, 0, 0, 0, 0, 0],\n",
    "    [-1, 0, 0, 0, 4, 0, -1, 0, 0, 0, 0, 0],\n",
    "    [0, 0, 0, -1, 0, 4, 0, -1, 0, 0, 0, 0],\n",
    "    [0, 0, 0, 0, -1, 0, 4, 0, -1, 0, 0, 0],\n",
    "    [0, 0, 0, 0, 0, -1, 0, 4, 0, 0, 0, -1],\n",
    "    [0, 0, 0, 0, 0, 0, -1, 0, 4, -1, 0, 0],\n",
    "    [0, 0, 0, 0, 0, 0, 0, 0, -1, 4, -1, 0],\n",
    "    [0, 0, 0, 0, 0, 0, 0, 0, 0, -1, 4, -1],\n",
    "    [0, 0, 0, 0, 0, -1, 0, 0, 0, 0, -1, 4]\n",
    "], dtype=float)\n",
    "\n",
    "\n",
    "b = np.array([220, 110, 110, 220, 110, 110, 110, 110, 220, 110, 110, 220], dtype=float)\n",
    "x0 = np.zeros((12, 1))\n",
    "\n",
    "# Parámetros de iteración\n",
    "tol = 0.01  # 10^-2\n",
    "max_iter = 300  # Número máximo de iteraciones\n",
    "\n",
    "\n",
    "x_seidel, tray_seidel = gauss_seidel(A=A, b=b, x0=x0, tol=tol, max_iter=max_iter)\n",
    "print(\"Solución con Seidel:\")\n",
    "print(x_seidel)"
   ]
  }
 ],
 "metadata": {
  "kernelspec": {
   "display_name": "Python 3 (ipykernel)",
   "language": "python",
   "name": "python3"
  },
  "language_info": {
   "codemirror_mode": {
    "name": "ipython",
    "version": 3
   },
   "file_extension": ".py",
   "mimetype": "text/x-python",
   "name": "python",
   "nbconvert_exporter": "python",
   "pygments_lexer": "ipython3",
   "version": "3.11.9"
  }
 },
 "nbformat": 4,
 "nbformat_minor": 4
}
