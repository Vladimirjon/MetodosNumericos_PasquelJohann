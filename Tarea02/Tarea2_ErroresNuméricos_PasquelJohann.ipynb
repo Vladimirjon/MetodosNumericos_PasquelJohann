{
 "cells": [
  {
   "cell_type": "raw",
   "id": "9db64001-53b9-439f-8db3-9721838dfa7b",
   "metadata": {},
   "source": [
    "---\n",
    "title: \"Tarea 2 Errores Numéricos\"\n",
    "author: \"Pasquel Johann\"\n",
    "lang: es\n",
    "format:\n",
    "  pdf:\n",
    "    toc: true\n",
    "    toc-title: \"Tabla de Contenidos\"\n",
    "execute:\n",
    "  echo: true\n",
    "  error: false\n",
    "  warning: false\n",
    "  jupyter: python3.11\n",
    "\n",
    "# Información adicional\n",
    "Materia: \"Métodos Numéricos\"\n",
    "Fecha: \"Quito, 2024-10-30\"\n",
    "---"
   ]
  },
  {
   "cell_type": "markdown",
   "id": "ae8c228c-1e05-4612-a6eb-420d2f9a5ee1",
   "metadata": {},
   "source": [
    "# CONJUNTO DE EJERCICIOS 1"
   ]
  },
  {
   "cell_type": "markdown",
   "id": "07e9266a-4029-4b20-97b0-84f01e104f71",
   "metadata": {},
   "source": [
    "#### 1. Calcule los errores absoluto y relativo en las aproximaciones de p por p*\n"
   ]
  },
  {
   "cell_type": "markdown",
   "id": "d2294001-8566-4744-b8dc-600cf2aa6925",
   "metadata": {},
   "source": [
    "a) $p =\\pi,  p*=\\frac{22}{7}$ "
   ]
  },
  {
   "cell_type": "markdown",
   "id": "b7ad539d-b022-47ea-b8bd-0097ab0c295f",
   "metadata": {},
   "source": [
    "$E_a = |p - p^*| $"
   ]
  },
  {
   "cell_type": "markdown",
   "id": "cd3cf9e0-97be-433e-93de-caa91ef9fcea",
   "metadata": {},
   "source": [
    "$E_a = |\\pi - \\frac{22}{7}|$"
   ]
  },
  {
   "cell_type": "markdown",
   "id": "50052493-6feb-432f-ab15-d49f703f72d5",
   "metadata": {},
   "source": [
    "$E_r = \\frac{|p - p^*|}{|p|}$"
   ]
  },
  {
   "cell_type": "markdown",
   "id": "aa31477e-3983-474d-99f7-768bc59bb698",
   "metadata": {},
   "source": [
    "$E_r = \\frac{|\\pi - \\frac{22}{7}|}{|\\pi|}$"
   ]
  },
  {
   "cell_type": "code",
   "execution_count": 3,
   "id": "64fcc3fd-8e74-4d6f-9398-d2a7e3cde9ba",
   "metadata": {},
   "outputs": [
    {
     "name": "stdout",
     "output_type": "stream",
     "text": [
      "Error absoluto: 0.0012644892673496777\n",
      "Error relativo: 0.0004024994347707008\n"
     ]
    }
   ],
   "source": [
    "import math\n",
    "\n",
    "p = math.pi\n",
    "p_estrella = 22 / 7\n",
    "\n",
    "error_absoluto = abs(p - p_estrella)\n",
    "\n",
    "error_relativo = error_absoluto / abs(p)\n",
    "print(\"Error absoluto:\", error_absoluto)\n",
    "print(\"Error relativo:\", error_relativo)"
   ]
  },
  {
   "cell_type": "markdown",
   "id": "206fce06-f0cc-4924-9eab-c4dd3b9b1bbe",
   "metadata": {},
   "source": [
    "b) $p =\\pi,  p*=3.1416$ "
   ]
  },
  {
   "cell_type": "markdown",
   "id": "caa00f5a-1f13-4871-9bf9-806de3706753",
   "metadata": {},
   "source": [
    "$E_a = |p - p^*|$ "
   ]
  },
  {
   "cell_type": "markdown",
   "id": "6172549c-0dd5-4a60-b41d-50844ccfac74",
   "metadata": {},
   "source": [
    "$E_a = |\\pi - 3.1416|$"
   ]
  },
  {
   "cell_type": "markdown",
   "id": "f818fb16-2d5e-4631-8bbc-0c33afcd8294",
   "metadata": {},
   "source": [
    "$E_r = \\frac{|p - p^*|}{|p|}$"
   ]
  },
  {
   "cell_type": "markdown",
   "id": "6b6836c2-aceb-4f6f-995f-d664b1fcc29f",
   "metadata": {},
   "source": [
    "$E_r = \\frac{|\\pi - 3.1416|}{|\\pi|}$"
   ]
  },
  {
   "cell_type": "code",
   "execution_count": 7,
   "id": "e0bcd9fe-3e3d-457f-9b67-39df9b3187c1",
   "metadata": {},
   "outputs": [
    {
     "name": "stdout",
     "output_type": "stream",
     "text": [
      "Error absoluto: 7.346410206832132e-06\n",
      "Error relativo: 2.3384349967961744e-06\n"
     ]
    }
   ],
   "source": [
    "import math\n",
    "\n",
    "p = math.pi\n",
    "p_estrella = 3.1416\n",
    "\n",
    "error_absoluto = abs(p - p_estrella)\n",
    "\n",
    "error_relativo = error_absoluto / abs(p)\n",
    "print(\"Error absoluto:\", error_absoluto)\n",
    "print(\"Error relativo:\", error_relativo)"
   ]
  },
  {
   "cell_type": "markdown",
   "id": "d81d86f4-a4c1-4d64-b63a-fdcc18e6a36c",
   "metadata": {},
   "source": [
    "c) $p =e,  p*=2.718$ "
   ]
  },
  {
   "cell_type": "markdown",
   "id": "80931975-89a8-4b44-bb48-0de126e3d65d",
   "metadata": {},
   "source": [
    "$E_a = |p - p^*|$ "
   ]
  },
  {
   "cell_type": "markdown",
   "id": "6b6cd67e-c702-429c-85c5-02a81551f7bd",
   "metadata": {},
   "source": [
    "$E_a = |e - 2.718|$"
   ]
  },
  {
   "cell_type": "markdown",
   "id": "2e80e9e4-57ff-4b7f-ad5f-685c2c2414c5",
   "metadata": {},
   "source": [
    "$E_r = \\frac{|p - p^*|}{|p|}$"
   ]
  },
  {
   "cell_type": "markdown",
   "id": "534f5435-66b0-4b9b-be7a-75dcf4bf8b40",
   "metadata": {},
   "source": [
    "$E_r = \\frac{|e - 2.718|}{|e|}$"
   ]
  },
  {
   "cell_type": "code",
   "execution_count": 9,
   "id": "9a5b615b-6608-4547-a63f-e78c79fc2587",
   "metadata": {},
   "outputs": [
    {
     "name": "stdout",
     "output_type": "stream",
     "text": [
      "Error absoluto: 0.0002818284590451192\n",
      "Error relativo: 0.00010367889601972718\n"
     ]
    }
   ],
   "source": [
    "import math\n",
    "\n",
    "p = math.e\n",
    "p_estrella = 2.718\n",
    "\n",
    "error_absoluto = abs(p - p_estrella)\n",
    "\n",
    "error_relativo = error_absoluto / abs(p)\n",
    "print(\"Error absoluto:\", error_absoluto)\n",
    "print(\"Error relativo:\", error_relativo)"
   ]
  },
  {
   "cell_type": "markdown",
   "id": "980069b3-d7ef-4541-9fe1-5ee2e41ed19e",
   "metadata": {},
   "source": [
    "d) $p =\\sqrt{2},  p*=1.414$ "
   ]
  },
  {
   "cell_type": "markdown",
   "id": "f6bb3622-0d5a-4309-97d9-19c0e2eeecda",
   "metadata": {},
   "source": [
    "$E_a = |p - p^*|$ "
   ]
  },
  {
   "cell_type": "markdown",
   "id": "cdcbfb79-9c80-4052-b7a2-b88188123bd9",
   "metadata": {},
   "source": [
    "$E_a = |\\sqrt{2} - 1.414|$"
   ]
  },
  {
   "cell_type": "markdown",
   "id": "3e1f76de-7d2e-43ca-bc1b-91673e429e91",
   "metadata": {},
   "source": [
    "$E_r = \\frac{|p - p^*|}{|p|}$"
   ]
  },
  {
   "cell_type": "markdown",
   "id": "be2a4da9-c2bc-4bb1-a0e0-18d8a41bca9b",
   "metadata": {},
   "source": [
    "$E_r = \\frac{|\\sqrt{2} - 1.414|}{|\\sqrt{2}|}$"
   ]
  },
  {
   "cell_type": "code",
   "execution_count": 13,
   "id": "6a3e7728-0f5e-4e10-bae8-82e20cdef781",
   "metadata": {},
   "outputs": [
    {
     "name": "stdout",
     "output_type": "stream",
     "text": [
      "Error absoluto: 0.00021356237309522186\n",
      "Error relativo: 0.00015101140222192286\n"
     ]
    }
   ],
   "source": [
    "import math\n",
    "\n",
    "p = math.sqrt(2)\n",
    "p_estrella = 1.414\n",
    "\n",
    "error_absoluto = abs(p - p_estrella)\n",
    "\n",
    "error_relativo = error_absoluto / abs(p)\n",
    "print(\"Error absoluto:\", error_absoluto)\n",
    "print(\"Error relativo:\", error_relativo)"
   ]
  },
  {
   "cell_type": "markdown",
   "id": "4a30e2c5-b18c-4c3e-994e-9b7bdb8a11af",
   "metadata": {},
   "source": [
    "#### 2. Calcule los errores absoluto y relativo en las aproximaciones de p por p*"
   ]
  },
  {
   "cell_type": "markdown",
   "id": "7aee7735-b55f-49fd-b951-8025df36bfec",
   "metadata": {},
   "source": [
    "a) $p =e^{10},  p*=22000$ "
   ]
  },
  {
   "cell_type": "markdown",
   "id": "db90a433-d83e-482b-abea-9897bd05273b",
   "metadata": {},
   "source": [
    "$E_a = |p - p^*| $ "
   ]
  },
  {
   "cell_type": "markdown",
   "id": "33d6e91d-95a9-4fac-90a3-1fafbfc95f62",
   "metadata": {},
   "source": [
    "$E_a = |e^{10} - 22000|$"
   ]
  },
  {
   "cell_type": "markdown",
   "id": "7a91b364-9580-4feb-86df-b088a5b3c891",
   "metadata": {},
   "source": [
    "$E_r = \\frac{|p - p^*|}{|p|}$"
   ]
  },
  {
   "cell_type": "markdown",
   "id": "87fb793e-1a5f-4f47-af1a-439fb229f08e",
   "metadata": {},
   "source": [
    "$E_r = \\frac{|e^{10} - 22000|}{|e^{10}|}$"
   ]
  },
  {
   "cell_type": "code",
   "execution_count": 15,
   "id": "086f0653-4d17-4f57-888e-c0903ed12586",
   "metadata": {},
   "outputs": [
    {
     "name": "stdout",
     "output_type": "stream",
     "text": [
      "Error absoluto: 26.465794806703343\n",
      "Error relativo: 0.0012015452253326688\n"
     ]
    }
   ],
   "source": [
    "import math\n",
    "\n",
    "p = (math.e)**10\n",
    "p_estrella = 22000\n",
    "\n",
    "error_absoluto = abs(p - p_estrella)\n",
    "\n",
    "error_relativo = error_absoluto / abs(p)\n",
    "print(\"Error absoluto:\", error_absoluto)\n",
    "print(\"Error relativo:\", error_relativo)"
   ]
  },
  {
   "cell_type": "markdown",
   "id": "a28f50a7-ce48-4915-a14e-cf58c9bd387a",
   "metadata": {},
   "source": [
    "b) $p =10^{\\pi},  p*=1400$ "
   ]
  },
  {
   "cell_type": "markdown",
   "id": "f769a7cd-f100-46e7-b036-153a670e1f61",
   "metadata": {},
   "source": [
    "$E_a = |p - p^*|$ "
   ]
  },
  {
   "cell_type": "markdown",
   "id": "37353b2e-edcb-4539-9fa3-3788ee8a57dd",
   "metadata": {},
   "source": [
    "$E_a = |10^{\\pi} - 1400|$"
   ]
  },
  {
   "cell_type": "markdown",
   "id": "dd110432-a272-421a-8b0e-fbf969f2154e",
   "metadata": {},
   "source": [
    "$E_r = \\frac{|p - p^*|}{|p|}$"
   ]
  },
  {
   "cell_type": "markdown",
   "id": "f72607d1-5296-4526-9b0d-dca60e82ab3c",
   "metadata": {},
   "source": [
    "$E_r = \\frac{|10^{\\pi} - 1400|}{|10^{\\pi}|}$"
   ]
  },
  {
   "cell_type": "code",
   "execution_count": 16,
   "id": "dd0bab3c-9e7f-44e3-b140-fc41475304af",
   "metadata": {},
   "outputs": [
    {
     "name": "stdout",
     "output_type": "stream",
     "text": [
      "Error absoluto: 14.544268632989315\n",
      "Error relativo: 0.010497822704619136\n"
     ]
    }
   ],
   "source": [
    "import math\n",
    "\n",
    "p = 10**(math.pi)\n",
    "p_estrella = 1400\n",
    "\n",
    "error_absoluto = abs(p - p_estrella)\n",
    "\n",
    "error_relativo = error_absoluto / abs(p)\n",
    "print(\"Error absoluto:\", error_absoluto)\n",
    "print(\"Error relativo:\", error_relativo)"
   ]
  },
  {
   "cell_type": "markdown",
   "id": "547c98de-a944-42c9-973b-a39910af9dd8",
   "metadata": {},
   "source": [
    "c) $p =8!,  p*=39900$ "
   ]
  },
  {
   "cell_type": "markdown",
   "id": "61040e8d-de9c-4cb5-886a-553a1578d76d",
   "metadata": {},
   "source": [
    "$E_a = |p - p^*|$ "
   ]
  },
  {
   "cell_type": "markdown",
   "id": "e28ab12f-9f2b-451e-84d3-2cc7ddcf6fbc",
   "metadata": {},
   "source": [
    "$E_a = |8! - 39900|$"
   ]
  },
  {
   "cell_type": "markdown",
   "id": "03d774a7-96e9-4fc3-a66c-500dbdc65f02",
   "metadata": {},
   "source": [
    "$E_r = \\frac{|p - p^*|}{|p|}$"
   ]
  },
  {
   "cell_type": "markdown",
   "id": "ff56e538-2d15-4f27-aa42-1de550230302",
   "metadata": {},
   "source": [
    "$E_r = \\frac{|8! - 39900|}{|8!|}$"
   ]
  },
  {
   "cell_type": "code",
   "execution_count": 17,
   "id": "684b017f-46f1-4df2-af1a-3ac06a510eff",
   "metadata": {},
   "outputs": [
    {
     "name": "stdout",
     "output_type": "stream",
     "text": [
      "Error absoluto: 420\n",
      "Error relativo: 0.010416666666666666\n"
     ]
    }
   ],
   "source": [
    "import math\n",
    "\n",
    "p = math.factorial(8)\n",
    "p_estrella = 39900\n",
    "\n",
    "error_absoluto = abs(p - p_estrella)\n",
    "\n",
    "error_relativo = error_absoluto / abs(p)\n",
    "print(\"Error absoluto:\", error_absoluto)\n",
    "print(\"Error relativo:\", error_relativo)"
   ]
  },
  {
   "cell_type": "markdown",
   "id": "83b92c80-9316-40dd-81fd-8e2ec502ffd1",
   "metadata": {},
   "source": [
    "d) $p = 9!$,  $p^* = \\sqrt{18\\pi} \\left(\\frac{9}{e}\\right)^9$ "
   ]
  },
  {
   "cell_type": "markdown",
   "id": "3da627c6-ec69-40ba-8475-b1a6524529c5",
   "metadata": {},
   "source": [
    "$E_a = |p - p^*|$ "
   ]
  },
  {
   "cell_type": "markdown",
   "id": "16e8e3a4-7ae3-4747-bd2c-6c9476507418",
   "metadata": {},
   "source": [
    "$E_a = |9! - \\sqrt{18\\pi}(\\frac{9}{e})^9|$"
   ]
  },
  {
   "cell_type": "markdown",
   "id": "1da91da4-1b38-4180-9b7f-c76e3a0c4aa6",
   "metadata": {},
   "source": [
    "$E_r = \\frac{|p - p^*|}{|p|}$"
   ]
  },
  {
   "cell_type": "markdown",
   "id": "8c7ab580-f7d8-4ec3-b7fb-9078e6ac9534",
   "metadata": {},
   "source": [
    "$E_r = \\frac{|9! - \\sqrt{18\\pi} \\left(\\frac{9}{e}\\right)^9|}{|9!|}$"
   ]
  },
  {
   "cell_type": "code",
   "execution_count": 21,
   "id": "13c250d4-0844-4cc5-902b-7e94262039d4",
   "metadata": {},
   "outputs": [
    {
     "name": "stdout",
     "output_type": "stream",
     "text": [
      "Error absoluto: 3343.1271580516477\n",
      "Error relativo: 0.009212762230080598\n"
     ]
    }
   ],
   "source": [
    "import math\n",
    "\n",
    "p = math.factorial(9)\n",
    "p_estrella = (math.sqrt(18 * math.pi))*((9/math.e)**9)\n",
    "\n",
    "error_absoluto = abs(p - p_estrella)\n",
    "\n",
    "error_relativo = error_absoluto / abs(p)\n",
    "print(\"Error absoluto:\", error_absoluto)\n",
    "print(\"Error relativo:\", error_relativo)"
   ]
  },
  {
   "cell_type": "markdown",
   "id": "d4a66736-c042-4d46-bb29-4a9c78fac36f",
   "metadata": {},
   "source": [
    "#### 3. Encuentre el intervalo más largo en el que se debe encontrar 𝑝* para aproximarse a 𝑝 con error relativo máximo de  $10^{−4}$ para cada valor de 𝑝. "
   ]
  },
  {
   "cell_type": "markdown",
   "id": "333c7be1-30d4-43c9-adce-b232d1df0f1d",
   "metadata": {},
   "source": [
    "$E_r = \\frac{|p - p^*|}{|p|}$"
   ]
  },
  {
   "cell_type": "markdown",
   "id": "c39debd9-ac4d-4121-98dd-8179e76c2bfb",
   "metadata": {},
   "source": [
    "$E_r: \\frac{|p^* - p|}{|p|} \\leq 10^{-4}$"
   ]
  },
  {
   "cell_type": "markdown",
   "id": "8acf4476-da5b-4a50-a979-4fe6e913e7c7",
   "metadata": {},
   "source": [
    "$p - 10^{-4} \\cdot p \\leq p^* \\leq p + 10^{-4} \\cdot p$"
   ]
  },
  {
   "cell_type": "markdown",
   "id": "8d8cc2f9-3888-42f1-a985-745f10bc496e",
   "metadata": {},
   "source": [
    "a) ${\\pi}$"
   ]
  },
  {
   "cell_type": "markdown",
   "id": "15509571-8732-43ee-ba1c-e4cd9ffd4c94",
   "metadata": {},
   "source": [
    "$p =\\pi$"
   ]
  },
  {
   "cell_type": "code",
   "execution_count": 25,
   "id": "0365a342-20d0-4037-8d42-d0210d8281c2",
   "metadata": {},
   "outputs": [
    {
     "name": "stdout",
     "output_type": "stream",
     "text": [
      "p* debe estar entre: [3.141278494324434, 3.141906812855152]\n"
     ]
    }
   ],
   "source": [
    "import math\n",
    "\n",
    "p = math.pi\n",
    "error_absoluto_max = 10**-4 * p\n",
    "\n",
    "p_estrella_min = p - error_absoluto_max\n",
    "p_estrella_max = p + error_absoluto_max\n",
    "\n",
    "rango = [p_estrella_min, p_estrella_max]\n",
    "\n",
    "print(\"p* debe estar entre:\", rango)"
   ]
  },
  {
   "cell_type": "markdown",
   "id": "d1cfe418-4196-402e-afb8-4be5d663fba2",
   "metadata": {},
   "source": [
    "b) $e$"
   ]
  },
  {
   "cell_type": "markdown",
   "id": "430caf76-ec25-4f13-b4e3-3657bc8c60ae",
   "metadata": {},
   "source": [
    "$p = e$"
   ]
  },
  {
   "cell_type": "code",
   "execution_count": 26,
   "id": "49000ccb-a7e1-49b5-8265-1a107cd5bb89",
   "metadata": {},
   "outputs": [
    {
     "name": "stdout",
     "output_type": "stream",
     "text": [
      "p* debe estar entre: [2.718010000276199, 2.718553656641891]\n"
     ]
    }
   ],
   "source": [
    "import math\n",
    "\n",
    "p = math.e\n",
    "error_absoluto_max = 10**-4 * p\n",
    "\n",
    "p_estrella_min = p - error_absoluto_max\n",
    "p_estrella_max = p + error_absoluto_max\n",
    "\n",
    "rango = [p_estrella_min, p_estrella_max]\n",
    "\n",
    "print(\"p* debe estar entre:\", rango)"
   ]
  },
  {
   "cell_type": "markdown",
   "id": "d71ca3ed-4e3c-4aac-91f7-9cf74fe8aff0",
   "metadata": {},
   "source": [
    "c) $\\sqrt{2}$"
   ]
  },
  {
   "cell_type": "markdown",
   "id": "1097357d-d144-40a4-b8c9-53abe76cabed",
   "metadata": {},
   "source": [
    "$p = \\sqrt{2}$"
   ]
  },
  {
   "cell_type": "code",
   "execution_count": 27,
   "id": "b783f944-a136-43f9-b527-1867c0c0d6f1",
   "metadata": {},
   "outputs": [
    {
     "name": "stdout",
     "output_type": "stream",
     "text": [
      "p* debe estar entre: [1.4140721410168577, 1.4143549837293325]\n"
     ]
    }
   ],
   "source": [
    "import math\n",
    "\n",
    "p = math.sqrt(2)\n",
    "error_absoluto_max = 10**-4 * p\n",
    "\n",
    "p_estrella_min = p - error_absoluto_max\n",
    "p_estrella_max = p + error_absoluto_max\n",
    "\n",
    "rango = [p_estrella_min, p_estrella_max]\n",
    "\n",
    "print(\"p* debe estar entre:\", rango)"
   ]
  },
  {
   "cell_type": "markdown",
   "id": "f6da51be-e1fb-4473-aeeb-c0be6f0e33d3",
   "metadata": {},
   "source": [
    "d) $\\sqrt[3]{7}$"
   ]
  },
  {
   "cell_type": "markdown",
   "id": "2dedfb48-476f-44e6-82ad-e7966c80f364",
   "metadata": {},
   "source": [
    "$p = \\sqrt[3]{7}$"
   ]
  },
  {
   "cell_type": "code",
   "execution_count": 28,
   "id": "9590e1b8-b14a-4751-8674-aa1665120ed8",
   "metadata": {},
   "outputs": [
    {
     "name": "stdout",
     "output_type": "stream",
     "text": [
      "p* debe estar entre: [1.9127398896541117, 1.9131224758906662]\n"
     ]
    }
   ],
   "source": [
    "import math\n",
    "\n",
    "p = 7**(1/3)\n",
    "error_absoluto_max = 10**-4 * p\n",
    "\n",
    "p_estrella_min = p - error_absoluto_max\n",
    "p_estrella_max = p + error_absoluto_max\n",
    "\n",
    "rango = [p_estrella_min, p_estrella_max]\n",
    "\n",
    "print(\"p* debe estar entre:\", rango)"
   ]
  },
  {
   "cell_type": "markdown",
   "id": "0de1d290-fed3-42a5-9a36-509d867d21d4",
   "metadata": {},
   "source": [
    "#### 4. Use la aritmética de redondeo de tres dígitos para realizar lo siguiente. Calcule los errores absoluto y relativo con el valor exacto determinado para por lo memos cinco dígitos."
   ]
  },
  {
   "cell_type": "markdown",
   "id": "883f7674-a324-4002-b86b-d812b37a14e4",
   "metadata": {},
   "source": [
    "a) $\\frac{\\frac{13}{14}-\\frac{5}{7}}{2e-5.4}$"
   ]
  },
  {
   "cell_type": "code",
   "execution_count": 11,
   "id": "cd115d9f-5ffa-4083-8f12-821d3cefa9e4",
   "metadata": {},
   "outputs": [
    {
     "data": {
      "text/html": [
       "<div>\n",
       "<style scoped>\n",
       "    .dataframe tbody tr th:only-of-type {\n",
       "        vertical-align: middle;\n",
       "    }\n",
       "\n",
       "    .dataframe tbody tr th {\n",
       "        vertical-align: top;\n",
       "    }\n",
       "\n",
       "    .dataframe thead th {\n",
       "        text-align: right;\n",
       "    }\n",
       "</style>\n",
       "<table border=\"1\" class=\"dataframe\">\n",
       "  <thead>\n",
       "    <tr style=\"text-align: right;\">\n",
       "      <th></th>\n",
       "      <th>Real</th>\n",
       "      <th>Aproximado</th>\n",
       "      <th>Error Relativo</th>\n",
       "    </tr>\n",
       "  </thead>\n",
       "  <tbody>\n",
       "    <tr>\n",
       "      <th>13/14</th>\n",
       "      <td>0.928571</td>\n",
       "      <td>0.929</td>\n",
       "      <td>0.000462</td>\n",
       "    </tr>\n",
       "    <tr>\n",
       "      <th>5/7</th>\n",
       "      <td>0.714286</td>\n",
       "      <td>0.714</td>\n",
       "      <td>0.000400</td>\n",
       "    </tr>\n",
       "    <tr>\n",
       "      <th>2e</th>\n",
       "      <td>5.436564</td>\n",
       "      <td>5.437</td>\n",
       "      <td>0.000080</td>\n",
       "    </tr>\n",
       "    <tr>\n",
       "      <th>5.4</th>\n",
       "      <td>5.400000</td>\n",
       "      <td>5.400</td>\n",
       "      <td>0.000000</td>\n",
       "    </tr>\n",
       "  </tbody>\n",
       "</table>\n",
       "</div>"
      ],
      "text/plain": [
       "           Real  Aproximado  Error Relativo\n",
       "13/14  0.928571       0.929        0.000462\n",
       "5/7    0.714286       0.714        0.000400\n",
       "2e     5.436564       5.437        0.000080\n",
       "5.4    5.400000       5.400        0.000000"
      ]
     },
     "execution_count": 11,
     "metadata": {},
     "output_type": "execute_result"
    }
   ],
   "source": [
    "import math\n",
    "import pandas as pd\n",
    "\n",
    "real_values = [\n",
    "    13 / 14,\n",
    "    5 / 7,\n",
    "    2 * math.e,\n",
    "    5.4\n",
    "]\n",
    "operations = [\"13/14\", \"5/7\", \"2e\", \"5.4\"]\n",
    "approx_values = [round(val, 3) for val in real_values]\n",
    "rel_errors = [abs(real - approx) / abs(real) for real, approx in zip(real_values, approx_values)]\n",
    "\n",
    "data = {\n",
    "    \"Real\": real_values,\n",
    "    \"Aproximado\": approx_values,\n",
    "    \"Error Relativo\": rel_errors\n",
    "}\n",
    "df = pd.DataFrame(data, index=operations)\n",
    "df"
   ]
  },
  {
   "cell_type": "code",
   "execution_count": 9,
   "id": "8b89e580-a26d-40a8-a6de-b1e422e1ce64",
   "metadata": {},
   "outputs": [
    {
     "name": "stdout",
     "output_type": "stream",
     "text": [
      "\n",
      "Tabla de resultados finales:\n"
     ]
    },
    {
     "data": {
      "text/html": [
       "<div>\n",
       "<style scoped>\n",
       "    .dataframe tbody tr th:only-of-type {\n",
       "        vertical-align: middle;\n",
       "    }\n",
       "\n",
       "    .dataframe tbody tr th {\n",
       "        vertical-align: top;\n",
       "    }\n",
       "\n",
       "    .dataframe thead th {\n",
       "        text-align: right;\n",
       "    }\n",
       "</style>\n",
       "<table border=\"1\" class=\"dataframe\">\n",
       "  <thead>\n",
       "    <tr style=\"text-align: right;\">\n",
       "      <th></th>\n",
       "      <th>Real</th>\n",
       "      <th>Aproximado</th>\n",
       "      <th>Error Absoluto</th>\n",
       "      <th>Error Relativo</th>\n",
       "    </tr>\n",
       "  </thead>\n",
       "  <tbody>\n",
       "    <tr>\n",
       "      <th>Numerador</th>\n",
       "      <td>0.21428</td>\n",
       "      <td>0.215000</td>\n",
       "      <td>0.00072</td>\n",
       "      <td>0.003360</td>\n",
       "    </tr>\n",
       "    <tr>\n",
       "      <th>Denominador</th>\n",
       "      <td>0.03656</td>\n",
       "      <td>0.037000</td>\n",
       "      <td>0.00044</td>\n",
       "      <td>0.012035</td>\n",
       "    </tr>\n",
       "    <tr>\n",
       "      <th>Fracción completa</th>\n",
       "      <td>5.86105</td>\n",
       "      <td>5.810811</td>\n",
       "      <td>0.05024</td>\n",
       "      <td>0.008572</td>\n",
       "    </tr>\n",
       "  </tbody>\n",
       "</table>\n",
       "</div>"
      ],
      "text/plain": [
       "                      Real  Aproximado  Error Absoluto  Error Relativo\n",
       "Numerador          0.21428    0.215000         0.00072        0.003360\n",
       "Denominador        0.03656    0.037000         0.00044        0.012035\n",
       "Fracción completa  5.86105    5.810811         0.05024        0.008572"
      ]
     },
     "execution_count": 9,
     "metadata": {},
     "output_type": "execute_result"
    }
   ],
   "source": [
    "real_values = [\n",
    "    round(13 / 14, 5),\n",
    "    round(5 / 7, 5),\n",
    "    round(2 * math.e, 5),\n",
    "    round(5.4, 5)\n",
    "]\n",
    "\n",
    "operations = [\"13/14\", \"5/7\", \"2e\", \"5.4\"]\n",
    "\n",
    "approx_values = [round(val, 3) for val in real_values]\n",
    "\n",
    "abs_errors = [abs(real - approx) for real, approx in zip(real_values, approx_values)]\n",
    "rel_errors = [abs(real - approx) / abs(real) for real, approx in zip(real_values, approx_values)]\n",
    "\n",
    "numerador_real = real_values[0] - real_values[1]\n",
    "denominador_real = real_values[2] - real_values[3]\n",
    "\n",
    "numerador_aprox = approx_values[0] - approx_values[1]\n",
    "denominador_aprox = approx_values[2] - approx_values[3]\n",
    "\n",
    "fraccion_real = numerador_real / denominador_real\n",
    "fraccion_aprox = numerador_aprox / denominador_aprox\n",
    "\n",
    "abs_error_numerador = abs(numerador_real - numerador_aprox)\n",
    "rel_error_numerador = abs_error_numerador / abs(numerador_real)\n",
    "\n",
    "abs_error_denominador = abs(denominador_real - denominador_aprox)\n",
    "rel_error_denominador = abs_error_denominador / abs(denominador_real)\n",
    "\n",
    "abs_error_fraccion = abs(fraccion_real - fraccion_aprox)\n",
    "rel_error_fraccion = abs_error_fraccion / abs(fraccion_real)\n",
    "\n",
    "data_final = {\n",
    "    \"Real\": [numerador_real, denominador_real, fraccion_real],\n",
    "    \"Aproximado\": [numerador_aprox, denominador_aprox, fraccion_aprox],\n",
    "    \"Error Absoluto\": [abs_error_numerador, abs_error_denominador, abs_error_fraccion],\n",
    "    \"Error Relativo\": [rel_error_numerador, rel_error_denominador, rel_error_fraccion]\n",
    "}\n",
    "\n",
    "operaciones_finales = [\"Numerador\", \"Denominador\", \"Fracción completa\"]\n",
    "\n",
    "df_final = pd.DataFrame(data_final, index=operaciones_finales)\n",
    "\n",
    "print(\"\\nTabla de resultados finales:\")\n",
    "df_final\n"
   ]
  },
  {
   "cell_type": "markdown",
   "id": "4dbd6101-d916-4790-ac28-9b26b51e8e15",
   "metadata": {},
   "source": [
    "b) $-10\\pi+6e-\\frac{3}{61}$"
   ]
  },
  {
   "cell_type": "code",
   "execution_count": 12,
   "id": "9045e7a5-2567-4981-a8d6-1cd4ae488bd6",
   "metadata": {},
   "outputs": [
    {
     "name": "stdout",
     "output_type": "stream",
     "text": [
      "Tabla inicial de errores:\n"
     ]
    },
    {
     "data": {
      "text/html": [
       "<div>\n",
       "<style scoped>\n",
       "    .dataframe tbody tr th:only-of-type {\n",
       "        vertical-align: middle;\n",
       "    }\n",
       "\n",
       "    .dataframe tbody tr th {\n",
       "        vertical-align: top;\n",
       "    }\n",
       "\n",
       "    .dataframe thead th {\n",
       "        text-align: right;\n",
       "    }\n",
       "</style>\n",
       "<table border=\"1\" class=\"dataframe\">\n",
       "  <thead>\n",
       "    <tr style=\"text-align: right;\">\n",
       "      <th></th>\n",
       "      <th>Real</th>\n",
       "      <th>Aproximado</th>\n",
       "      <th>Error Absoluto</th>\n",
       "      <th>Error Relativo</th>\n",
       "    </tr>\n",
       "  </thead>\n",
       "  <tbody>\n",
       "    <tr>\n",
       "      <th>-10π</th>\n",
       "      <td>-31.41593</td>\n",
       "      <td>-31.416</td>\n",
       "      <td>0.00007</td>\n",
       "      <td>0.000002</td>\n",
       "    </tr>\n",
       "    <tr>\n",
       "      <th>6e</th>\n",
       "      <td>16.30969</td>\n",
       "      <td>16.310</td>\n",
       "      <td>0.00031</td>\n",
       "      <td>0.000019</td>\n",
       "    </tr>\n",
       "    <tr>\n",
       "      <th>3/61</th>\n",
       "      <td>0.04918</td>\n",
       "      <td>0.049</td>\n",
       "      <td>0.00018</td>\n",
       "      <td>0.003660</td>\n",
       "    </tr>\n",
       "  </tbody>\n",
       "</table>\n",
       "</div>"
      ],
      "text/plain": [
       "          Real  Aproximado  Error Absoluto  Error Relativo\n",
       "-10π -31.41593     -31.416         0.00007        0.000002\n",
       "6e    16.30969      16.310         0.00031        0.000019\n",
       "3/61   0.04918       0.049         0.00018        0.003660"
      ]
     },
     "execution_count": 12,
     "metadata": {},
     "output_type": "execute_result"
    }
   ],
   "source": [
    "import math\n",
    "import pandas as pd\n",
    "\n",
    "real_values = [\n",
    "    round(-10 * math.pi, 5),\n",
    "    round(6 * math.e, 5),\n",
    "    round(3 / 61, 5)\n",
    "]\n",
    "\n",
    "operations = [\"-10π\", \"6e\", \"3/61\"]\n",
    "\n",
    "approx_values = [round(val, 3) for val in real_values]\n",
    "\n",
    "abs_errors = [abs(real - approx) for real, approx in zip(real_values, approx_values)]\n",
    "rel_errors = [abs(real - approx) / abs(real) for real, approx in zip(real_values, approx_values)]\n",
    "\n",
    "data_initial = {\n",
    "    \"Real\": real_values,\n",
    "    \"Aproximado\": approx_values,\n",
    "    \"Error Absoluto\": abs_errors,\n",
    "    \"Error Relativo\": rel_errors\n",
    "}\n",
    "df_initial = pd.DataFrame(data_initial, index=operations)\n",
    "\n",
    "print(\"Tabla inicial de errores:\")\n",
    "df_initial"
   ]
  },
  {
   "cell_type": "code",
   "execution_count": 13,
   "id": "350f34e4-e64d-41eb-b299-df9db4f8da31",
   "metadata": {},
   "outputs": [
    {
     "name": "stdout",
     "output_type": "stream",
     "text": [
      "\n",
      "Tabla de resultados finales:\n"
     ]
    },
    {
     "data": {
      "text/html": [
       "<div>\n",
       "<style scoped>\n",
       "    .dataframe tbody tr th:only-of-type {\n",
       "        vertical-align: middle;\n",
       "    }\n",
       "\n",
       "    .dataframe tbody tr th {\n",
       "        vertical-align: top;\n",
       "    }\n",
       "\n",
       "    .dataframe thead th {\n",
       "        text-align: right;\n",
       "    }\n",
       "</style>\n",
       "<table border=\"1\" class=\"dataframe\">\n",
       "  <thead>\n",
       "    <tr style=\"text-align: right;\">\n",
       "      <th></th>\n",
       "      <th>Real</th>\n",
       "      <th>Aproximado</th>\n",
       "      <th>Error Absoluto</th>\n",
       "      <th>Error Relativo</th>\n",
       "    </tr>\n",
       "  </thead>\n",
       "  <tbody>\n",
       "    <tr>\n",
       "      <th>Expresión completa</th>\n",
       "      <td>-15.15542</td>\n",
       "      <td>-15.155</td>\n",
       "      <td>0.00042</td>\n",
       "      <td>0.000028</td>\n",
       "    </tr>\n",
       "  </tbody>\n",
       "</table>\n",
       "</div>"
      ],
      "text/plain": [
       "                        Real  Aproximado  Error Absoluto  Error Relativo\n",
       "Expresión completa -15.15542     -15.155         0.00042        0.000028"
      ]
     },
     "execution_count": 13,
     "metadata": {},
     "output_type": "execute_result"
    }
   ],
   "source": [
    "expresion_real = real_values[0] + real_values[1] - real_values[2]\n",
    "expresion_aprox = approx_values[0] + approx_values[1] - approx_values[2]\n",
    "\n",
    "abs_error_expresion = abs(expresion_real - expresion_aprox)\n",
    "rel_error_expresion = abs_error_expresion / abs(expresion_real)\n",
    "\n",
    "data_final = {\n",
    "    \"Real\": [expresion_real],\n",
    "    \"Aproximado\": [expresion_aprox],\n",
    "    \"Error Absoluto\": [abs_error_expresion],\n",
    "    \"Error Relativo\": [rel_error_expresion]\n",
    "}\n",
    "\n",
    "operaciones_finales = [\"Expresión completa\"]\n",
    "\n",
    "df_final = pd.DataFrame(data_final, index=operaciones_finales)\n",
    "\n",
    "print(\"\\nTabla de resultados finales:\")\n",
    "df_final"
   ]
  },
  {
   "cell_type": "markdown",
   "id": "a98b1a1e-295c-4f4e-b0e1-1d7cb888bf71",
   "metadata": {},
   "source": [
    "c) $(\\frac{2}{9})(\\frac{9}{11})$"
   ]
  },
  {
   "cell_type": "code",
   "execution_count": 15,
   "id": "877701e0-8999-42ce-ac6a-34d96734bf58",
   "metadata": {},
   "outputs": [
    {
     "name": "stdout",
     "output_type": "stream",
     "text": [
      "Tabla inicial de errores:\n"
     ]
    },
    {
     "data": {
      "text/html": [
       "<div>\n",
       "<style scoped>\n",
       "    .dataframe tbody tr th:only-of-type {\n",
       "        vertical-align: middle;\n",
       "    }\n",
       "\n",
       "    .dataframe tbody tr th {\n",
       "        vertical-align: top;\n",
       "    }\n",
       "\n",
       "    .dataframe thead th {\n",
       "        text-align: right;\n",
       "    }\n",
       "</style>\n",
       "<table border=\"1\" class=\"dataframe\">\n",
       "  <thead>\n",
       "    <tr style=\"text-align: right;\">\n",
       "      <th></th>\n",
       "      <th>Real</th>\n",
       "      <th>Aproximado</th>\n",
       "      <th>Error Absoluto</th>\n",
       "      <th>Error Relativo</th>\n",
       "    </tr>\n",
       "  </thead>\n",
       "  <tbody>\n",
       "    <tr>\n",
       "      <th>2/9</th>\n",
       "      <td>0.22222</td>\n",
       "      <td>0.222</td>\n",
       "      <td>0.00022</td>\n",
       "      <td>0.00099</td>\n",
       "    </tr>\n",
       "    <tr>\n",
       "      <th>9/11</th>\n",
       "      <td>0.81818</td>\n",
       "      <td>0.818</td>\n",
       "      <td>0.00018</td>\n",
       "      <td>0.00022</td>\n",
       "    </tr>\n",
       "  </tbody>\n",
       "</table>\n",
       "</div>"
      ],
      "text/plain": [
       "         Real  Aproximado  Error Absoluto  Error Relativo\n",
       "2/9   0.22222       0.222         0.00022         0.00099\n",
       "9/11  0.81818       0.818         0.00018         0.00022"
      ]
     },
     "execution_count": 15,
     "metadata": {},
     "output_type": "execute_result"
    }
   ],
   "source": [
    "import pandas as pd\n",
    "\n",
    "real_values = [\n",
    "    round(2 / 9, 5),\n",
    "    round(9 / 11, 5)\n",
    "]\n",
    "\n",
    "operations = [\"2/9\", \"9/11\"]\n",
    "\n",
    "approx_values = [round(val, 3) for val in real_values]\n",
    "\n",
    "abs_errors = [abs(real - approx) for real, approx in zip(real_values, approx_values)]\n",
    "rel_errors = [abs(real - approx) / abs(real) for real, approx in zip(real_values, approx_values)]\n",
    "\n",
    "data_initial = {\n",
    "    \"Real\": real_values,\n",
    "    \"Aproximado\": approx_values,\n",
    "    \"Error Absoluto\": abs_errors,\n",
    "    \"Error Relativo\": rel_errors\n",
    "}\n",
    "df_initial = pd.DataFrame(data_initial, index=operations)\n",
    "\n",
    "print(\"Tabla inicial de errores:\")\n",
    "df_initial\n"
   ]
  },
  {
   "cell_type": "code",
   "execution_count": 17,
   "id": "6babc583-c630-4991-a1d3-a5120b528a28",
   "metadata": {},
   "outputs": [
    {
     "name": "stdout",
     "output_type": "stream",
     "text": [
      "\n",
      "Tabla de resultados finales:\n"
     ]
    },
    {
     "data": {
      "text/html": [
       "<div>\n",
       "<style scoped>\n",
       "    .dataframe tbody tr th:only-of-type {\n",
       "        vertical-align: middle;\n",
       "    }\n",
       "\n",
       "    .dataframe tbody tr th {\n",
       "        vertical-align: top;\n",
       "    }\n",
       "\n",
       "    .dataframe thead th {\n",
       "        text-align: right;\n",
       "    }\n",
       "</style>\n",
       "<table border=\"1\" class=\"dataframe\">\n",
       "  <thead>\n",
       "    <tr style=\"text-align: right;\">\n",
       "      <th></th>\n",
       "      <th>Real</th>\n",
       "      <th>Aproximado</th>\n",
       "      <th>Error Absoluto</th>\n",
       "      <th>Error Relativo</th>\n",
       "    </tr>\n",
       "  </thead>\n",
       "  <tbody>\n",
       "    <tr>\n",
       "      <th>Resultado</th>\n",
       "      <td>0.181816</td>\n",
       "      <td>0.181596</td>\n",
       "      <td>0.00022</td>\n",
       "      <td>0.00121</td>\n",
       "    </tr>\n",
       "  </tbody>\n",
       "</table>\n",
       "</div>"
      ],
      "text/plain": [
       "               Real  Aproximado  Error Absoluto  Error Relativo\n",
       "Resultado  0.181816    0.181596         0.00022         0.00121"
      ]
     },
     "execution_count": 17,
     "metadata": {},
     "output_type": "execute_result"
    }
   ],
   "source": [
    "multiplicacion_real = real_values[0] * real_values[1]\n",
    "multiplicacion_aprox = approx_values[0] * approx_values[1]\n",
    "\n",
    "abs_error_multiplicacion = abs(multiplicacion_real - multiplicacion_aprox)\n",
    "rel_error_multiplicacion = abs_error_multiplicacion / abs(multiplicacion_real)\n",
    "\n",
    "data_final = {\n",
    "    \"Real\": [multiplicacion_real],\n",
    "    \"Aproximado\": [multiplicacion_aprox],\n",
    "    \"Error Absoluto\": [abs_error_multiplicacion],\n",
    "    \"Error Relativo\": [rel_error_multiplicacion]\n",
    "}\n",
    "\n",
    "operaciones_finales = [\"Resultado\"]\n",
    "\n",
    "df_final = pd.DataFrame(data_final, index=operaciones_finales)\n",
    "\n",
    "print(\"\\nTabla de resultados finales:\")\n",
    "df_final\n"
   ]
  },
  {
   "cell_type": "markdown",
   "id": "3862f316-5cec-4dbb-8aad-df8cddadcad0",
   "metadata": {},
   "source": [
    "d) $\\frac{\\sqrt{13}+\\sqrt{11}}{\\sqrt{13}-\\sqrt{11}}$"
   ]
  },
  {
   "cell_type": "code",
   "execution_count": 18,
   "id": "3cee2eca-0ca0-4eaf-bf09-3bc3c9a1b6d2",
   "metadata": {},
   "outputs": [
    {
     "name": "stdout",
     "output_type": "stream",
     "text": [
      "Tabla inicial de errores:\n"
     ]
    },
    {
     "data": {
      "text/html": [
       "<div>\n",
       "<style scoped>\n",
       "    .dataframe tbody tr th:only-of-type {\n",
       "        vertical-align: middle;\n",
       "    }\n",
       "\n",
       "    .dataframe tbody tr th {\n",
       "        vertical-align: top;\n",
       "    }\n",
       "\n",
       "    .dataframe thead th {\n",
       "        text-align: right;\n",
       "    }\n",
       "</style>\n",
       "<table border=\"1\" class=\"dataframe\">\n",
       "  <thead>\n",
       "    <tr style=\"text-align: right;\">\n",
       "      <th></th>\n",
       "      <th>Real</th>\n",
       "      <th>Aproximado</th>\n",
       "      <th>Error Absoluto</th>\n",
       "      <th>Error Relativo</th>\n",
       "    </tr>\n",
       "  </thead>\n",
       "  <tbody>\n",
       "    <tr>\n",
       "      <th>√13</th>\n",
       "      <td>3.60555</td>\n",
       "      <td>3.606</td>\n",
       "      <td>0.00045</td>\n",
       "      <td>0.000125</td>\n",
       "    </tr>\n",
       "    <tr>\n",
       "      <th>√11</th>\n",
       "      <td>3.31662</td>\n",
       "      <td>3.317</td>\n",
       "      <td>0.00038</td>\n",
       "      <td>0.000115</td>\n",
       "    </tr>\n",
       "  </tbody>\n",
       "</table>\n",
       "</div>"
      ],
      "text/plain": [
       "        Real  Aproximado  Error Absoluto  Error Relativo\n",
       "√13  3.60555       3.606         0.00045        0.000125\n",
       "√11  3.31662       3.317         0.00038        0.000115"
      ]
     },
     "execution_count": 18,
     "metadata": {},
     "output_type": "execute_result"
    }
   ],
   "source": [
    "import math\n",
    "import pandas as pd\n",
    "\n",
    "real_values = [\n",
    "    round(math.sqrt(13), 5),\n",
    "    round(math.sqrt(11), 5)\n",
    "]\n",
    "\n",
    "operations = [\"√13\", \"√11\"]\n",
    "approx_values = [round(val, 3) for val in real_values]\n",
    "\n",
    "abs_errors = [abs(real - approx) for real, approx in zip(real_values, approx_values)]\n",
    "rel_errors = [abs(real - approx) / abs(real) for real, approx in zip(real_values, approx_values)]\n",
    "\n",
    "data_initial = {\n",
    "    \"Real\": real_values,\n",
    "    \"Aproximado\": approx_values,\n",
    "    \"Error Absoluto\": abs_errors,\n",
    "    \"Error Relativo\": rel_errors\n",
    "}\n",
    "df_initial = pd.DataFrame(data_initial, index=operations)\n",
    "\n",
    "print(\"Tabla inicial de errores:\")\n",
    "df_initial\n"
   ]
  },
  {
   "cell_type": "code",
   "execution_count": 19,
   "id": "9171b182-4c03-4a4e-b7ce-c9eb554ce152",
   "metadata": {},
   "outputs": [
    {
     "name": "stdout",
     "output_type": "stream",
     "text": [
      "\n",
      "Tabla de resultados finales:\n"
     ]
    },
    {
     "data": {
      "text/html": [
       "<div>\n",
       "<style scoped>\n",
       "    .dataframe tbody tr th:only-of-type {\n",
       "        vertical-align: middle;\n",
       "    }\n",
       "\n",
       "    .dataframe tbody tr th {\n",
       "        vertical-align: top;\n",
       "    }\n",
       "\n",
       "    .dataframe thead th {\n",
       "        text-align: right;\n",
       "    }\n",
       "</style>\n",
       "<table border=\"1\" class=\"dataframe\">\n",
       "  <thead>\n",
       "    <tr style=\"text-align: right;\">\n",
       "      <th></th>\n",
       "      <th>Real</th>\n",
       "      <th>Aproximado</th>\n",
       "      <th>Error Absoluto</th>\n",
       "      <th>Error Relativo</th>\n",
       "    </tr>\n",
       "  </thead>\n",
       "  <tbody>\n",
       "    <tr>\n",
       "      <th>Numerador</th>\n",
       "      <td>6.922170</td>\n",
       "      <td>6.923000</td>\n",
       "      <td>0.000830</td>\n",
       "      <td>0.000120</td>\n",
       "    </tr>\n",
       "    <tr>\n",
       "      <th>Denominador</th>\n",
       "      <td>0.288930</td>\n",
       "      <td>0.289000</td>\n",
       "      <td>0.000070</td>\n",
       "      <td>0.000242</td>\n",
       "    </tr>\n",
       "    <tr>\n",
       "      <th>Fracción completa</th>\n",
       "      <td>23.957948</td>\n",
       "      <td>23.955017</td>\n",
       "      <td>0.002931</td>\n",
       "      <td>0.000122</td>\n",
       "    </tr>\n",
       "  </tbody>\n",
       "</table>\n",
       "</div>"
      ],
      "text/plain": [
       "                        Real  Aproximado  Error Absoluto  Error Relativo\n",
       "Numerador           6.922170    6.923000        0.000830        0.000120\n",
       "Denominador         0.288930    0.289000        0.000070        0.000242\n",
       "Fracción completa  23.957948   23.955017        0.002931        0.000122"
      ]
     },
     "execution_count": 19,
     "metadata": {},
     "output_type": "execute_result"
    }
   ],
   "source": [
    "numerador_real = real_values[0] + real_values[1]\n",
    "denominador_real = real_values[0] - real_values[1]\n",
    "\n",
    "numerador_aprox = approx_values[0] + approx_values[1]\n",
    "denominador_aprox = approx_values[0] - approx_values[1]\n",
    "\n",
    "fraccion_real = numerador_real / denominador_real\n",
    "fraccion_aprox = numerador_aprox / denominador_aprox\n",
    "\n",
    "abs_error_numerador = abs(numerador_real - numerador_aprox)\n",
    "rel_error_numerador = abs_error_numerador / abs(numerador_real)\n",
    "\n",
    "abs_error_denominador = abs(denominador_real - denominador_aprox)\n",
    "rel_error_denominador = abs_error_denominador / abs(denominador_real)\n",
    "\n",
    "abs_error_fraccion = abs(fraccion_real - fraccion_aprox)\n",
    "rel_error_fraccion = abs_error_fraccion / abs(fraccion_real)\n",
    "\n",
    "data_final = {\n",
    "    \"Real\": [numerador_real, denominador_real, fraccion_real],\n",
    "    \"Aproximado\": [numerador_aprox, denominador_aprox, fraccion_aprox],\n",
    "    \"Error Absoluto\": [abs_error_numerador, abs_error_denominador, abs_error_fraccion],\n",
    "    \"Error Relativo\": [rel_error_numerador, rel_error_denominador, rel_error_fraccion]\n",
    "}\n",
    "\n",
    "operaciones_finales = [\"Numerador\", \"Denominador\", \"Fracción completa\"]\n",
    "\n",
    "df_final = pd.DataFrame(data_final, index=operaciones_finales)\n",
    "\n",
    "print(\"\\nTabla de resultados finales:\")\n",
    "df_final\n"
   ]
  },
  {
   "cell_type": "markdown",
   "id": "839ece87-7b38-4221-80de-38cee6a597f8",
   "metadata": {},
   "source": [
    "#### 5.Los primeros tres términos diferentes a cero de la serie de Maclaurin para la función arcotangente son: $x-(\\frac{1}{3}) x^{3} + (\\frac{1}{5}) x^{5}$ \n",
    "\n",
    "Calcule los errores absoluto y relativo en las siguientes aproximaciones de $\\pi$ mediante el polinomio en lugar del arcotangente:"
   ]
  },
  {
   "cell_type": "markdown",
   "id": "a22e88ad-b156-4ad6-82fe-86dee437c421",
   "metadata": {},
   "source": [
    "$a. \\; 4 \\left[ \\arctan\\left(\\frac{1}{2}\\right) + \\arctan\\left(\\frac{1}{3}\\right) \\right]$"
   ]
  },
  {
   "cell_type": "markdown",
   "id": "bdfde851-fc51-49c7-8b66-0b08376ac7af",
   "metadata": {},
   "source": [
    "$x_1 = \\frac{1}{2}$, $x_2 = \\frac{1}{3}$"
   ]
  },
  {
   "cell_type": "code",
   "execution_count": 22,
   "id": "b9f193fc-dbcf-4107-b33e-366413928083",
   "metadata": {},
   "outputs": [
    {
     "name": "stdout",
     "output_type": "stream",
     "text": [
      "Aproximación de pi: 3.1455761316872426\n",
      "Error absoluto: 0.003983478097449478\n",
      "Error relativo: 0.0012679804598147663\n"
     ]
    }
   ],
   "source": [
    "import math\n",
    "\n",
    "pi_exact = math.pi\n",
    "\n",
    "x1 = 1 / 2\n",
    "arctan_1_2_approx = x1 - (x1**3) / 3 + (x1**5) / 5\n",
    "x2 = 1 / 3\n",
    "arctan_1_3_approx = x2 - (x2**3) / 3 + (x2**5) / 5\n",
    "\n",
    "pi_approx = 4 * (arctan_1_2_approx + arctan_1_3_approx)\n",
    "\n",
    "error_absoluto = abs(pi_exact - pi_approx)\n",
    "error_relativo = error_absoluto / abs(pi_exact)\n",
    "\n",
    "print(\"Aproximación de pi:\", pi_approx)\n",
    "print(\"Error absoluto:\", error_absoluto)\n",
    "print(\"Error relativo:\", error_relativo)"
   ]
  },
  {
   "cell_type": "markdown",
   "id": "e91f5c00-e1d6-4844-846e-56d45e038cdb",
   "metadata": {},
   "source": [
    "$b. \\; 16 \\arctan\\left(\\frac{1}{5}\\right) - 4 \\arctan\\left(\\frac{1}{239}\\right)$"
   ]
  },
  {
   "cell_type": "markdown",
   "id": "30da6e1d-e83c-46a1-b0f6-0b8ed4a7dffb",
   "metadata": {},
   "source": [
    "$x_1 = \\frac{1}{5}$, $x_2 = \\frac{1}{239}$"
   ]
  },
  {
   "cell_type": "code",
   "execution_count": 23,
   "id": "de6019dd-c625-4c80-b729-9b19c0498498",
   "metadata": {},
   "outputs": [
    {
     "name": "stdout",
     "output_type": "stream",
     "text": [
      "Aproximación de pi: 3.1416210293250346\n",
      "Error absoluto: 2.837573524150372e-05\n",
      "Error relativo: 9.032277055104427e-06\n"
     ]
    }
   ],
   "source": [
    "import math\n",
    "\n",
    "pi_exact = math.pi\n",
    "\n",
    "x1 = 1 / 5\n",
    "arctan_1_5_approx = x1 - (x1**3) / 3 + (x1**5) / 5\n",
    "x2 = 1 / 239\n",
    "arctan_1_239_approx = x2 - (x2**3) / 3 + (x2**5) / 5\n",
    "\n",
    "pi_approx = 16 * arctan_1_5_approx - 4 * arctan_1_239_approx\n",
    "\n",
    "error_absoluto = abs(pi_exact - pi_approx)\n",
    "error_relativo = error_absoluto / abs(pi_exact)\n",
    "\n",
    "print(\"Aproximación de pi:\", pi_approx)\n",
    "print(\"Error absoluto:\", error_absoluto)\n",
    "print(\"Error relativo:\", error_relativo)"
   ]
  },
  {
   "cell_type": "markdown",
   "id": "51eb264f-ad20-4cce-bd34-fdef338fff32",
   "metadata": {},
   "source": [
    "#### 6. El número $e$ se puede definir por medio de $\\displaystyle\\sum_{n=0}^\\infty (\\frac{1}{n!})$  , donde $ 𝑛! = n(𝑛 − 1) ⋅⋅⋅ 2 $⋅ 1 para $ 𝑛 $≠0  $ y 0!$ = 1. Calcule los errores absoluto y relativo en la siguiente aproximación de $e$.\n",
    " "
   ]
  },
  {
   "cell_type": "markdown",
   "id": "98632553-866a-4dce-9d94-d947a9ddc27e",
   "metadata": {},
   "source": [
    "a. $\\displaystyle\\sum_{n=0}^{5} (\\frac{1}{n!})$"
   ]
  },
  {
   "cell_type": "code",
   "execution_count": 24,
   "id": "48e13001-b862-4101-ae22-36f939940ac6",
   "metadata": {},
   "outputs": [
    {
     "name": "stdout",
     "output_type": "stream",
     "text": [
      "Aproximación de e: 2.7166666666666663\n",
      "Valor exacto de e: 2.718281828459045\n",
      "Error absoluto: 0.0016151617923787498\n",
      "Error relativo: 0.0005941848175817597\n"
     ]
    }
   ],
   "source": [
    "import math\n",
    "\n",
    "approx_e = sum(1 / math.factorial(n) for n in range(6))\n",
    "e_exact = math.e\n",
    "\n",
    "error_absoluto = abs(e_exact - approx_e)\n",
    "error_relativo = error_absoluto / abs(e_exact)\n",
    "\n",
    "print(\"Aproximación de e:\", approx_e)\n",
    "print(\"Valor exacto de e:\", e_exact)\n",
    "print(\"Error absoluto:\", error_absoluto)\n",
    "print(\"Error relativo:\", error_relativo)"
   ]
  },
  {
   "cell_type": "markdown",
   "id": "0d07f6bb-c361-4d2f-8eaf-bcc29208e0d5",
   "metadata": {},
   "source": [
    "b. $\\displaystyle\\sum_{n=0}^{10} (\\frac{1}{n!})$"
   ]
  },
  {
   "cell_type": "code",
   "execution_count": 25,
   "id": "9d1a8db8-c7db-4dca-87e8-ad5629d09cb8",
   "metadata": {},
   "outputs": [
    {
     "name": "stdout",
     "output_type": "stream",
     "text": [
      "Aproximación de e: 2.7182818011463845\n",
      "Valor exacto de e: 2.718281828459045\n",
      "Error absoluto: 2.7312660577649694e-08\n",
      "Error relativo: 1.0047766310211053e-08\n"
     ]
    }
   ],
   "source": [
    "import math\n",
    "\n",
    "approx_e = sum(1 / math.factorial(n) for n in range(11))\n",
    "e_exact = math.e\n",
    "\n",
    "error_absoluto = abs(e_exact - approx_e)\n",
    "error_relativo = error_absoluto / abs(e_exact)\n",
    "\n",
    "print(\"Aproximación de e:\", approx_e)\n",
    "print(\"Valor exacto de e:\", e_exact)\n",
    "print(\"Error absoluto:\", error_absoluto)\n",
    "print(\"Error relativo:\", error_relativo)"
   ]
  },
  {
   "cell_type": "markdown",
   "id": "8c6f3ec7-02d0-418a-a366-9bacdf9dde15",
   "metadata": {},
   "source": [
    "#### 7. Suponga que dos puntos ($x_0$,$y_0$) y ($x_1$,$y_1$) se encuentran en línea racta con $y_1 \\neq y_0$. Existen dos fórmulas para encontrar la intersección x de la línea:\n",
    "$x = \\frac{x_0y_1-x_1y_0}{y_1-y_0}$ & $x=x_0-\\frac{(x_1-x_0)y_0}{y_1-y_0}$"
   ]
  },
  {
   "cell_type": "markdown",
   "id": "a7f8da3c-e1d3-40fa-bfc7-b4ece27151b4",
   "metadata": {},
   "source": [
    "a. Use los datos $(x_0,y_0)$=(1.31,3.24) y $(x_1,y_1)$ = (1.93,5.76) y la aritmética de redondeo de tres dígitos para calcular la intersección con x de ambas manera ¿Cuál método es mejor y por qué?"
   ]
  },
  {
   "cell_type": "code",
   "execution_count": 27,
   "id": "707a2181-4315-4acf-906b-4b92e7a28b8c",
   "metadata": {},
   "outputs": [
    {
     "name": "stdout",
     "output_type": "stream",
     "text": [
      "Primera fórmula: x = 0.513\n",
      "Segunda fórmula: x = 0.513\n",
      "Ambos métodos son cercanos, pero la segunda fórmula es ligeramente más precisa debido a menos operaciones de redondeo.\n"
     ]
    }
   ],
   "source": [
    "x0, y0 = 1.31, 3.24\n",
    "x1, y1 = 1.93, 5.76\n",
    "\n",
    "y_diff = round(y1 - y0, 3)\n",
    "\n",
    "x0_y1 = round(x0 * y1, 3)\n",
    "x1_y0 = round(x1 * y0, 3)\n",
    "\n",
    "numerator_formula1 = round(x0_y1 - x1_y0, 3)\n",
    "\n",
    "x_formula1 = round(numerator_formula1 / y_diff, 3)\n",
    "x_diff = round(x1 - x0, 3)\n",
    "\n",
    "numerator_formula2 = round(x_diff * y0, 3)\n",
    "\n",
    "x_formula2 = round(x0 - numerator_formula2 / y_diff, 3)\n",
    "\n",
    "print(\"Primera fórmula: x =\", x_formula1)\n",
    "print(\"Segunda fórmula: x =\", x_formula2)\n",
    "\n",
    "if abs(x_formula1 - x_formula2) < 0.01:\n",
    "    print(\"Ambos métodos son cercanos, pero la segunda fórmula es ligeramente más precisa debido a menos operaciones de redondeo.\")\n",
    "else:\n",
    "    print(\"La segunda fórmula es preferible por precisión numérica.\")"
   ]
  }
 ],
 "metadata": {
  "kernelspec": {
   "display_name": "Python 3.11",
   "language": "python",
   "name": "python3.11"
  },
  "language_info": {
   "codemirror_mode": {
    "name": "ipython",
    "version": 3
   },
   "file_extension": ".py",
   "mimetype": "text/x-python",
   "name": "python",
   "nbconvert_exporter": "python",
   "pygments_lexer": "ipython3",
   "version": "3.11.9"
  }
 },
 "nbformat": 4,
 "nbformat_minor": 5
}
