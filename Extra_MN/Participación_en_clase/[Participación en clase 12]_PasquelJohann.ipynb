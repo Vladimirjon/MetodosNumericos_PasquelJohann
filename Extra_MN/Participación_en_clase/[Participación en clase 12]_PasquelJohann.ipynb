{
 "cells": [
  {
   "cell_type": "raw",
   "metadata": {},
   "source": [
    "---\n",
    "title: \"[Participación en clase 12] Determinante\"\n",
    "author: \"Pasquel Johann\"\n",
    "lang: es\n",
    "format:\n",
    "  pdf:\n",
    "    toc: true\n",
    "    toc-title: \"Tabla de Contenidos\"\n",
    "execute:\n",
    "  echo: true\n",
    "  error: false\n",
    "  warning: false\n",
    "  jupyter: python3.13\n",
    "---"
   ]
  },
  {
   "cell_type": "code",
   "execution_count": 2,
   "metadata": {},
   "outputs": [
    {
     "name": "stdout",
     "output_type": "stream",
     "text": [
      "The autoreload extension is already loaded. To reload it, use:\n",
      "  %reload_ext autoreload\n"
     ]
    }
   ],
   "source": [
    "%load_ext autoreload"
   ]
  },
  {
   "cell_type": "markdown",
   "metadata": {},
   "source": [
    "## Determinante"
   ]
  },
  {
   "cell_type": "code",
   "execution_count": 3,
   "metadata": {},
   "outputs": [
    {
     "name": "stdout",
     "output_type": "stream",
     "text": [
      "[01-22 12:29:05][INFO] 2025-01-22 12:29:05.242304\n",
      "[01-22 12:29:05][INFO] 2025-01-22 12:29:05.252215\n"
     ]
    }
   ],
   "source": [
    "import numpy as np\n",
    "%autoreload 2\n",
    "from src import (\n",
    "    eliminacion_gaussiana,\n",
    "    descomposicion_LU,\n",
    "    resolver_LU,\n",
    "    matriz_aumentada,\n",
    "    separar_m_aumentada,\n",
    ")\n",
    "\n",
    "# ####################################################################\n",
    "def calc_determinante(A: list[list[float]]) -> float:\n",
    "    \"\"\"Función que calcula el determinante usando el método de descomposición LU.\n",
    "\n",
    "    ## Parameters\n",
    "    ``A``: Matriz cuadrada de tamaño n x n\n",
    "\n",
    "    ## Return\n",
    "    ``detA``: Determinante de la matriz A\n",
    "    \"\"\"\n",
    "    _, _, detA = descomposicion_LU(np.array(A, dtype=float))\n",
    "    return detA\n",
    "\n",
    "# Función para determinar el tipo de solución basado en el valor del determinante\n",
    "def tipo_de_solucion(detA: float) -> str:\n",
    "    \"\"\"Determina el tipo de solución basado en el valor del determinante.\n",
    "\n",
    "    ## Parameters\n",
    "    ``detA``: Determinante de la matriz de coeficientes.\n",
    "\n",
    "    ## Return\n",
    "    ``tipo``: Tipo de solución (única, infinitas, ninguna).\n",
    "    \"\"\"\n",
    "    if detA != 0:\n",
    "        return \"Solución única\"\n",
    "    else:\n",
    "        return \"Infinitas soluciones o ninguna solución\"\n"
   ]
  },
  {
   "cell_type": "markdown",
   "metadata": {},
   "source": [
    "# Ejercicio 1"
   ]
  },
  {
   "cell_type": "code",
   "execution_count": 4,
   "metadata": {},
   "outputs": [
    {
     "name": "stdout",
     "output_type": "stream",
     "text": [
      "Determinante de A1: 9912776.0\n",
      "Tipo de solución para A1: Solución única\n"
     ]
    }
   ],
   "source": [
    "A1 = [\n",
    "    [-4, 2, -4, -4, 1, 2, 5, 3, 5, 1],\n",
    "    [1, 0, 4, 3, 0, -2, 3, 0, 1, 5],\n",
    "    [5, 5, -4, 5, -4, 2, 2, 2, 4, 4],\n",
    "    [-1, 3, 4, -1, -4, 0, 5, 0, 0, 5],\n",
    "    [4, 1, 4, 2, 0, 0, 3, -1, 0, 2],\n",
    "    [2, -2, 1, -1, -2, -3, 2, -2, 4, -1],\n",
    "    [3, -2, -3, -2, -1, -3, 5, -1, 5, 0],\n",
    "    [3, 4, -3, 3, -2, 2, -4, -4, 1, 5],\n",
    "    [-4, 0, 3, 3, -3, -2, -2, 0, 5, -4],\n",
    "    [-2, 4, 4, -2, -1, 1, 5, -1, 3, -3],\n",
    "]\n",
    "detA1 = calc_determinante(A1)\n",
    "print(\"Determinante de A1:\", detA1)\n",
    "print(\"Tipo de solución para A1:\", tipo_de_solucion(detA1))\n"
   ]
  },
  {
   "cell_type": "markdown",
   "metadata": {},
   "source": [
    "# Ejercicio 2"
   ]
  },
  {
   "cell_type": "code",
   "execution_count": 5,
   "metadata": {},
   "outputs": [
    {
     "name": "stdout",
     "output_type": "stream",
     "text": [
      "Determinante de A2: 2341546.0\n",
      "Tipo de solución para A2: Solución única\n"
     ]
    }
   ],
   "source": [
    "# Ejercicio 2\n",
    "A2 = [\n",
    "    [2, 2, 4, 5, -2, -3, 2, -2],\n",
    "    [-1, -1, 3, 2, 1, 1, -4, 4],\n",
    "    [2, 5, -3, -3, -2, 2, 5, 3],\n",
    "    [-2, -4, 0, 1, -1, 5, -4, -1],\n",
    "    [1, -2, -1, 5, 5, 2, 1, -2],\n",
    "    [5, 4, 0, 3, 4, -1, -3, -2],\n",
    "    [4, -4, 1, 2, 3, 3, -1, 3],\n",
    "    [-2, 1, -3, 0, 5, 4, 4, -4],\n",
    "]\n",
    "detA2 = calc_determinante(A2)\n",
    "print(\"Determinante de A2:\", detA2)\n",
    "print(\"Tipo de solución para A2:\", tipo_de_solucion(detA2))"
   ]
  }
 ],
 "metadata": {
  "kernelspec": {
   "display_name": "Python 3 (ipykernel)",
   "language": "python",
   "name": "python3"
  },
  "language_info": {
   "codemirror_mode": {
    "name": "ipython",
    "version": 3
   },
   "file_extension": ".py",
   "mimetype": "text/x-python",
   "name": "python",
   "nbconvert_exporter": "python",
   "pygments_lexer": "ipython3",
   "version": "3.11.9"
  }
 },
 "nbformat": 4,
 "nbformat_minor": 4
}
