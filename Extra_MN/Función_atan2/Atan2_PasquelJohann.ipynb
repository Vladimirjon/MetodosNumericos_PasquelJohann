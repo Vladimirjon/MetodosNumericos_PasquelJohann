{
 "cells": [
  {
   "cell_type": "raw",
   "metadata": {},
   "source": [
    "---\n",
    "title: \"Función atan & atan2\"\n",
    "author: \"Pasquel Johann\"\n",
    "lang: es\n",
    "format:\n",
    "  pdf:\n",
    "    toc: true\n",
    "    toc-title: \"Tabla de Contenidos\"\n",
    "execute:\n",
    "  echo: true\n",
    "  error: false\n",
    "  warning: false\n",
    "  jupyter: python3.11\n",
    "---"
   ]
  },
  {
   "cell_type": "markdown",
   "metadata": {},
   "source": [
    "# GITHUB"
   ]
  },
  {
   "cell_type": "markdown",
   "metadata": {},
   "source": [
    "https://github.com/Vladimirjon/MetodosNumericos_PasquelJohann/tree/main/Extra_MN"
   ]
  },
  {
   "cell_type": "markdown",
   "metadata": {},
   "source": [
    "# Función atan"
   ]
  },
  {
   "cell_type": "markdown",
   "metadata": {},
   "source": [
    "La función ***atan($x$)*** permite calcular la tangente inversa o **arco tangente** de un número $x$. \n",
    ".\n",
    "El valor de retorno siempre se encuentra dentro del intervalo:\n",
    "\n",
    "$$-\\frac{\\pi}{2} \\leq 𝜃 \\leq \\frac{\\pi}{2}$$\n",
    "\n",
    "Este rango corresponde a ángulos del **primer y cuarto cuadrante** del plano cartesiano.\n",
    "\n"
   ]
  },
  {
   "cell_type": "markdown",
   "metadata": {},
   "source": [
    "Estas funciones devuelven valores de ángulos en radianes"
   ]
  },
  {
   "cell_type": "markdown",
   "metadata": {},
   "source": [
    "# Función atan2"
   ]
  },
  {
   "cell_type": "markdown",
   "metadata": {},
   "source": [
    "La función ***atan2($y,x$)*** calcula el arcotangente del cociente $\\frac{y}{x}$ es decir, devuelve el ángulo que forma un vector desde el origen $(0,0)$ hasta el punto $(x,y)$ respecto al eje **X** positivo."
   ]
  },
  {
   "cell_type": "markdown",
   "metadata": {},
   "source": [
    "- **y**: la coordenada vertical del punto.\n",
    "- **x**: la coordenada horizontal del punto."
   ]
  },
  {
   "cell_type": "markdown",
   "metadata": {},
   "source": [
    "El valor de retorno está en el intervalo:\n",
    "\n",
    "$$-\\pi < 𝜃 \\leq \\pi$$\n",
    "\n",
    "Este rango cubre los **cuatro cuadrantes** del plano cartesiano.\n",
    "\n"
   ]
  },
  {
   "cell_type": "markdown",
   "metadata": {},
   "source": [
    "- Primer cuadrante: $x>0, y>0$\n",
    "- Segundo cuadrante: $x<0, y>0$\n",
    "- Tercer cuadrante: $x<0, y<0$\n",
    "- Cuarto cuadrante: $x>0, y<0$"
   ]
  },
  {
   "cell_type": "markdown",
   "metadata": {},
   "source": [
    "### ¿Por qué se recomienda usar la función atan2?"
   ]
  },
  {
   "cell_type": "markdown",
   "metadata": {},
   "source": [
    "La función atan2(y,x) ***determina ángulos en coordenadas polares.*** \n",
    "\n",
    "Tiene encuenta los signos de $y$ y $x$, lo que permite identificar ángulos en todos los cuadrantes del plano cartesiano.\n",
    "\n",
    "Se utiliza ampliamente para convertir coordenadas cartesianas $(x,y)$ en coordenadas polares $(r,θ)$ donde $𝜃$ es el ángulo y $r$ es la magnitud.\n",
    "\n",
    "* En atan$(x)$ si $x$ es negativo, no es posible saber si el ángulo está en el segundo o cuarto cuadrante. Por otro lado atan2$(x,y)$ si puede procesarlo."
   ]
  },
  {
   "cell_type": "markdown",
   "metadata": {},
   "source": [
    "## Ejemplos"
   ]
  },
  {
   "cell_type": "markdown",
   "metadata": {},
   "source": [
    "### Función atan"
   ]
  },
  {
   "cell_type": "code",
   "execution_count": 6,
   "metadata": {},
   "outputs": [
    {
     "name": "stdout",
     "output_type": "stream",
     "text": [
      "El arco tangente de 1 es: 0.7853981633974483 radianes\n",
      "Convertido a grados: 45.0\n"
     ]
    }
   ],
   "source": [
    "import math\n",
    "\n",
    "x = 1\n",
    "angulo = math.atan(x)\n",
    "\n",
    "print(\"El arco tangente de 1 es:\", angulo, \"radianes\")\n",
    "print(\"Convertido a grados:\", math.degrees(angulo))\n"
   ]
  },
  {
   "cell_type": "code",
   "execution_count": 7,
   "metadata": {},
   "outputs": [
    {
     "name": "stdout",
     "output_type": "stream",
     "text": [
      "El arco tangente de -1 es: -0.7853981633974483 radianes\n",
      "Convertido a grados: -45.0\n"
     ]
    }
   ],
   "source": [
    "import math\n",
    "\n",
    "x = -1\n",
    "angulo = math.atan(x)\n",
    "\n",
    "print(\"El arco tangente de -1 es:\", angulo, \"radianes\")\n",
    "print(\"Convertido a grados:\", math.degrees(angulo))\n"
   ]
  },
  {
   "cell_type": "markdown",
   "metadata": {},
   "source": [
    "### Función atan2"
   ]
  },
  {
   "cell_type": "markdown",
   "metadata": {},
   "source": [
    "**Primer cuadrante**"
   ]
  },
  {
   "cell_type": "code",
   "execution_count": 8,
   "metadata": {},
   "outputs": [
    {
     "name": "stdout",
     "output_type": "stream",
     "text": [
      "math.atan2(1, 1): 0.7853981633974483 radianes\n",
      "Convertido a grados: 45.0\n"
     ]
    }
   ],
   "source": [
    "import math\n",
    "\n",
    "x = 1\n",
    "y = 1\n",
    "\n",
    "angulo = math.atan2(y, x)\n",
    "print(\"math.atan2(1, 1):\", angulo, \"radianes\")\n",
    "print(\"Convertido a grados:\", math.degrees(angulo))\n"
   ]
  },
  {
   "cell_type": "markdown",
   "metadata": {},
   "source": [
    "**Segundo cuadrante**"
   ]
  },
  {
   "cell_type": "code",
   "execution_count": 9,
   "metadata": {},
   "outputs": [
    {
     "name": "stdout",
     "output_type": "stream",
     "text": [
      "math.atan2(1, -1): 2.356194490192345 radianes\n",
      "Convertido a grados: 135.0\n"
     ]
    }
   ],
   "source": [
    "import math\n",
    "\n",
    "x = -1\n",
    "y = 1\n",
    "\n",
    "angulo = math.atan2(y, x)\n",
    "print(\"math.atan2(1, -1):\", angulo, \"radianes\")\n",
    "print(\"Convertido a grados:\", math.degrees(angulo))\n"
   ]
  },
  {
   "cell_type": "markdown",
   "metadata": {},
   "source": [
    "**Tercer cuadrante**"
   ]
  },
  {
   "cell_type": "code",
   "execution_count": 10,
   "metadata": {},
   "outputs": [
    {
     "name": "stdout",
     "output_type": "stream",
     "text": [
      "math.atan2(-1, -1): -2.356194490192345 radianes\n",
      "Convertido a grados: -135.0\n"
     ]
    }
   ],
   "source": [
    "import math\n",
    "\n",
    "x = -1\n",
    "y = -1\n",
    "\n",
    "angulo = math.atan2(y, x)\n",
    "print(\"math.atan2(-1, -1):\", angulo, \"radianes\")\n",
    "print(\"Convertido a grados:\", math.degrees(angulo))\n"
   ]
  }
 ],
 "metadata": {
  "kernelspec": {
   "display_name": "Python 3 (ipykernel)",
   "language": "python",
   "name": "python3"
  },
  "language_info": {
   "codemirror_mode": {
    "name": "ipython",
    "version": 3
   },
   "file_extension": ".py",
   "mimetype": "text/x-python",
   "name": "python",
   "nbconvert_exporter": "python",
   "pygments_lexer": "ipython3",
   "version": "3.11.9"
  }
 },
 "nbformat": 4,
 "nbformat_minor": 4
}
