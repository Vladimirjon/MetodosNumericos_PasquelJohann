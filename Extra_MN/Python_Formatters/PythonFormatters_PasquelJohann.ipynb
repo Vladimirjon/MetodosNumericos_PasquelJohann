{
 "cells": [
  {
   "cell_type": "raw",
   "id": "6e738f92-e1fc-4079-a448-d70f1d033bf2",
   "metadata": {},
   "source": [
    "---\n",
    "title: \"Python Formatters\"\n",
    "author: \"Pasquel Johann\"\n",
    "lang: es\n",
    "format:\n",
    "  pdf:\n",
    "    toc: true\n",
    "    toc-title: \"Tabla de Contenidos\"\n",
    "execute:\n",
    "  echo: true\n",
    "  error: false\n",
    "  warning: false\n",
    "  jupyter: python3.11\n",
    "---"
   ]
  },
  {
   "cell_type": "markdown",
   "id": "0997497f-1cdc-4b13-bbf7-b5f32510215d",
   "metadata": {},
   "source": [
    "# GITHUB"
   ]
  },
  {
   "cell_type": "markdown",
   "id": "51e130ff-af73-4761-a17f-1a98c6ccf8c3",
   "metadata": {},
   "source": [
    "https://github.com/Vladimirjon/MetodosNumericos_PasquelJohann"
   ]
  },
  {
   "cell_type": "markdown",
   "id": "85184f5f-d32c-47e7-9b13-e237941d87bc",
   "metadata": {},
   "source": [
    "# PYTHON FORMATTERS\n"
   ]
  },
  {
   "cell_type": "markdown",
   "id": "e0dc54aa-6434-4a58-991e-ba3a754e2937",
   "metadata": {},
   "source": [
    "## Configurar el Entorno"
   ]
  },
  {
   "cell_type": "code",
   "execution_count": 1,
   "id": "1e13290f-2a21-4425-81e6-6b247064023a",
   "metadata": {},
   "outputs": [
    {
     "name": "stdout",
     "output_type": "stream",
     "text": [
      "Collecting black\n",
      "  Downloading black-24.10.0-cp311-cp311-manylinux_2_17_x86_64.manylinux2014_x86_64.manylinux_2_28_x86_64.whl.metadata (79 kB)\n",
      "Collecting autopep8\n",
      "  Downloading autopep8-2.3.1-py2.py3-none-any.whl.metadata (16 kB)\n",
      "Collecting yapf\n",
      "  Downloading yapf-0.43.0-py3-none-any.whl.metadata (46 kB)\n",
      "Collecting isort\n",
      "  Downloading isort-5.13.2-py3-none-any.whl.metadata (12 kB)\n",
      "Collecting click>=8.0.0 (from black)\n",
      "  Downloading click-8.1.7-py3-none-any.whl.metadata (3.0 kB)\n",
      "Collecting mypy-extensions>=0.4.3 (from black)\n",
      "  Downloading mypy_extensions-1.0.0-py3-none-any.whl.metadata (1.1 kB)\n",
      "Requirement already satisfied: packaging>=22.0 in /home/johann/miniforge3/envs/vladimirjon/lib/python3.11/site-packages (from black) (24.0)\n",
      "Collecting pathspec>=0.9.0 (from black)\n",
      "  Downloading pathspec-0.12.1-py3-none-any.whl.metadata (21 kB)\n",
      "Requirement already satisfied: platformdirs>=2 in /home/johann/miniforge3/envs/vladimirjon/lib/python3.11/site-packages (from black) (4.2.1)\n",
      "Collecting pycodestyle>=2.12.0 (from autopep8)\n",
      "  Downloading pycodestyle-2.12.1-py2.py3-none-any.whl.metadata (4.5 kB)\n",
      "Downloading black-24.10.0-cp311-cp311-manylinux_2_17_x86_64.manylinux2014_x86_64.manylinux_2_28_x86_64.whl (1.7 MB)\n",
      "\u001b[2K   \u001b[90m━━━━━━━━━━━━━━━━━━━━━━━━━━━━━━━━━━━━━━━━\u001b[0m \u001b[32m1.7/1.7 MB\u001b[0m \u001b[31m12.7 MB/s\u001b[0m eta \u001b[36m0:00:00\u001b[0m\n",
      "\u001b[?25hDownloading autopep8-2.3.1-py2.py3-none-any.whl (45 kB)\n",
      "Downloading yapf-0.43.0-py3-none-any.whl (256 kB)\n",
      "Downloading isort-5.13.2-py3-none-any.whl (92 kB)\n",
      "Downloading click-8.1.7-py3-none-any.whl (97 kB)\n",
      "Downloading mypy_extensions-1.0.0-py3-none-any.whl (4.7 kB)\n",
      "Downloading pathspec-0.12.1-py3-none-any.whl (31 kB)\n",
      "Downloading pycodestyle-2.12.1-py2.py3-none-any.whl (31 kB)\n",
      "Installing collected packages: yapf, pycodestyle, pathspec, mypy-extensions, isort, click, black, autopep8\n",
      "Successfully installed autopep8-2.3.1 black-24.10.0 click-8.1.7 isort-5.13.2 mypy-extensions-1.0.0 pathspec-0.12.1 pycodestyle-2.12.1 yapf-0.43.0\n",
      "Note: you may need to restart the kernel to use updated packages.\n"
     ]
    }
   ],
   "source": [
    "pip install black autopep8 yapf isort"
   ]
  },
  {
   "cell_type": "markdown",
   "id": "974cbff9-f2e4-4275-99c1-339056aadb57",
   "metadata": {},
   "source": [
    "## Código Desordenado"
   ]
  },
  {
   "cell_type": "code",
   "execution_count": 1,
   "id": "089b3e69-61d9-44a9-8356-ba2d7b4de46a",
   "metadata": {},
   "outputs": [
    {
     "name": "stdout",
     "output_type": "stream",
     "text": [
      "1\n",
      "2\n",
      "3\n",
      "4\n"
     ]
    }
   ],
   "source": [
    "# example.py\n",
    "def my_function  ( a, b,c):\n",
    "    print(a+b+c)\n",
    "x  = [1,2,3,4]\n",
    "for i in  x:\n",
    "    print (i)"
   ]
  },
  {
   "cell_type": "code",
   "execution_count": 6,
   "id": "f0780dc1-5c9d-4a09-9e70-431dc26be779",
   "metadata": {},
   "outputs": [
    {
     "name": "stdout",
     "output_type": "stream",
     "text": [
      "Archivo 'example.py' creado.\n"
     ]
    }
   ],
   "source": [
    "code = \"\"\"\n",
    "def my_function  ( a, b,c):\n",
    "    print(a+b+c)\n",
    "x  = [1,2,3,4]\n",
    "for i in  x:\n",
    "    print (i)\n",
    "\"\"\"\n",
    "\n",
    "with open(\"example.py\", \"w\") as file:\n",
    "    file.write(code)\n",
    "\n",
    "print(\"Archivo 'example.py' creado.\")\n"
   ]
  },
  {
   "cell_type": "code",
   "execution_count": 7,
   "id": "79944f67-f151-44e6-95d0-f4805a374e91",
   "metadata": {},
   "outputs": [
    {
     "name": "stdout",
     "output_type": "stream",
     "text": [
      "/home/johann/4 Semestre/Métodos Numéricos/1 Bimestre/Extras\n"
     ]
    }
   ],
   "source": [
    "import os\n",
    "print(os.getcwd())  # Muestra el directorio actual"
   ]
  },
  {
   "cell_type": "markdown",
   "id": "6fd91fff-0317-4340-8c01-c5b376bd0ad1",
   "metadata": {},
   "source": [
    "### BLACK"
   ]
  },
  {
   "cell_type": "code",
   "execution_count": 8,
   "id": "f05141f4-eaef-4913-a455-d9690868caa8",
   "metadata": {},
   "outputs": [
    {
     "name": "stderr",
     "output_type": "stream",
     "text": [
      "reformatted example.py\n",
      "\n",
      "All done! ✨ 🍰 ✨\n",
      "1 file reformatted.\n"
     ]
    },
    {
     "data": {
      "text/plain": [
       "CompletedProcess(args=['black', 'example.py'], returncode=0)"
      ]
     },
     "execution_count": 8,
     "metadata": {},
     "output_type": "execute_result"
    }
   ],
   "source": [
    "subprocess.run([\"black\", \"example.py\"])\n"
   ]
  },
  {
   "cell_type": "markdown",
   "id": "838b5716-fae3-47c2-b97c-d1c1d9ae8467",
   "metadata": {},
   "source": [
    "### AUTOPEP8"
   ]
  },
  {
   "cell_type": "code",
   "execution_count": 9,
   "id": "2f79de99-d19f-40e6-8a27-33dc671f8ad0",
   "metadata": {},
   "outputs": [
    {
     "data": {
      "text/plain": [
       "CompletedProcess(args=['autopep8', '--in-place', '--aggressive', 'example.py'], returncode=0)"
      ]
     },
     "execution_count": 9,
     "metadata": {},
     "output_type": "execute_result"
    }
   ],
   "source": [
    "subprocess.run([\"autopep8\", \"--in-place\", \"--aggressive\", \"example.py\"])"
   ]
  },
  {
   "cell_type": "markdown",
   "id": "e90fc9d9-2237-4ba9-a7eb-be2d6928d224",
   "metadata": {},
   "source": [
    "### YAPF"
   ]
  },
  {
   "cell_type": "code",
   "execution_count": 10,
   "id": "516c5a69-1494-4f06-b0fa-a2c94c50b5b4",
   "metadata": {},
   "outputs": [
    {
     "data": {
      "text/plain": [
       "CompletedProcess(args=['yapf', '--in-place', 'example.py'], returncode=0)"
      ]
     },
     "execution_count": 10,
     "metadata": {},
     "output_type": "execute_result"
    }
   ],
   "source": [
    "subprocess.run([\"yapf\", \"--in-place\", \"example.py\"])"
   ]
  },
  {
   "cell_type": "markdown",
   "id": "c48891de-5693-43ad-b27e-aa9eb4e9b13a",
   "metadata": {},
   "source": [
    "### ISORT"
   ]
  },
  {
   "cell_type": "code",
   "execution_count": 11,
   "id": "cae801bb-4b05-4b0a-9641-66d71afc0613",
   "metadata": {},
   "outputs": [
    {
     "data": {
      "text/plain": [
       "CompletedProcess(args=['isort', 'example.py'], returncode=0)"
      ]
     },
     "execution_count": 11,
     "metadata": {},
     "output_type": "execute_result"
    }
   ],
   "source": [
    "subprocess.run([\"isort\", \"example.py\"])"
   ]
  },
  {
   "cell_type": "markdown",
   "id": "68fa8071-b9f8-40af-9ecd-35caa61b764f",
   "metadata": {},
   "source": [
    "## RESULTADO"
   ]
  },
  {
   "cell_type": "code",
   "execution_count": 12,
   "id": "f5b32c66-3db1-4f1d-8c11-ac54773aa59b",
   "metadata": {},
   "outputs": [
    {
     "name": "stdout",
     "output_type": "stream",
     "text": [
      "def my_function(a, b, c):\n",
      "    print(a + b + c)\n",
      "\n",
      "\n",
      "x = [1, 2, 3, 4]\n",
      "for i in x:\n",
      "    print(i)\n",
      "\n"
     ]
    }
   ],
   "source": [
    "with open(\"example.py\", \"r\") as file:\n",
    "    print(file.read())"
   ]
  }
 ],
 "metadata": {
  "kernelspec": {
   "display_name": "Python 3.11",
   "language": "python",
   "name": "python3.11"
  },
  "language_info": {
   "codemirror_mode": {
    "name": "ipython",
    "version": 3
   },
   "file_extension": ".py",
   "mimetype": "text/x-python",
   "name": "python",
   "nbconvert_exporter": "python",
   "pygments_lexer": "ipython3",
   "version": "3.11.9"
  }
 },
 "nbformat": 4,
 "nbformat_minor": 5
}
