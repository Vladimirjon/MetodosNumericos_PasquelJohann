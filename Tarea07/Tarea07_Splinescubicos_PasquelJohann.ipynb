{
 "cells": [
  {
   "cell_type": "raw",
   "id": "6e738f92-e1fc-4079-a448-d70f1d033bf2",
   "metadata": {},
   "source": [
    "---\n",
    "title: \"Tarea 07: Splines Cúbicos\"\n",
    "author: \"Pasquel Johann\"\n",
    "lang: es\n",
    "format:\n",
    "  pdf:\n",
    "    toc: true\n",
    "    toc-title: \"Tabla de Contenidos\"\n",
    "execute:\n",
    "  echo: true\n",
    "  error: false\n",
    "  warning: false\n",
    "  jupyter: python3.11\n",
    "---"
   ]
  },
  {
   "cell_type": "markdown",
   "id": "0997497f-1cdc-4b13-bbf7-b5f32510215d",
   "metadata": {},
   "source": [
    "# GITHUB"
   ]
  },
  {
   "cell_type": "markdown",
   "id": "51e130ff-af73-4761-a17f-1a98c6ccf8c3",
   "metadata": {},
   "source": [
    "https://github.com/Vladimirjon/MetodosNumericos_PasquelJohann"
   ]
  },
  {
   "cell_type": "markdown",
   "id": "4f4c03ad-f7d5-439b-8687-9deb0936d33e",
   "metadata": {},
   "source": [
    "# CONJUNTO DE EJERCICIOS "
   ]
  },
  {
   "cell_type": "markdown",
   "id": "39e4691f-ab02-4703-8b38-9ffbdaeac808",
   "metadata": {},
   "source": [
    "### 3. Completar la función del spline cúbico con frontera natural \n",
    "\n",
    "![Cubic Spline](img/FronteraNatural.jpg)"
   ]
  },
  {
   "cell_type": "code",
   "execution_count": 5,
   "id": "0e2246c6-bdb4-4645-8d11-53997438e08c",
   "metadata": {},
   "outputs": [],
   "source": [
    "import sympy as sym\n",
    "from IPython.display import display\n",
    "\n",
    "def cubic_spline(xs: list[float], ys: list[float]) -> list[sym.Symbol]:\n",
    "    \"\"\"\n",
    "    Cubic spline interpolation ``S``. Every two points are interpolated by a cubic polynomial\n",
    "    ``S_j`` of the form ``S_j(x) = a_j + b_j(x - x_j) + c_j(x - x_j)^2 + d_j(x - x_j)^3.``\n",
    "\n",
    "    xs must be different but not necessarily ordered nor equally spaced.\n",
    "\n",
    "    ## Parameters\n",
    "    - xs, ys: points to be interpolated\n",
    "\n",
    "    ## Return\n",
    "    - List of symbolic expressions for the cubic spline interpolation.\n",
    "    \"\"\"\n",
    "\n",
    "    points = sorted(zip(xs, ys), key=lambda x: x[0])  # sort points by x\n",
    "\n",
    "    xs = [x for x, _ in points]\n",
    "    ys = [y for _, y in points]\n",
    "\n",
    "    n = len(points) - 1  # number of splines\n",
    "\n",
    "    h = [xs[i + 1] - xs[i] for i in range(n)]  # distances between contiguous xs\n",
    "\n",
    "    alpha = [0] * (n + 1)\n",
    "    for i in range(1, n):\n",
    "        alpha[i] = 3 / h[i] * (ys[i + 1] - ys[i]) - 3 / h[i - 1] * (ys[i] - ys[i - 1])\n",
    "\n",
    "    l = [1] + [0] * n\n",
    "    u = [0] * (n + 1)\n",
    "    z = [0] * (n + 1)\n",
    "\n",
    "    for i in range(1, n):\n",
    "        l[i] = 2 * (xs[i + 1] - xs[i - 1]) - h[i - 1] * u[i - 1]\n",
    "        u[i] = h[i] / l[i]\n",
    "        z[i] = (alpha[i] - h[i - 1] * z[i - 1]) / l[i]\n",
    "\n",
    "    l[n] = 1\n",
    "    z[n] = 0\n",
    "    c = [0] * (n + 1)\n",
    "\n",
    "    x = sym.Symbol(\"x\")\n",
    "    splines = []\n",
    "    for j in range(n - 1, -1, -1):\n",
    "        c[j] = z[j] - u[j] * c[j + 1]\n",
    "        b = (ys[j + 1] - ys[j]) / h[j] - h[j] * (c[j + 1] + 2 * c[j]) / 3\n",
    "        d = (c[j + 1] - c[j]) / (3 * h[j])\n",
    "        a = ys[j]\n",
    "        print(j, a, b, c[j], d)\n",
    "        S = a + b * (x - xs[j]) + c[j] * (x - xs[j])**2 + d * (x - xs[j])**3\n",
    "\n",
    "        splines.append(S)\n",
    "    splines.reverse()\n",
    "    return splines"
   ]
  },
  {
   "cell_type": "markdown",
   "id": "9e37a582-68b9-4322-a656-5a9013ad0f59",
   "metadata": {},
   "source": [
    "1. Oderna los puntos $(x_i,y_i)$\n",
    "2. Calcula $h_i$ entre puntos consecutivos $(x_{i+1} - x_i)$\n",
    "3. Determina las diferencias entre $y_i$\n",
    "4. Resuelve el sitema: $l, u , z$\n",
    "5. Condiciones de frontera natural. Segundas derivadas en los extremos sean cero.\n",
    "6. Calcula los coeficientes $a,b,c,d$ para cada **spline**\n",
    "7. Construye los **splines**"
   ]
  },
  {
   "cell_type": "markdown",
   "id": "c57b8921-ccae-4847-bf0d-ff32130a55a4",
   "metadata": {},
   "source": [
    "### 4. Usando la función anterior, encuentre el spline cúbico para:"
   ]
  },
  {
   "cell_type": "code",
   "execution_count": 1,
   "id": "43ce2028-53ff-464b-b807-087e3a3fa6f4",
   "metadata": {},
   "outputs": [],
   "source": [
    "xs = [1, 2, 3]\n",
    "ys = [2, 3, 5]"
   ]
  },
  {
   "cell_type": "code",
   "execution_count": 6,
   "id": "fa53e400-b39f-4136-a61d-ca537fa4651e",
   "metadata": {},
   "outputs": [
    {
     "name": "stdout",
     "output_type": "stream",
     "text": [
      "1 3 1.5 0.75 -0.25\n",
      "0 2 0.75 0.0 0.25\n"
     ]
    }
   ],
   "source": [
    "splines_ejecicio4 = cubic_spline(xs, ys)"
   ]
  },
  {
   "cell_type": "code",
   "execution_count": 17,
   "id": "98d83f27-29bd-497e-8be4-fd152d462e59",
   "metadata": {},
   "outputs": [
    {
     "data": {
      "text/plain": [
       "[0.75*x + 0.25*(x - 1)**3 + 1.25, 1.5*x - 0.25*(x - 2)**3 + 0.75*(x - 2)**2]"
      ]
     },
     "execution_count": 17,
     "metadata": {},
     "output_type": "execute_result"
    }
   ],
   "source": [
    "splines_ejecicio4"
   ]
  },
  {
   "cell_type": "code",
   "execution_count": 22,
   "id": "7f5e77c7-b257-4a8a-ae01-ad764712b87a",
   "metadata": {},
   "outputs": [
    {
     "data": {
      "image/png": "[encoded data removed]",
      "text/plain": [
       "<Figure size 640x480 with 1 Axes>"
      ]
     },
     "metadata": {},
     "output_type": "display_data"
    }
   ],
   "source": [
    "import numpy as np\n",
    "import matplotlib.pyplot as plt\n",
    "\n",
    "# Graficar el spline\n",
    "plt.xlabel('x')\n",
    "plt.ylabel('y')\n",
    "plt.title('SPLINE')\n",
    "\n",
    "# Línea del spline\n",
    "plt.plot(x_vals, y_vals, label=\"Spline cúbico\")\n",
    "\n",
    "# Puntos originales en rojo\n",
    "plt.scatter(xs, ys, color='red', label=\"Puntos originales\")\n",
    "\n",
    "# Configurar límites y estética\n",
    "ax = plt.gca()\n",
    "ax.set_ylim([1, 6])\n",
    "ax.set_xlim([1, 3])\n",
    "plt.grid(True)\n",
    "plt.legend()\n",
    "\n",
    "# Mostrar el gráfico\n",
    "plt.show()\n"
   ]
  }
 ],
 "metadata": {
  "kernelspec": {
   "display_name": "Python 3.11",
   "language": "python",
   "name": "python3.11"
  },
  "language_info": {
   "codemirror_mode": {
    "name": "ipython",
    "version": 3
   },
   "file_extension": ".py",
   "mimetype": "text/x-python",
   "name": "python",
   "nbconvert_exporter": "python",
   "pygments_lexer": "ipython3",
   "version": "3.11.9"
  }
 },
 "nbformat": 4,
 "nbformat_minor": 5
}
