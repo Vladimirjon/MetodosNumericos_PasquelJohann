{
 "cells": [
  {
   "cell_type": "raw",
   "id": "9af187ea-4d3a-40ae-9637-21768d1f14b3",
   "metadata": {},
   "source": [
    "---\n",
    "title: \"Tarea 3 ALGORITMOS Y CONVERGENCIA\"\n",
    "author: \"Pasquel Johann\"\n",
    "lang: es\n",
    "format:\n",
    "  pdf:\n",
    "    toc: true\n",
    "    toc-title: \"Tabla de Contenidos\"\n",
    "execute:\n",
    "  echo: true\n",
    "  error: false\n",
    "  warning: false\n",
    "  jupyter: python3.11\n",
    "---"
   ]
  },
  {
   "cell_type": "markdown",
   "id": "3c962ae3-6465-4032-b9f6-6d21244b8ae9",
   "metadata": {},
   "source": [
    "# GITHUB"
   ]
  },
  {
   "cell_type": "markdown",
   "id": "be91eed7-1567-4748-8dc4-89a349110f08",
   "metadata": {},
   "source": [
    "https://github.com/Vladimirjon/MetodosNumericos_PasquelJohann\n",
    "\n"
   ]
  },
  {
   "cell_type": "markdown",
   "id": "ede603b1-16a6-46b1-9abf-4647a73a75e4",
   "metadata": {},
   "source": [
    "# CONJUNTO DE EJERCICIOS 1.3"
   ]
  },
  {
   "cell_type": "markdown",
   "id": "dfcd5840-94c6-4289-9542-e2b2b156b5ba",
   "metadata": {},
   "source": [
    "### 2. La Serie de Maclaurin para la función arcotangente converge para $-1<x<=1$ y está dada por:"
   ]
  },
  {
   "cell_type": "markdown",
   "id": "df249e85-859a-40b3-af96-6f6326a2ed6e",
   "metadata": {},
   "source": [
    "$$\n",
    "\\arctan x = \\lim_{n \\to \\infty} P_n(x) = \\lim_{n \\to \\infty} \\sum_{i=1}^n (-1)^{i+1} \\frac{x^{2i - 1}}{2i - 1}\n",
    "$$\n"
   ]
  },
  {
   "cell_type": "markdown",
   "id": "bfbe295f-040b-46ec-a329-af9f8f96c2a3",
   "metadata": {},
   "source": [
    "#### a. Utilice el hecho de que $\\tan \\frac{\\pi}{4} = 1$ para determinar el número $n$ de términos de la serie que se necesita sumar para garantizar que $\\left| 4P_n(1) - \\pi \\right| < 10^{-3}$\n"
   ]
  },
  {
   "cell_type": "markdown",
   "id": "aa9d44db-6fdd-4330-a73c-e698f7870b78",
   "metadata": {},
   "source": [
    "$4 \\cdot \\arctan(1) = \\pi$"
   ]
  },
  {
   "cell_type": "markdown",
   "id": "8030de36-85e2-4810-9803-5fae9ccb7633",
   "metadata": {},
   "source": [
    "$\\arctan(x) = \\sum_{i=1}^{n} (-1)^{i+1} \\frac{x^{2i - 1}}{2i - 1}$"
   ]
  },
  {
   "cell_type": "markdown",
   "id": "9712ea1a-d37a-43a3-a779-afd60f6bb279",
   "metadata": {},
   "source": [
    "$\\arctan(1) = \\sum_{i=1}^{n} (-1)^{i+1} \\frac{1}{2i - 1}$"
   ]
  },
  {
   "cell_type": "markdown",
   "id": "c334ae6a-171f-4aaf-b1a0-17dfa138f44f",
   "metadata": {},
   "source": [
    "$\\pi \\approx 4 \\sum_{i=1}^{n} (-1)^{i+1} \\frac{1}{2i - 1}$"
   ]
  },
  {
   "cell_type": "code",
   "execution_count": 3,
   "id": "b5a65737-1e69-4f1d-bdef-3bf90fc2faf3",
   "metadata": {},
   "outputs": [
    {
     "name": "stdout",
     "output_type": "stream",
     "text": [
      "Number of terms (n): 1000\n",
      "Approximation of pi: 3.140592653839794\n",
      "Actual value of pi: 3.141592653589793\n",
      "Absolute error: 0.000999999749998981\n"
     ]
    }
   ],
   "source": [
    "import math\n",
    "\n",
    "pi_exact = math.pi\n",
    "\n",
    "n = 1\n",
    "approximation = 0\n",
    "tolerance = 10**-3\n",
    "error = float('inf')\n",
    "\n",
    "while error >= tolerance:\n",
    "    term = (-1)**(n+1) / (2 * n - 1)\n",
    "    approximation += term  \n",
    "    pi_approx = 4 * approximation  \n",
    "    error = abs(pi_approx - pi_exact)\n",
    "    n += 1\n",
    "\n",
    "print(\"Number of terms (n):\", n - 1)  \n",
    "print(\"Approximation of pi:\", pi_approx)\n",
    "print(\"Actual value of pi:\", pi_exact)\n",
    "print(\"Absolute error:\", error)"
   ]
  },
  {
   "cell_type": "markdown",
   "id": "18cbcfbd-edf1-4a64-9e88-36fcf76c8d8e",
   "metadata": {},
   "source": [
    "#### b. El lenguaje de programación C++ requiere que el valor de $\\pi$ se encuentre dentro de $10^{-10}$ ¿Cuántos términos de la serie se necesitarían sumar para obtener este grado de precisión?\n"
   ]
  },
  {
   "cell_type": "markdown",
   "id": "c7e31d18-c16f-4e40-a7bb-aaf4cb6fd7c8",
   "metadata": {},
   "source": [
    "$4 \\cdot \\arctan(1) = \\pi$"
   ]
  },
  {
   "cell_type": "markdown",
   "id": "a261ad3d-578e-4a6d-a0fc-c081955a2609",
   "metadata": {},
   "source": [
    "$\\arctan(1) = \\sum_{i=1}^{n} (-1)^{i+1} \\frac{1}{2i - 1}$"
   ]
  },
  {
   "cell_type": "markdown",
   "id": "6edf86ec-f442-4111-805a-074d5b9856d9",
   "metadata": {},
   "source": [
    "$\\pi \\approx 4 \\sum_{i=1}^{n} (-1)^{i+1} \\frac{1}{2i - 1}$"
   ]
  },
  {
   "cell_type": "markdown",
   "id": "c5d77ae6-9fa3-4157-a2c7-5f36606b5d32",
   "metadata": {},
   "source": [
    "$\\left| 4 P_n(1) - \\pi \\right| < 10^{-10}$"
   ]
  },
  {
   "cell_type": "code",
   "execution_count": 5,
   "id": "c36e4524-4cee-4aa6-afc0-5b0fe02c38b0",
   "metadata": {},
   "outputs": [
    {
     "name": "stdout",
     "output_type": "stream",
     "text": [
      "Reached maximum iterations before meeting tolerance.\n",
      "Number of terms (n): 100000\n",
      "Approximation of pi: 3.1415826535897198\n",
      "Actual value of pi: 3.141592653589793\n",
      "Absolute error: 1.0000000073340232e-05\n"
     ]
    }
   ],
   "source": [
    "import math\n",
    "\n",
    "pi_exact = math.pi\n",
    "\n",
    "n = 1\n",
    "approximation = 0\n",
    "tolerance = 10**-10\n",
    "error = float('inf')\n",
    "max_iterations = 100000  \n",
    "\n",
    "while error >= tolerance and n <= max_iterations:\n",
    "    term = (-1)**(n+1) / (2 * n - 1)\n",
    "    approximation += term  \n",
    "    pi_approx = 4 * approximation  \n",
    "    error = abs(pi_approx - pi_exact)  \n",
    "    n += 1\n",
    "\n",
    "if n > max_iterations:\n",
    "    print(\"Reached maximum iterations before meeting tolerance.\")\n",
    "else:\n",
    "    print(\"Tolerance met.\")\n",
    "\n",
    "print(\"Number of terms (n):\", n - 1)  \n",
    "print(\"Approximation of pi:\", pi_approx)\n",
    "print(\"Actual value of pi:\", pi_exact)\n",
    "print(\"Absolute error:\", error)\n"
   ]
  },
  {
   "cell_type": "markdown",
   "id": "6b11ee3a-9fce-4132-ba4e-845ddce3d410",
   "metadata": {},
   "source": [
    "### 3. Otra fórmula para calcular $\\pi$ se puede deducir a partir de la identidad $\\frac{\\pi}{4} = 4 \\arctan \\frac{1}{5} - \\arctan \\frac{1}{239}$. Determine el número de términos que se deben sumar para garantizar una aproximación de $\\pi$ dentro de $10^{-3}$.\n"
   ]
  },
  {
   "cell_type": "markdown",
   "id": "fc509b38-deac-4bb4-8b88-7dad9b1cba96",
   "metadata": {},
   "source": [
    "$$\n",
    "\\pi \\approx 16 \\sum_{i=1}^{n} (-1)^{i+1} \\frac{\\left( \\frac{1}{5} \\right)^{2i - 1}}{2i - 1} - 4 \\sum_{i=1}^{n} (-1)^{i+1} \\frac{\\left( \\frac{1}{239} \\right)^{2i - 1}}{2i - 1}\n",
    "$$\n"
   ]
  },
  {
   "cell_type": "code",
   "execution_count": 6,
   "id": "6444b86c-fa28-4ba2-8c9c-10502e940d10",
   "metadata": {},
   "outputs": [
    {
     "name": "stdout",
     "output_type": "stream",
     "text": [
      "Number of terms (n): 2\n",
      "Approximation of pi: 3.1405970293260603\n",
      "Actual value of pi: 3.141592653589793\n",
      "Absolute error: 0.0009956242637327861\n"
     ]
    }
   ],
   "source": [
    "import math\n",
    "\n",
    "pi_exact = math.pi\n",
    "\n",
    "tolerance = 10**-3\n",
    "error = float('inf')\n",
    "n = 1\n",
    "arctan_1_5_approx = 0\n",
    "arctan_1_239_approx = 0\n",
    "\n",
    "while error >= tolerance:\n",
    "    term_1_5 = (-1)**(n+1) * (1/5)**(2 * n - 1) / (2 * n - 1)\n",
    "    arctan_1_5_approx += term_1_5\n",
    "\n",
    "    term_1_239 = (-1)**(n+1) * (1/239)**(2 * n - 1) / (2 * n - 1)\n",
    "    arctan_1_239_approx += term_1_239\n",
    "\n",
    "    pi_approx = 16 * arctan_1_5_approx - 4 * arctan_1_239_approx\n",
    "\n",
    "    error = abs(pi_approx - pi_exact)\n",
    "\n",
    "    n += 1\n",
    "\n",
    "print(\"Number of terms (n):\", n - 1)  \n",
    "print(\"Approximation of pi:\", pi_approx)\n",
    "print(\"Actual value of pi:\", pi_exact)\n",
    "print(\"Absolute error:\", error)\n"
   ]
  },
  {
   "cell_type": "markdown",
   "id": "18a34fd8-37f1-4a60-b7b7-767500e2ce89",
   "metadata": {},
   "source": [
    "### 5.a. ¿Cuántas multiplicaciones y sumas se requieren para determinar una suma de la forma $\\sum_{i=1}^n \\sum_{j=1}^i a_i b_j$?"
   ]
  },
  {
   "cell_type": "markdown",
   "id": "6bc3c070-45ae-430e-99a5-0da2b59596ed",
   "metadata": {
    "jp-MarkdownHeadingCollapsed": true
   },
   "source": [
    "$$\\sum_{i=1}^n \\sum_{j=1}^i a_i b_j$$\n",
    "\n",
    "* Multiplicaciones\n",
    "$$\\sum_{i=1}^n i = \\frac{n(n+1)}{2}$$\n",
    "\n",
    "* Sumas\n",
    "$$\\sum_{i=1}^n (i - 1) = \\sum_{i=1}^n i - \\sum_{i=1}^n 1 = \\frac{n(n+1)}{2} - n = \\frac{n(n-1)}{2}$$\n",
    "\n",
    "**Total Multiplicaciones**: $\\frac{n(n+1)}{2}$\n",
    "\n",
    "**Total Sumas**: $\\frac{n(n-1)}{2}$"
   ]
  },
  {
   "cell_type": "markdown",
   "id": "6e4305f7-471e-4b26-b169-a86137401b0e",
   "metadata": {},
   "source": [
    "### 5.b. Modifique la suma en la parte a) a un formato equivalente que reduzca el número de cálculos."
   ]
  },
  {
   "cell_type": "markdown",
   "id": "9311bf33-8cfb-4c30-adbc-634101499ffa",
   "metadata": {},
   "source": [
    "Se puede escribir:\n",
    "\n",
    "$$\\sum_{i=1}^n \\sum_{j=1}^i a_i b_j = \\sum_{i=1}^n a_i \\left( \\sum_{j=1}^i b_j \\right)$$\n",
    "\n",
    "#### Optimización\n",
    "\n",
    "$\\sum_{j=1}^i b_j$\n",
    "\n",
    "Multiplicamos para cada $a_i$ necesitando $n$ multiplicaciones\n",
    "\n",
    "#### Total de Operaciones\n",
    "\n",
    "- **Multiplicaciones**: $n$\n",
    "- **Sumas**: $2n - 2$\n"
   ]
  },
  {
   "cell_type": "markdown",
   "id": "151a1b9d-f86d-401e-a27d-cc53d6ed12ee",
   "metadata": {},
   "source": [
    "# DISCUSIONES"
   ]
  },
  {
   "cell_type": "markdown",
   "id": "f68cdcc4-b617-4cc9-94bb-4eda18da4b60",
   "metadata": {},
   "source": [
    "### 2. Las ecuaciones (1.2) y (1.3) en la sección 1.2 proporcionan formas alternativas para las raíces $x_1$ y $x_2$ de $ ax^2 + bx + c = 0$. Construya un algoritmo con entrada $a$, $b$, $c$ y salida $x_1$, $x_2$ que calcule las raíces $x_1$ y $x_2$ (que pueden ser iguales con conjugados complejos) mediante la mejor fórmula para cada raíz.\n"
   ]
  },
  {
   "cell_type": "code",
   "execution_count": 8,
   "id": "e4c58e7b-b25f-4ca8-8c16-00958dacde85",
   "metadata": {},
   "outputs": [
    {
     "name": "stdin",
     "output_type": "stream",
     "text": [
      "Introduce a:  2\n",
      "Introduce b:  4\n",
      "Introduce c:  -9\n"
     ]
    },
    {
     "name": "stdout",
     "output_type": "stream",
     "text": [
      "Raíz x1: (-3.345207879911715+0j)\n",
      "Raíz x2: (1.3452078799117146-0j)\n"
     ]
    }
   ],
   "source": [
    "import cmath\n",
    "\n",
    "def calcular_raices(a, b, c):\n",
    "    D = b**2 - 4 * a * c\n",
    "    raiz_D = cmath.sqrt(D)\n",
    "    \n",
    "    if b >= 0:\n",
    "        x1 = (-b - raiz_D) / (2 * a)\n",
    "        x2 = (2 * c) / (-b - raiz_D)\n",
    "    else:\n",
    "        x1 = (-b + raiz_D) / (2 * a)\n",
    "        x2 = (2 * c) / (-b + raiz_D)\n",
    "    \n",
    "    return x1, x2\n",
    "\n",
    "a = float(input(\"Introduce a: \"))\n",
    "b = float(input(\"Introduce b: \"))\n",
    "c = float(input(\"Introduce c: \"))\n",
    "\n",
    "x1, x2 = calcular_raices(a, b, c)\n",
    "print(\"Raíz x1:\", x1)\n",
    "print(\"Raíz x2:\", x2)\n"
   ]
  },
  {
   "cell_type": "markdown",
   "id": "f0f5e228-0c2f-477f-8c4f-dd588cb0ff08",
   "metadata": {},
   "source": [
    "# ALGORITMOS"
   ]
  },
  {
   "cell_type": "markdown",
   "id": "350f71c8-3929-441c-973a-47dcd6f89497",
   "metadata": {},
   "source": [
    "### Algoritmo 01"
   ]
  },
  {
   "cell_type": "markdown",
   "id": "0650c68f-442a-4f88-9f66-fdecf680b969",
   "metadata": {},
   "source": [
    "**Pseudocódigo**\n",
    "\n",
    "ENTRADA $N,x_1,x_2,...,x_n$\n",
    "\n",
    "SALIDA\n",
    "\n",
    "Paso 1 \n",
    "\n",
    "Tome $SUM = 0$ (Inicialize el acumulador.)\n",
    "\n",
    "Paso 2 \n",
    "\n",
    "Para $i = 1,2,...N$ hacer\n",
    "\n",
    "Tome $SUM = SUM + x_i$ (Añadir el siguiente término.)\n",
    "\n",
    "Paso 3\n",
    "\n",
    "$SALIDA (SUM)$\n",
    "\n",
    "$PARE$"
   ]
  },
  {
   "cell_type": "code",
   "execution_count": 9,
   "id": "ba69cbc7-d641-40a3-a8fa-217d2f0d6441",
   "metadata": {},
   "outputs": [
    {
     "name": "stdout",
     "output_type": "stream",
     "text": [
      "La suma es: 25\n"
     ]
    }
   ],
   "source": [
    "def suma(n, x):\n",
    "    sumatoria = 0\n",
    "    for i in range(n):\n",
    "        sumatoria += x[i]\n",
    "    return sumatoria\n",
    "\n",
    "valores = [3, 5, 7, 10]  \n",
    "n = len(valores)\n",
    "resultado = suma(n, valores)\n",
    "print(\"La suma es:\", resultado)"
   ]
  },
  {
   "cell_type": "markdown",
   "id": "75591e8e-0d2e-4bc4-a952-415880e0d606",
   "metadata": {},
   "source": [
    "### Algoritmo 02"
   ]
  },
  {
   "cell_type": "markdown",
   "id": "ffea9503-88ba-4c5e-bfe1-89302bc9ed05",
   "metadata": {},
   "source": [
    "- ARRAY \\( a[0..n] \\)\n",
    "- FOR \\( i = 0..n \\)\n",
    "  - swapped = false\n",
    "  - FOR \\( j = 1..n-i \\)\n",
    "    - IF \\( a[j] < a[j-1] \\)\n",
    "      - swap(a, j, j-1)\n",
    "      - swapped = true\n",
    "    - END-IF\n",
    "  - END-FOR\n",
    "  - IF \\( \\neg \\)swapped\n",
    "    - break\n",
    "  - END-IF\n",
    "- END-FOR\n"
   ]
  },
  {
   "cell_type": "code",
   "execution_count": 10,
   "id": "21b10d98-c351-4273-9673-569a03630739",
   "metadata": {},
   "outputs": [
    {
     "data": {
      "text/plain": [
       "[3, 4, 6, 6, 8, 9]"
      ]
     },
     "execution_count": 10,
     "metadata": {},
     "output_type": "execute_result"
    }
   ],
   "source": [
    "def algoritmo2(array):\n",
    "    n = len(array)\n",
    "    for i in range(n):\n",
    "        swapped = False\n",
    "        for j in range (1,n-i):\n",
    "            if array[j] < array[j-1]:\n",
    "                array[j],array[j-1] = array[j-1],array[j]\n",
    "                swapped = True\n",
    "        if not swapped:\n",
    "            break\n",
    "\n",
    "ejemplo = [8,6,4,3,6,9]\n",
    "algoritmo2(ejemplo)\n",
    "ejemplo"
   ]
  },
  {
   "cell_type": "markdown",
   "id": "fbea6c2a-e58f-448c-8fa5-5be89b8874cd",
   "metadata": {},
   "source": [
    "### Algoritmo 03"
   ]
  },
  {
   "cell_type": "markdown",
   "id": "502a886c-a051-4ce7-b792-b0b90710ccaf",
   "metadata": {},
   "source": [
    "**Pseudocódigo:**\n",
    "\n",
    "```plaintext\n",
    "procedure iterative (n: nonnegative integer)\n",
    "    if n = 0 then\n",
    "        return 0\n",
    "    else\n",
    "        x := 0\n",
    "        y := 1\n",
    "        for i := 1 to n - 1\n",
    "            z := x + y\n",
    "            x := y\n",
    "            y := z\n",
    "        return y\n"
   ]
  },
  {
   "cell_type": "code",
   "execution_count": 12,
   "id": "53f95d0a-36e6-4ae3-a3c1-edaaf125c946",
   "metadata": {},
   "outputs": [
    {
     "name": "stdin",
     "output_type": "stream",
     "text": [
      "Introduce un número entero no negativo:  15\n"
     ]
    },
    {
     "name": "stdout",
     "output_type": "stream",
     "text": [
      "El número de Fibonacci es: 610\n"
     ]
    }
   ],
   "source": [
    "def iterativo(n):\n",
    "    if n == 0:\n",
    "        return 0\n",
    "    else:\n",
    "        x = 0\n",
    "        y = 1\n",
    "        i = 1\n",
    "        while i <= n - 1:\n",
    "            z = x + y\n",
    "            x = y\n",
    "            y = z\n",
    "            i += 1\n",
    "        return y\n",
    "\n",
    "n = int(input(\"Introduce un número entero no negativo: \"))\n",
    "resultado = iterativo(n)\n",
    "print(\"El número de Fibonacci es:\", resultado)\n"
   ]
  },
  {
   "cell_type": "markdown",
   "id": "08ae10ff-db51-41c3-a375-3ad0e4d4b4b9",
   "metadata": {},
   "source": [
    "### Algoritmo 04"
   ]
  },
  {
   "cell_type": "markdown",
   "id": "6bc96bef-ee9b-4e7c-9f65-17e763b8a0e8",
   "metadata": {},
   "source": [
    "**¿A qué valor converge?**\n",
    "\n",
    "$$\\sum_{n=1}^{\\infty} \\frac{1}{n}$$\n"
   ]
  },
  {
   "cell_type": "code",
   "execution_count": 13,
   "id": "9c8163fd-6250-4547-bb3c-ab663421cfc1",
   "metadata": {},
   "outputs": [
    {
     "name": "stdin",
     "output_type": "stream",
     "text": [
      "Introduce el número de términos a sumar:  5\n"
     ]
    },
    {
     "name": "stdout",
     "output_type": "stream",
     "text": [
      "La suma de los primeros 5 términos es: 2.283333333333333\n"
     ]
    }
   ],
   "source": [
    "def serie_armonica(n):\n",
    "    suma = 0\n",
    "    for i in range(1, n + 1):\n",
    "        suma += 1 / i\n",
    "    return suma\n",
    "\n",
    "n = int(input(\"Introduce el número de términos a sumar: \"))\n",
    "resultado = serie_armonica(n)\n",
    "print(f\"La suma de los primeros {n} términos es: {resultado}\")\n"
   ]
  }
 ],
 "metadata": {
  "kernelspec": {
   "display_name": "Python 3.11",
   "language": "python",
   "name": "python3.11"
  },
  "language_info": {
   "codemirror_mode": {
    "name": "ipython",
    "version": 3
   },
   "file_extension": ".py",
   "mimetype": "text/x-python",
   "name": "python",
   "nbconvert_exporter": "python",
   "pygments_lexer": "ipython3",
   "version": "3.11.9"
  }
 },
 "nbformat": 4,
 "nbformat_minor": 5
}
