{
 "cells": [
  {
   "cell_type": "markdown",
   "metadata": {},
   "source": [
    "# TALLER [04] MN\n",
    "## Pasquel Johann\n",
    "**Quito, 2024-12-14**"
   ]
  },
  {
   "cell_type": "code",
   "execution_count": 4,
   "metadata": {},
   "outputs": [],
   "source": [
    "p1 = (5.4, 3.2)\n",
    "p2_i = (9.5, 0.7)\n",
    "p3 = (12.3, -3.6)"
   ]
  },
  {
   "cell_type": "code",
   "execution_count": 13,
   "metadata": {},
   "outputs": [
    {
     "data": {
      "application/vnd.jupyter.widget-view+json": {
       "model_id": "a976c2955fba4ce1a5456301cc690af1",
       "version_major": 2,
       "version_minor": 0
      },
      "text/plain": [
       "interactive(children=(FloatSlider(value=8.9, description='p2_x', max=12.3, min=5.5), FloatSlider(value=0.0, de…"
      ]
     },
     "metadata": {},
     "output_type": "display_data"
    }
   ],
   "source": [
    "from ipywidgets import interact\n",
    "import matplotlib.pyplot as plt\n",
    "import numpy as np\n",
    "\n",
    "\n",
    "def update_plot(p2_x, p2_y):\n",
    "    points = np.array([\n",
    "        [p1[0], p1[1]],\n",
    "        [p2_x, p2_y],\n",
    "        [p3[0], p3[1]],\n",
    "    ])\n",
    "    coeficientes = np.polyfit(points[:, 0], points[:, 1], 1)\n",
    "    m,b = coeficientes    \n",
    "    print(f\"Pendiente (m): {m:.4f}, Intersección (b): {b:.4f}\")\n",
    "    \n",
    "\n",
    "    plt.figure(figsize=(10, 6))\n",
    "    plt.scatter(points[:, 0], points[:, 1], color=\"red\", label=\"Puntos\")\n",
    "    \n",
    "\n",
    "    x_line = np.linspace(min(points[:, 0]), max(points[:, 0]), 200)\n",
    "    y_line = m * x_line + b\n",
    "    plt.plot(x_line, y_line, color=\"blue\", label=f\"y = {m:.4f}x + {b:.4f}\")\n",
    "    \n",
    "    plt.xlabel(\"X\")\n",
    "    plt.ylabel(\"Y\")\n",
    "    plt.legend()\n",
    "    plt.grid(True)\n",
    "    plt.show()\n",
    "\n",
    "_ = interact(update_plot, p2_x=(5.5, 12.3, 0.1), p2_y=(-10.0, 10.0, 0.1))"
   ]
  }
 ],
 "metadata": {
  "kernelspec": {
   "display_name": "Python 3",
   "language": "python",
   "name": "python3"
  },
  "language_info": {
   "codemirror_mode": {
    "name": "ipython",
    "version": 3
   },
   "file_extension": ".py",
   "mimetype": "text/x-python",
   "name": "python",
   "nbconvert_exporter": "python",
   "pygments_lexer": "ipython3",
   "version": "3.13.0"
  }
 },
 "nbformat": 4,
 "nbformat_minor": 2
}
